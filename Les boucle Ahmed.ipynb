{
 "cells": [
  {
   "cell_type": "code",
   "execution_count": 2,
   "id": "ce5fa0dd",
   "metadata": {},
   "outputs": [
    {
     "name": "stdout",
     "output_type": "stream",
     "text": [
      "The value of i is:  0\n",
      "The value of i is:  1\n",
      "The value of i is:  2\n",
      "The value of i is:  3\n",
      "The value of i is:  4\n"
     ]
    }
   ],
   "source": [
    "for i in [0,1,2,3,4]:\n",
    "    print(\"The value of i is: \",i)"
   ]
  },
  {
   "cell_type": "code",
   "execution_count": 3,
   "id": "4ced7921",
   "metadata": {},
   "outputs": [
    {
     "name": "stdout",
     "output_type": "stream",
     "text": [
      "The value of i is:  0\n",
      "The value of i is:  1\n",
      "The value of i is:  2\n",
      "The value of i is:  3\n",
      "The value of i is:  4\n"
     ]
    }
   ],
   "source": [
    "for i in range(5):\n",
    "    print('The value of i is: ',i)"
   ]
  },
  {
   "cell_type": "code",
   "execution_count": 8,
   "id": "97cc823b",
   "metadata": {},
   "outputs": [
    {
     "name": "stdout",
     "output_type": "stream",
     "text": [
      "5\n",
      "i vaut 0 et c[ 0 ] vaut Mark\n",
      "i vaut 1 et c[ 1 ] vaut est\n",
      "i vaut 2 et c[ 2 ] vaut dans\n",
      "i vaut 3 et c[ 3 ] vaut le\n",
      "i vaut 4 et c[ 4 ] vaut jardin\n"
     ]
    }
   ],
   "source": [
    "c=['Mark','est','dans','le','jardin']\n",
    "print(len(c))\n",
    "for i in range(len(c)):\n",
    "    print('i vaut',i,'et c[',i,'] vaut',c[i])"
   ]
  },
  {
   "cell_type": "code",
   "execution_count": 9,
   "id": "79c172a9",
   "metadata": {},
   "outputs": [],
   "source": [
    "# Now check the while loop "
   ]
  },
  {
   "cell_type": "code",
   "execution_count": 11,
   "id": "f1505701",
   "metadata": {},
   "outputs": [
    {
     "name": "stdout",
     "output_type": "stream",
     "text": [
      "The value of x is:  1\n",
      "The value of x is:  2\n",
      "The value of x is:  4\n",
      "The value of x is:  8\n",
      "end of loop\n"
     ]
    }
   ],
   "source": [
    "x=1\n",
    "while x < 10:\n",
    "    print('The value of x is: ',x)\n",
    "    x = x * 2\n",
    "print('end of loop')"
   ]
  },
  {
   "cell_type": "code",
   "execution_count": 10,
   "id": "48614591",
   "metadata": {},
   "outputs": [
    {
     "name": "stdout",
     "output_type": "stream",
     "text": [
      "2 est un nombre premier\n",
      "3 est un nombre premier\n",
      "4 egale 2 * 2.0\n",
      "5 est un nombre premier\n",
      "6 egale 2 * 3.0\n",
      "7 est un nombre premier\n"
     ]
    }
   ],
   "source": [
    "for n in range(2,8):\n",
    "    #print('n= ',n)\n",
    "    for x in range(2,n):\n",
    "        #print('x= ',x,'n= ',n)\n",
    "        if n % x == 0:\n",
    "            print(n, \"egale\", x, \"*\", n/x)\n",
    "            break\n",
    "    else:\n",
    "        print(n, \"est un nombre premier\")"
   ]
  },
  {
   "cell_type": "code",
   "execution_count": 14,
   "id": "8fbf03ec",
   "metadata": {},
   "outputs": [
    {
     "name": "stdout",
     "output_type": "stream",
     "text": [
      "1,2,3,4,5,6,7,8,9,\n",
      "1,2,3,4,5,6,7,8,9,\n",
      "1,2,3,4,5,6,7,8,9,\n"
     ]
    }
   ],
   "source": [
    "for x in range (3):\n",
    "    for y in range (1,10):\n",
    "        print(y,end=',')\n",
    "    print()"
   ]
  },
  {
   "cell_type": "code",
   "execution_count": 15,
   "id": "55e3b897",
   "metadata": {},
   "outputs": [
    {
     "name": "stdout",
     "output_type": "stream",
     "text": [
      "Enter the number of rows: 5\n",
      "Enter the number of columns: 10\n",
      "Enter a symbol to use: @\n",
      "@ @ @ @ @ @ @ @ @ @ \n",
      "@ @ @ @ @ @ @ @ @ @ \n",
      "@ @ @ @ @ @ @ @ @ @ \n",
      "@ @ @ @ @ @ @ @ @ @ \n",
      "@ @ @ @ @ @ @ @ @ @ \n"
     ]
    }
   ],
   "source": [
    "rows = int(input('Enter the number of rows: '))\n",
    "columns = int(input('Enter the number of columns: '))\n",
    "symbol = input('Enter a symbol to use: ')\n",
    "for x in range (rows):\n",
    "    for y in range (columns):\n",
    "        print(symbol,end=' ')\n",
    "    print()"
   ]
  },
  {
   "cell_type": "code",
   "execution_count": 45,
   "id": "f9cbe5fa",
   "metadata": {},
   "outputs": [
    {
     "name": "stdout",
     "output_type": "stream",
     "text": [
      "donnez un entier > 0 : -1\n",
      "vous avez fourni -1\n",
      "donnez un entier > 0 : 0\n",
      "vous avez fourni 0\n",
      "donnez un entier > 0 : 7\n",
      "vous avez fourni 7\n",
      "reponse correcte\n"
     ]
    }
   ],
   "source": [
    "while True:\n",
    "    n = int(input(\"donnez un entier > 0 : \"))\n",
    "    print(\"vous avez fourni\", n)\n",
    "    if n > 0:\n",
    "        break\n",
    "print(\"reponse correcte\")"
   ]
  },
  {
   "cell_type": "code",
   "execution_count": 18,
   "id": "cb74e0c0",
   "metadata": {},
   "outputs": [
    {
     "name": "stdout",
     "output_type": "stream",
     "text": [
      "H\n",
      "e\n",
      "l\n",
      "l\n",
      "o\n",
      " \n",
      "y\n",
      "o\n",
      "u\n"
     ]
    }
   ],
   "source": [
    "v = \"Hello you\"\n",
    "for letter in v:\n",
    "    print(letter)"
   ]
  },
  {
   "cell_type": "code",
   "execution_count": 23,
   "id": "08c4045e",
   "metadata": {},
   "outputs": [
    {
     "name": "stdout",
     "output_type": "stream",
     "text": [
      "5\n",
      "4\n",
      "3\n",
      "2\n",
      "1\n",
      "0\n",
      "-1\n",
      "-2\n",
      "-3\n",
      "-4\n",
      "-5\n"
     ]
    }
   ],
   "source": [
    "for u in range (5,-6,-1):\n",
    "    print(u)"
   ]
  },
  {
   "cell_type": "code",
   "execution_count": 35,
   "id": "bc8542b2",
   "metadata": {},
   "outputs": [],
   "source": [
    "# STEP 1\n",
    "def main():\n",
    "    print(\"« Bienvenue dans le jeu de la dichotomie ! »\")\n",
    "    \n",
    "    return 0\n"
   ]
  },
  {
   "cell_type": "code",
   "execution_count": 36,
   "id": "eb7c2a63",
   "metadata": {},
   "outputs": [
    {
     "name": "stdout",
     "output_type": "stream",
     "text": [
      "« Bienvenue dans le jeu de la dichotomie ! »\n"
     ]
    },
    {
     "data": {
      "text/plain": [
       "0"
      ]
     },
     "execution_count": 36,
     "metadata": {},
     "output_type": "execute_result"
    }
   ],
   "source": [
    "main()"
   ]
  },
  {
   "cell_type": "code",
   "execution_count": 41,
   "id": "0bb738de",
   "metadata": {},
   "outputs": [],
   "source": [
    "# STEP 2\n",
    "def main():\n",
    "    print(\"« Bienvenue dans le jeu de la dichotomie ! »\") \n",
    "    userName = input(\"Quele est votre nom: \")\n",
    "    "
   ]
  },
  {
   "cell_type": "code",
   "execution_count": 42,
   "id": "c24784d6",
   "metadata": {},
   "outputs": [
    {
     "name": "stdout",
     "output_type": "stream",
     "text": [
      "« Bienvenue dans le jeu de la dichotomie ! »\n",
      "Quele est votre nom: Ahmed\n"
     ]
    }
   ],
   "source": [
    "main()"
   ]
  },
  {
   "cell_type": "code",
   "execution_count": 49,
   "id": "ca20ed47",
   "metadata": {},
   "outputs": [],
   "source": [
    "# STEP 3\n",
    "def main():\n",
    "    print(\"« Bienvenue dans le jeu de la dichotomie ! »\") \n",
    "    userName = input(\"Quele est votre nom: \")\n",
    "    minValue = 0\n",
    "    maxValue = 100\n",
    "    print(userName,\" pense à un nombre entre \",minValue,\" et\", maxValue)\n",
    "    "
   ]
  },
  {
   "cell_type": "code",
   "execution_count": 50,
   "id": "daf8a456",
   "metadata": {},
   "outputs": [
    {
     "name": "stdout",
     "output_type": "stream",
     "text": [
      "« Bienvenue dans le jeu de la dichotomie ! »\n",
      "Quele est votre nom: Ahmed\n",
      "Ahmed  pense à un nombre entre  0  et 100\n"
     ]
    }
   ],
   "source": [
    "main()"
   ]
  },
  {
   "cell_type": "code",
   "execution_count": 113,
   "id": "c230f26a",
   "metadata": {},
   "outputs": [],
   "source": [
    "# STEP 4\n",
    "def main():\n",
    "    print(\"« Bienvenue dans le jeu de la dichotomie ! »\") \n",
    "    userName = input(\"Quele est votre nom: \")\n",
    "    minValue = 0\n",
    "    maxValue = 100\n",
    "    i = 0\n",
    "    reponse = \"+\"\n",
    "    print(userName,\" pense à un nombre entre \",minValue,\" et\", maxValue)\n",
    "    while reponse != \"=\":\n",
    "        millieu = int((maxValue + minValue)/2)\n",
    "        \n",
    "        reponse = input ('Est-ce votre nombre est plus grand, plus petit ou égal à ' +millieu+ ' ? [+/-/=]')\n",
    "        i=i+1\n",
    "        if reponse == \"+\":\n",
    "            minValue = millieu\n",
    "            \n",
    "        elif reponse == \"-\":\n",
    "            maxValue = millieu\n",
    "           \n",
    "    print (\"J'ai trouvé en \",i,\" questions !\")\n",
    "    return 0\n",
    "                         "
   ]
  },
  {
   "cell_type": "code",
   "execution_count": 114,
   "id": "43f4e136",
   "metadata": {},
   "outputs": [
    {
     "name": "stdout",
     "output_type": "stream",
     "text": [
      "« Bienvenue dans le jeu de la dichotomie ! »\n",
      "Quele est votre nom: Ahmed\n",
      "Ahmed  pense à un nombre entre  0  et 100\n"
     ]
    },
    {
     "ename": "TypeError",
     "evalue": "can only concatenate str (not \"int\") to str",
     "output_type": "error",
     "traceback": [
      "\u001b[1;31m---------------------------------------------------------------------------\u001b[0m",
      "\u001b[1;31mTypeError\u001b[0m                                 Traceback (most recent call last)",
      "Cell \u001b[1;32mIn[114], line 1\u001b[0m\n\u001b[1;32m----> 1\u001b[0m main()\n",
      "Cell \u001b[1;32mIn[113], line 13\u001b[0m, in \u001b[0;36mmain\u001b[1;34m()\u001b[0m\n\u001b[0;32m     10\u001b[0m \u001b[38;5;28;01mwhile\u001b[39;00m reponse \u001b[38;5;241m!=\u001b[39m \u001b[38;5;124m\"\u001b[39m\u001b[38;5;124m=\u001b[39m\u001b[38;5;124m\"\u001b[39m:\n\u001b[0;32m     11\u001b[0m     millieu \u001b[38;5;241m=\u001b[39m \u001b[38;5;28mint\u001b[39m((maxValue \u001b[38;5;241m+\u001b[39m minValue)\u001b[38;5;241m/\u001b[39m\u001b[38;5;241m2\u001b[39m)\n\u001b[1;32m---> 13\u001b[0m     reponse \u001b[38;5;241m=\u001b[39m \u001b[38;5;28minput\u001b[39m (\u001b[38;5;124m'\u001b[39m\u001b[38;5;124mEst-ce votre nombre est plus grand, plus petit ou égal à \u001b[39m\u001b[38;5;124m'\u001b[39m \u001b[38;5;241m+\u001b[39mmillieu\u001b[38;5;241m+\u001b[39m \u001b[38;5;124m'\u001b[39m\u001b[38;5;124m ? [+/-/=]\u001b[39m\u001b[38;5;124m'\u001b[39m)\n\u001b[0;32m     14\u001b[0m     i\u001b[38;5;241m=\u001b[39mi\u001b[38;5;241m+\u001b[39m\u001b[38;5;241m1\u001b[39m\n\u001b[0;32m     15\u001b[0m     \u001b[38;5;28;01mif\u001b[39;00m reponse \u001b[38;5;241m==\u001b[39m \u001b[38;5;124m\"\u001b[39m\u001b[38;5;124m+\u001b[39m\u001b[38;5;124m\"\u001b[39m:\n",
      "\u001b[1;31mTypeError\u001b[0m: can only concatenate str (not \"int\") to str"
     ]
    }
   ],
   "source": [
    "main()"
   ]
  },
  {
   "cell_type": "code",
   "execution_count": null,
   "id": "d9396a92",
   "metadata": {},
   "outputs": [],
   "source": []
  }
 ],
 "metadata": {
  "kernelspec": {
   "display_name": "Python 3 (ipykernel)",
   "language": "python",
   "name": "python3"
  },
  "language_info": {
   "codemirror_mode": {
    "name": "ipython",
    "version": 3
   },
   "file_extension": ".py",
   "mimetype": "text/x-python",
   "name": "python",
   "nbconvert_exporter": "python",
   "pygments_lexer": "ipython3",
   "version": "3.11.5"
  }
 },
 "nbformat": 4,
 "nbformat_minor": 5
}
