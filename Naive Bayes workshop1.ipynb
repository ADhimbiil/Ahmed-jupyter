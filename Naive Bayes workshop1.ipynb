{
 "cells": [
  {
   "cell_type": "code",
   "execution_count": 1,
   "id": "13633ad3-8f96-46b1-a3ff-61db5bb2a80c",
   "metadata": {},
   "outputs": [],
   "source": [
    "import numpy as np\n",
    "import matplotlib.pyplot as plt\n",
    "import pandas as pd\n",
    "import seaborn as sns"
   ]
  },
  {
   "cell_type": "code",
   "execution_count": 2,
   "id": "60c674ce-aaf8-40ea-ab5d-9a846fff32a1",
   "metadata": {},
   "outputs": [
    {
     "data": {
      "text/html": [
       "<div>\n",
       "<style scoped>\n",
       "    .dataframe tbody tr th:only-of-type {\n",
       "        vertical-align: middle;\n",
       "    }\n",
       "\n",
       "    .dataframe tbody tr th {\n",
       "        vertical-align: top;\n",
       "    }\n",
       "\n",
       "    .dataframe thead th {\n",
       "        text-align: right;\n",
       "    }\n",
       "</style>\n",
       "<table border=\"1\" class=\"dataframe\">\n",
       "  <thead>\n",
       "    <tr style=\"text-align: right;\">\n",
       "      <th></th>\n",
       "      <th>5.1</th>\n",
       "      <th>3.5</th>\n",
       "      <th>1.4</th>\n",
       "      <th>0.2</th>\n",
       "      <th>Iris-setosa</th>\n",
       "    </tr>\n",
       "  </thead>\n",
       "  <tbody>\n",
       "    <tr>\n",
       "      <th>0</th>\n",
       "      <td>4.9</td>\n",
       "      <td>3.0</td>\n",
       "      <td>1.4</td>\n",
       "      <td>0.2</td>\n",
       "      <td>Iris-setosa</td>\n",
       "    </tr>\n",
       "    <tr>\n",
       "      <th>1</th>\n",
       "      <td>4.7</td>\n",
       "      <td>3.2</td>\n",
       "      <td>1.3</td>\n",
       "      <td>0.2</td>\n",
       "      <td>Iris-setosa</td>\n",
       "    </tr>\n",
       "    <tr>\n",
       "      <th>2</th>\n",
       "      <td>4.6</td>\n",
       "      <td>3.1</td>\n",
       "      <td>1.5</td>\n",
       "      <td>0.2</td>\n",
       "      <td>Iris-setosa</td>\n",
       "    </tr>\n",
       "    <tr>\n",
       "      <th>3</th>\n",
       "      <td>5.0</td>\n",
       "      <td>3.6</td>\n",
       "      <td>1.4</td>\n",
       "      <td>0.2</td>\n",
       "      <td>Iris-setosa</td>\n",
       "    </tr>\n",
       "    <tr>\n",
       "      <th>4</th>\n",
       "      <td>5.4</td>\n",
       "      <td>3.9</td>\n",
       "      <td>1.7</td>\n",
       "      <td>0.4</td>\n",
       "      <td>Iris-setosa</td>\n",
       "    </tr>\n",
       "  </tbody>\n",
       "</table>\n",
       "</div>"
      ],
      "text/plain": [
       "   5.1  3.5  1.4  0.2  Iris-setosa\n",
       "0  4.9  3.0  1.4  0.2  Iris-setosa\n",
       "1  4.7  3.2  1.3  0.2  Iris-setosa\n",
       "2  4.6  3.1  1.5  0.2  Iris-setosa\n",
       "3  5.0  3.6  1.4  0.2  Iris-setosa\n",
       "4  5.4  3.9  1.7  0.4  Iris-setosa"
      ]
     },
     "execution_count": 2,
     "metadata": {},
     "output_type": "execute_result"
    }
   ],
   "source": [
    "iris_df = pd.read_csv('https://raw.githubusercontent.com/jbrownlee/Datasets/master/iris.csv')\n",
    "iris_df.head()"
   ]
  },
  {
   "cell_type": "code",
   "execution_count": 41,
   "id": "29536355-91f2-466a-ad3e-5d009411ddda",
   "metadata": {},
   "outputs": [],
   "source": [
    "# Step 1\n",
    "\n",
    "# Split the dataset by class values, returns a dictionary\n",
    "def separate_by_class(dataset):\n",
    "    separated = dict()\n",
    "    for i in range(len(dataset)):\n",
    "        vector = dataset[i]\n",
    "        class_value = vector[-1]\n",
    "        if (class_value not in separated):\n",
    "            separated[class_value]=list()\n",
    "        separated[class_value].append(vector)\n",
    "    return separated\n"
   ]
  },
  {
   "cell_type": "code",
   "execution_count": 42,
   "id": "e5166b4f-d0f3-4260-9954-1d2b55857ad5",
   "metadata": {},
   "outputs": [
    {
     "name": "stdout",
     "output_type": "stream",
     "text": [
      "0\n",
      "[3.393533211, 2.331273381, 0]\n",
      "[3.110073483, 1.781539638, 0]\n",
      "[1.343808831, 3.368360954, 0]\n",
      "[3.582294042, 4.67917911, 0]\n",
      "[2.280362439, 2.866990263, 0]\n",
      "1\n",
      "[7.423436942, 4.696522875, 1]\n",
      "[5.745051997, 3.533989803, 1]\n",
      "[9.172168622, 2.511101045, 1]\n",
      "[7.792783481, 3.424088941, 1]\n",
      "[7.939820817, 0.791637231, 1]\n"
     ]
    }
   ],
   "source": [
    "# Test separating data by class\n",
    "dataset = [[3.393533211, 2.331273381,0],\n",
    "           [3.110073483, 1.781539638,0],\n",
    "           [1.343808831, 3.368360954,0],\n",
    "           [3.582294042, 4.67917911,0],\n",
    "           [2.280362439, 2.866990263,0],\n",
    "           [7.423436942, 4.696522875,1],\n",
    "           [5.745051997, 3.533989803,1],\n",
    "           [9.172168622, 2.511101045,1],\n",
    "           [7.792783481, 3.424088941,1],\n",
    "           [7.939820817, 0.791637231,1]]\n",
    "separated = separate_by_class(dataset)\n",
    "for label in separated:\n",
    "    print(label)\n",
    "    for row in separated[label]:\n",
    "        print(row)"
   ]
  },
  {
   "cell_type": "code",
   "execution_count": 43,
   "id": "2f760632-294d-4be3-9e53-fe0e5f0801e8",
   "metadata": {},
   "outputs": [
    {
     "data": {
      "text/plain": [
       "{0: [[3.393533211, 2.331273381, 0],\n",
       "  [3.110073483, 1.781539638, 0],\n",
       "  [1.343808831, 3.368360954, 0],\n",
       "  [3.582294042, 4.67917911, 0],\n",
       "  [2.280362439, 2.866990263, 0]],\n",
       " 1: [[7.423436942, 4.696522875, 1],\n",
       "  [5.745051997, 3.533989803, 1],\n",
       "  [9.172168622, 2.511101045, 1],\n",
       "  [7.792783481, 3.424088941, 1],\n",
       "  [7.939820817, 0.791637231, 1]]}"
      ]
     },
     "execution_count": 43,
     "metadata": {},
     "output_type": "execute_result"
    }
   ],
   "source": [
    "separate_by_class(dataset)"
   ]
  },
  {
   "cell_type": "code",
   "execution_count": 48,
   "id": "3d5f0ef5-c866-4f13-9402-4bcf5a940e39",
   "metadata": {},
   "outputs": [],
   "source": [
    "# Step 2\n",
    "\n",
    "# Example of summarizing a dataset\n",
    "from math import sqrt\n",
    "\n",
    "# Calculate the mean of a list of numbers\n",
    "def mean(numbers):\n",
    "    return sum(numbers)/float(len(numbers))\n",
    "\n",
    "# Calculate the standard deviation of a list of numbers\n",
    "def stdev(numbers):\n",
    "    avg = mean(numbers)\n",
    "    variance = sum([(x-avg)**2 for x in numbers])/ float(len(numbers)-1)\n",
    "    return sqrt(variance)\n",
    "\n",
    "# Calculate the mean, stdev and count for each column in a dataset\n",
    "def summarize_dataset(dataset):\n",
    "    summaries = [(mean(column), stdev(column), len(column)) for column in zip(*dataset)]\n",
    "    del(summaries[-1])\n",
    "    return summaries"
   ]
  },
  {
   "cell_type": "code",
   "execution_count": 49,
   "id": "30b48bfb-b564-477d-9708-e5c8bbfa66ce",
   "metadata": {},
   "outputs": [
    {
     "data": {
      "text/plain": [
       "[[3.393533211, 2.331273381, 0],\n",
       " [3.110073483, 1.781539638, 0],\n",
       " [1.343808831, 3.368360954, 0],\n",
       " [3.582294042, 4.67917911, 0],\n",
       " [2.280362439, 2.866990263, 0],\n",
       " [7.423436942, 4.696522875, 1],\n",
       " [5.745051997, 3.533989803, 1],\n",
       " [9.172168622, 2.511101045, 1],\n",
       " [7.792783481, 3.424088941, 1],\n",
       " [7.939820817, 0.791637231, 1]]"
      ]
     },
     "execution_count": 49,
     "metadata": {},
     "output_type": "execute_result"
    }
   ],
   "source": [
    "dataset"
   ]
  },
  {
   "cell_type": "code",
   "execution_count": 50,
   "id": "9a97f474-e868-4286-a773-e60cb9ed9b9e",
   "metadata": {},
   "outputs": [
    {
     "name": "stdout",
     "output_type": "stream",
     "text": [
      "[(5.178333386499999, 2.7665845055177263, 10), (2.9984683241, 1.218556343617447, 10)]\n"
     ]
    }
   ],
   "source": [
    "summary = summarize_dataset(dataset)\n",
    "print(summary)"
   ]
  },
  {
   "cell_type": "code",
   "execution_count": 56,
   "id": "a727f1ec-4e26-46ff-a33e-732822c4668c",
   "metadata": {},
   "outputs": [
    {
     "name": "stdout",
     "output_type": "stream",
     "text": [
      "0\n",
      "(2.7420144012, 0.9265683289298018, 5)\n",
      "(3.0054686692, 1.1073295894898725, 5)\n",
      "1\n",
      "(7.6146523718, 1.2344321550313704, 5)\n",
      "(2.9914679790000003, 1.4541931384601618, 5)\n"
     ]
    }
   ],
   "source": [
    "# Step 3\n",
    "\n",
    "# Split dataset by class then calculate statistics for each row\n",
    "def summarize_by_class(dataset):\n",
    "    separated = separate_by_class(dataset)\n",
    "    summaries = dict()\n",
    "    for class_value, rows in separated.items():\n",
    "        summaries[class_value] = summarize_dataset(rows)\n",
    "    return summaries\n",
    "\n",
    "# Test summarizing by class\n",
    "dataset = [[3.393533211, 2.331273381,0],\n",
    "           [3.110073483, 1.781539638,0],\n",
    "           [1.343808831, 3.368360954,0],\n",
    "           [3.582294042, 4.67917911,0],\n",
    "           [2.280362439, 2.866990263,0],\n",
    "           [7.423436942, 4.696522875,1],\n",
    "           [5.745051997, 3.533989803,1],\n",
    "           [9.172168622, 2.511101045,1],\n",
    "           [7.792783481, 3.424088941,1],\n",
    "           [7.939820817, 0.791637231,1]]\n",
    "summary = summarize_by_class(dataset)\n",
    "for label in summary:\n",
    "    print(label)\n",
    "    for row in summary[label]:\n",
    "        print(row)"
   ]
  },
  {
   "cell_type": "code",
   "execution_count": 57,
   "id": "0bf9f642-7e13-4f47-9de6-6bb51c01f282",
   "metadata": {},
   "outputs": [
    {
     "name": "stdout",
     "output_type": "stream",
     "text": [
      "0.3989422804014327\n",
      "0.24197072451914337\n",
      "0.24197072451914337\n"
     ]
    }
   ],
   "source": [
    "# Step 4\n",
    "\n",
    "# Example of Gaussian PDF\n",
    "from math import sqrt\n",
    "from math import pi\n",
    "from math import exp\n",
    " \n",
    "# Calculate the Gaussian probability distribution function for x\n",
    "def calculate_probability(x, mean, stdev):\n",
    " exponent = exp(-((x-mean)**2 / (2 * stdev**2 )))\n",
    " return (1 / (sqrt(2 * pi) * stdev)) * exponent\n",
    " \n",
    "# Test Gaussian PDF\n",
    "print(calculate_probability(1.0, 1.0, 1.0))\n",
    "print(calculate_probability(2.0, 1.0, 1.0))\n",
    "print(calculate_probability(0.0, 1.0, 1.0))"
   ]
  },
  {
   "cell_type": "code",
   "execution_count": 59,
   "id": "0b568ac3-a5ef-4f46-837b-aaf074a8bd3a",
   "metadata": {},
   "outputs": [
    {
     "name": "stdout",
     "output_type": "stream",
     "text": [
      "{0: 0.5, 1: 0.00011557718379945765}\n"
     ]
    }
   ],
   "source": [
    "# Step 5\n",
    "\n",
    "# Calculate the probabilities of predicting each class for a given row\n",
    "def calculate_class_probabilities(summaries, row):\n",
    "    total_rows = sum([summaries[label][0][2] for label in summaries])\n",
    "    probabilities = dict()\n",
    "    for class_value, class_summaries in summaries.items():\n",
    "        probabilities[class_value] = summaries[class_value][0][2]/float(total_rows)\n",
    "    for i in range(len(class_summaries)):\n",
    "        mean, stdev, count = class_summaries[i]\n",
    "        probabilities[class_value] *= calculate_probability(row[i], mean, stdev)\n",
    "    return probabilities\n",
    "\n",
    "# Test calculating class probabilities\n",
    "dataset = [[3.393533211, 2.331273381,0],\n",
    "           [3.110073483, 1.781539638,0],\n",
    "           [1.343808831, 3.368360954,0],\n",
    "           [3.582294042, 4.67917911,0],\n",
    "           [2.280362439, 2.866990263,0],\n",
    "           [7.423436942, 4.696522875,1],\n",
    "           [5.745051997, 3.533989803,1],\n",
    "           [9.172168622, 2.511101045,1],\n",
    "           [7.792783481, 3.424088941,1],\n",
    "           [7.939820817, 0.791637231,1]]\n",
    "summaries = summarize_by_class(dataset)\n",
    "probabilities = calculate_class_probabilities(summaries, dataset[0])\n",
    "print(probabilities)"
   ]
  },
  {
   "cell_type": "code",
   "execution_count": null,
   "id": "50b7c224-f317-4a7a-8a70-3114172c3057",
   "metadata": {},
   "outputs": [],
   "source": []
  }
 ],
 "metadata": {
  "kernelspec": {
   "display_name": "Python 3 (ipykernel)",
   "language": "python",
   "name": "python3"
  },
  "language_info": {
   "codemirror_mode": {
    "name": "ipython",
    "version": 3
   },
   "file_extension": ".py",
   "mimetype": "text/x-python",
   "name": "python",
   "nbconvert_exporter": "python",
   "pygments_lexer": "ipython3",
   "version": "3.10.0"
  }
 },
 "nbformat": 4,
 "nbformat_minor": 5
}
