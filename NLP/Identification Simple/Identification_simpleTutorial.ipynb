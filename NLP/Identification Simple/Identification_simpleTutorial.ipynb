{
 "cells": [
  {
   "cell_type": "code",
   "execution_count": 1,
   "id": "a46c46c8-1c03-4445-baeb-a7f58af49f99",
   "metadata": {},
   "outputs": [
    {
     "name": "stdout",
     "output_type": "stream",
     "text": [
      "Collecting spacyNote: you may need to restart the kernel to use updated packages.\n",
      "\n",
      "  Downloading spacy-3.7.4-cp310-cp310-win_amd64.whl.metadata (27 kB)\n",
      "Collecting spacy-legacy<3.1.0,>=3.0.11 (from spacy)\n",
      "  Downloading spacy_legacy-3.0.12-py2.py3-none-any.whl.metadata (2.8 kB)\n",
      "Collecting spacy-loggers<2.0.0,>=1.0.0 (from spacy)\n",
      "  Downloading spacy_loggers-1.0.5-py3-none-any.whl.metadata (23 kB)\n",
      "Collecting murmurhash<1.1.0,>=0.28.0 (from spacy)\n",
      "  Downloading murmurhash-1.0.10-cp310-cp310-win_amd64.whl.metadata (2.0 kB)\n",
      "Collecting cymem<2.1.0,>=2.0.2 (from spacy)\n",
      "  Downloading cymem-2.0.8-cp310-cp310-win_amd64.whl.metadata (8.6 kB)\n",
      "Collecting preshed<3.1.0,>=3.0.2 (from spacy)\n",
      "  Downloading preshed-3.0.9-cp310-cp310-win_amd64.whl.metadata (2.2 kB)\n",
      "Collecting thinc<8.3.0,>=8.2.2 (from spacy)\n",
      "  Downloading thinc-8.2.3-cp310-cp310-win_amd64.whl.metadata (15 kB)\n",
      "Collecting wasabi<1.2.0,>=0.9.1 (from spacy)\n",
      "  Downloading wasabi-1.1.2-py3-none-any.whl.metadata (28 kB)\n",
      "Collecting srsly<3.0.0,>=2.4.3 (from spacy)\n",
      "  Downloading srsly-2.4.8-cp310-cp310-win_amd64.whl.metadata (20 kB)\n",
      "Collecting catalogue<2.1.0,>=2.0.6 (from spacy)\n",
      "  Downloading catalogue-2.0.10-py3-none-any.whl.metadata (14 kB)\n",
      "Collecting weasel<0.4.0,>=0.1.0 (from spacy)\n",
      "  Downloading weasel-0.3.4-py3-none-any.whl.metadata (4.7 kB)\n",
      "Collecting typer<0.10.0,>=0.3.0 (from spacy)\n",
      "  Downloading typer-0.9.4-py3-none-any.whl.metadata (14 kB)\n",
      "Collecting smart-open<7.0.0,>=5.2.1 (from spacy)\n",
      "  Downloading smart_open-6.4.0-py3-none-any.whl.metadata (21 kB)\n",
      "Requirement already satisfied: tqdm<5.0.0,>=4.38.0 in c:\\users\\dhimb\\anaconda3\\envs\\codeah\\lib\\site-packages (from spacy) (4.66.2)\n",
      "Requirement already satisfied: requests<3.0.0,>=2.13.0 in c:\\users\\dhimb\\anaconda3\\envs\\codeah\\lib\\site-packages (from spacy) (2.31.0)\n",
      "Requirement already satisfied: pydantic!=1.8,!=1.8.1,<3.0.0,>=1.7.4 in c:\\users\\dhimb\\anaconda3\\envs\\codeah\\lib\\site-packages (from spacy) (2.5.3)\n",
      "Requirement already satisfied: jinja2 in c:\\users\\dhimb\\anaconda3\\envs\\codeah\\lib\\site-packages (from spacy) (3.1.2)\n",
      "Requirement already satisfied: setuptools in c:\\users\\dhimb\\anaconda3\\envs\\codeah\\lib\\site-packages (from spacy) (68.0.0)\n",
      "Requirement already satisfied: packaging>=20.0 in c:\\users\\dhimb\\anaconda3\\envs\\codeah\\lib\\site-packages (from spacy) (23.1)\n",
      "Collecting langcodes<4.0.0,>=3.2.0 (from spacy)\n",
      "  Downloading langcodes-3.3.0-py3-none-any.whl.metadata (29 kB)\n",
      "Requirement already satisfied: numpy>=1.19.0 in c:\\users\\dhimb\\anaconda3\\envs\\codeah\\lib\\site-packages (from spacy) (1.26.0)\n",
      "Requirement already satisfied: annotated-types>=0.4.0 in c:\\users\\dhimb\\anaconda3\\envs\\codeah\\lib\\site-packages (from pydantic!=1.8,!=1.8.1,<3.0.0,>=1.7.4->spacy) (0.6.0)\n",
      "Requirement already satisfied: pydantic-core==2.14.6 in c:\\users\\dhimb\\anaconda3\\envs\\codeah\\lib\\site-packages (from pydantic!=1.8,!=1.8.1,<3.0.0,>=1.7.4->spacy) (2.14.6)\n",
      "Requirement already satisfied: typing-extensions>=4.6.1 in c:\\users\\dhimb\\anaconda3\\envs\\codeah\\lib\\site-packages (from pydantic!=1.8,!=1.8.1,<3.0.0,>=1.7.4->spacy) (4.10.0)\n",
      "Requirement already satisfied: charset-normalizer<4,>=2 in c:\\users\\dhimb\\anaconda3\\envs\\codeah\\lib\\site-packages (from requests<3.0.0,>=2.13.0->spacy) (2.0.4)\n",
      "Requirement already satisfied: idna<4,>=2.5 in c:\\users\\dhimb\\anaconda3\\envs\\codeah\\lib\\site-packages (from requests<3.0.0,>=2.13.0->spacy) (3.4)\n",
      "Requirement already satisfied: urllib3<3,>=1.21.1 in c:\\users\\dhimb\\anaconda3\\envs\\codeah\\lib\\site-packages (from requests<3.0.0,>=2.13.0->spacy) (1.26.18)\n",
      "Requirement already satisfied: certifi>=2017.4.17 in c:\\users\\dhimb\\anaconda3\\envs\\codeah\\lib\\site-packages (from requests<3.0.0,>=2.13.0->spacy) (2024.2.2)\n",
      "Collecting blis<0.8.0,>=0.7.8 (from thinc<8.3.0,>=8.2.2->spacy)\n",
      "  Downloading blis-0.7.11-cp310-cp310-win_amd64.whl.metadata (7.6 kB)\n",
      "Collecting confection<1.0.0,>=0.0.1 (from thinc<8.3.0,>=8.2.2->spacy)\n",
      "  Downloading confection-0.1.4-py3-none-any.whl.metadata (19 kB)\n",
      "Requirement already satisfied: colorama in c:\\users\\dhimb\\anaconda3\\envs\\codeah\\lib\\site-packages (from tqdm<5.0.0,>=4.38.0->spacy) (0.4.6)\n",
      "Requirement already satisfied: click<9.0.0,>=7.1.1 in c:\\users\\dhimb\\anaconda3\\envs\\codeah\\lib\\site-packages (from typer<0.10.0,>=0.3.0->spacy) (8.1.7)\n",
      "Collecting cloudpathlib<0.17.0,>=0.7.0 (from weasel<0.4.0,>=0.1.0->spacy)\n",
      "  Downloading cloudpathlib-0.16.0-py3-none-any.whl.metadata (14 kB)\n",
      "Requirement already satisfied: MarkupSafe>=2.0 in c:\\users\\dhimb\\anaconda3\\envs\\codeah\\lib\\site-packages (from jinja2->spacy) (2.1.1)\n",
      "Downloading spacy-3.7.4-cp310-cp310-win_amd64.whl (12.1 MB)\n",
      "   ---------------------------------------- 0.0/12.1 MB ? eta -:--:--\n",
      "   -- ------------------------------------- 0.9/12.1 MB 18.7 MB/s eta 0:00:01\n",
      "   ----------------- ---------------------- 5.2/12.1 MB 30.1 MB/s eta 0:00:01\n",
      "   ---------------------- ----------------- 6.9/12.1 MB 31.6 MB/s eta 0:00:01\n",
      "   --------------------------- ------------ 8.4/12.1 MB 31.6 MB/s eta 0:00:01\n",
      "   --------------------------------- ------ 10.1/12.1 MB 32.2 MB/s eta 0:00:01\n",
      "   -------------------------------------- - 11.6/12.1 MB 34.4 MB/s eta 0:00:01\n",
      "   ---------------------------------------  12.1/12.1 MB 34.4 MB/s eta 0:00:01\n",
      "   ---------------------------------------  12.1/12.1 MB 34.4 MB/s eta 0:00:01\n",
      "   ---------------------------------------  12.1/12.1 MB 34.4 MB/s eta 0:00:01\n",
      "   ---------------------------------------  12.1/12.1 MB 34.4 MB/s eta 0:00:01\n",
      "   ---------------------------------------  12.1/12.1 MB 34.4 MB/s eta 0:00:01\n",
      "   ---------------------------------------  12.1/12.1 MB 34.4 MB/s eta 0:00:01\n",
      "   ---------------------------------------  12.1/12.1 MB 34.4 MB/s eta 0:00:01\n",
      "   ---------------------------------------  12.1/12.1 MB 34.4 MB/s eta 0:00:01\n",
      "   ---------------------------------------  12.1/12.1 MB 34.4 MB/s eta 0:00:01\n",
      "   ---------------------------------------  12.1/12.1 MB 34.4 MB/s eta 0:00:01\n",
      "   ---------------------------------------  12.1/12.1 MB 34.4 MB/s eta 0:00:01\n",
      "   ---------------------------------------- 12.1/12.1 MB 11.7 MB/s eta 0:00:00\n",
      "Downloading catalogue-2.0.10-py3-none-any.whl (17 kB)\n",
      "Downloading cymem-2.0.8-cp310-cp310-win_amd64.whl (39 kB)\n",
      "Downloading langcodes-3.3.0-py3-none-any.whl (181 kB)\n",
      "   ---------------------------------------- 0.0/181.6 kB ? eta -:--:--\n",
      "   -------------------------------------- - 174.1/181.6 kB ? eta -:--:--\n",
      "   -------------------------------------- - 174.1/181.6 kB ? eta -:--:--\n",
      "   -------------------------------------- - 174.1/181.6 kB ? eta -:--:--\n",
      "   ---------------------------------------- 181.6/181.6 kB 1.1 MB/s eta 0:00:00\n",
      "Downloading murmurhash-1.0.10-cp310-cp310-win_amd64.whl (25 kB)\n",
      "Downloading preshed-3.0.9-cp310-cp310-win_amd64.whl (122 kB)\n",
      "   ---------------------------------------- 0.0/122.2 kB ? eta -:--:--\n",
      "   ------------------------------------ --- 112.6/122.2 kB ? eta -:--:--\n",
      "   ------------------------------------ --- 112.6/122.2 kB ? eta -:--:--\n",
      "   ------------------------------------ --- 112.6/122.2 kB ? eta -:--:--\n",
      "   -------------------------------------- 122.2/122.2 kB 799.9 kB/s eta 0:00:00\n",
      "Downloading smart_open-6.4.0-py3-none-any.whl (57 kB)\n",
      "   ---------------------------------------- 0.0/57.0 kB ? eta -:--:--\n",
      "   ----------------------------------- ---- 51.2/57.0 kB ? eta -:--:--\n",
      "   ----------------------------------- ---- 51.2/57.0 kB ? eta -:--:--\n",
      "   ---------------------------------------- 57.0/57.0 kB 374.5 kB/s eta 0:00:00\n",
      "Downloading spacy_legacy-3.0.12-py2.py3-none-any.whl (29 kB)\n",
      "Downloading spacy_loggers-1.0.5-py3-none-any.whl (22 kB)\n",
      "Downloading srsly-2.4.8-cp310-cp310-win_amd64.whl (481 kB)\n",
      "   ---------------------------------------- 0.0/481.9 kB ? eta -:--:--\n",
      "   ---------------------------------------  481.3/481.9 kB ? eta -:--:--\n",
      "   ---------------------------------------  481.3/481.9 kB ? eta -:--:--\n",
      "   ---------------------------------------  481.3/481.9 kB ? eta -:--:--\n",
      "   ---------------------------------------- 481.9/481.9 kB 3.0 MB/s eta 0:00:00\n",
      "Downloading thinc-8.2.3-cp310-cp310-win_amd64.whl (1.5 MB)\n",
      "   ---------------------------------------- 0.0/1.5 MB ? eta -:--:--\n",
      "   ---------------------------------------  1.5/1.5 MB 47.2 MB/s eta 0:00:01\n",
      "   ---------------------------------------  1.5/1.5 MB 47.2 MB/s eta 0:00:01\n",
      "   ---------------------------------------  1.5/1.5 MB 47.2 MB/s eta 0:00:01\n",
      "   ---------------------------------------  1.5/1.5 MB 47.2 MB/s eta 0:00:01\n",
      "   ---------------------------------------  1.5/1.5 MB 47.2 MB/s eta 0:00:01\n",
      "   ---------------------------------------  1.5/1.5 MB 47.2 MB/s eta 0:00:01\n",
      "   ---------------------------------------- 1.5/1.5 MB 5.0 MB/s eta 0:00:00\n",
      "Downloading typer-0.9.4-py3-none-any.whl (45 kB)\n",
      "   ---------------------------------------- 0.0/46.0 kB ? eta -:--:--\n",
      "   ----------------------------------- ---- 41.0/46.0 kB ? eta -:--:--\n",
      "   ----------------------------------- ---- 41.0/46.0 kB ? eta -:--:--\n",
      "   ----------------------------------- ---- 41.0/46.0 kB ? eta -:--:--\n",
      "   ---------------------------------------- 46.0/46.0 kB 207.7 kB/s eta 0:00:00\n",
      "Downloading wasabi-1.1.2-py3-none-any.whl (27 kB)\n",
      "Downloading weasel-0.3.4-py3-none-any.whl (50 kB)\n",
      "   ---------------------------------------- 0.0/50.1 kB ? eta -:--:--\n",
      "   -------------------------------- ------- 41.0/50.1 kB ? eta -:--:--\n",
      "   -------------------------------- ------- 41.0/50.1 kB ? eta -:--:--\n",
      "   ---------------------------------------- 50.1/50.1 kB 365.8 kB/s eta 0:00:00\n",
      "Downloading blis-0.7.11-cp310-cp310-win_amd64.whl (6.6 MB)\n",
      "   ---------------------------------------- 0.0/6.6 MB ? eta -:--:--\n",
      "   ------------ --------------------------- 2.0/6.6 MB 65.1 MB/s eta 0:00:01\n",
      "   --------------------- ------------------ 3.5/6.6 MB 45.0 MB/s eta 0:00:01\n",
      "   -------------------------------- ------- 5.4/6.6 MB 42.8 MB/s eta 0:00:01\n",
      "   ---------------------------------------  6.6/6.6 MB 38.4 MB/s eta 0:00:01\n",
      "   ---------------------------------------  6.6/6.6 MB 38.4 MB/s eta 0:00:01\n",
      "   ---------------------------------------  6.6/6.6 MB 38.4 MB/s eta 0:00:01\n",
      "   ---------------------------------------  6.6/6.6 MB 38.4 MB/s eta 0:00:01\n",
      "   ---------------------------------------- 6.6/6.6 MB 18.4 MB/s eta 0:00:00\n",
      "Downloading cloudpathlib-0.16.0-py3-none-any.whl (45 kB)\n",
      "   ---------------------------------------- 0.0/45.0 kB ? eta -:--:--\n",
      "   ------------------------------------ --- 41.0/45.0 kB ? eta -:--:--\n",
      "   ------------------------------------ --- 41.0/45.0 kB ? eta -:--:--\n",
      "   ---------------------------------------- 45.0/45.0 kB 319.1 kB/s eta 0:00:00\n",
      "Downloading confection-0.1.4-py3-none-any.whl (35 kB)\n",
      "Installing collected packages: cymem, wasabi, spacy-loggers, spacy-legacy, smart-open, murmurhash, langcodes, cloudpathlib, catalogue, blis, typer, srsly, preshed, confection, weasel, thinc, spacy\n",
      "Successfully installed blis-0.7.11 catalogue-2.0.10 cloudpathlib-0.16.0 confection-0.1.4 cymem-2.0.8 langcodes-3.3.0 murmurhash-1.0.10 preshed-3.0.9 smart-open-6.4.0 spacy-3.7.4 spacy-legacy-3.0.12 spacy-loggers-1.0.5 srsly-2.4.8 thinc-8.2.3 typer-0.9.4 wasabi-1.1.2 weasel-0.3.4\n"
     ]
    }
   ],
   "source": [
    "pip install -U spacy"
   ]
  },
  {
   "cell_type": "code",
   "execution_count": 7,
   "id": "a3fcbd91-8ab5-446a-b94d-ce8b2a8a2322",
   "metadata": {},
   "outputs": [
    {
     "name": "stdout",
     "output_type": "stream",
     "text": [
      "Collecting en-core-web-sm==3.7.1\n",
      "  Downloading https://github.com/explosion/spacy-models/releases/download/en_core_web_sm-3.7.1/en_core_web_sm-3.7.1-py3-none-any.whl (12.8 MB)\n",
      "     ---------------------------------------- 0.0/12.8 MB ? eta -:--:--\n",
      "     -- ------------------------------------- 0.6/12.8 MB 13.5 MB/s eta 0:00:01\n",
      "     ------- -------------------------------- 2.3/12.8 MB 24.4 MB/s eta 0:00:01\n",
      "     ------------ --------------------------- 4.1/12.8 MB 29.3 MB/s eta 0:00:01\n",
      "     ------------------- -------------------- 6.2/12.8 MB 33.0 MB/s eta 0:00:01\n",
      "     ------------------------ --------------- 8.0/12.8 MB 33.9 MB/s eta 0:00:01\n",
      "     ------------------------------ --------- 9.7/12.8 MB 34.6 MB/s eta 0:00:01\n",
      "     ------------------------------- ------- 10.5/12.8 MB 38.5 MB/s eta 0:00:01\n",
      "     ----------------------------------- --- 11.7/12.8 MB 34.4 MB/s eta 0:00:01\n",
      "     --------------------------------------  12.8/12.8 MB 36.4 MB/s eta 0:00:01\n",
      "     --------------------------------------  12.8/12.8 MB 36.4 MB/s eta 0:00:01\n",
      "     --------------------------------------  12.8/12.8 MB 36.4 MB/s eta 0:00:01\n",
      "     --------------------------------------  12.8/12.8 MB 36.4 MB/s eta 0:00:01\n",
      "     --------------------------------------  12.8/12.8 MB 36.4 MB/s eta 0:00:01\n",
      "     --------------------------------------  12.8/12.8 MB 36.4 MB/s eta 0:00:01\n",
      "     --------------------------------------  12.8/12.8 MB 36.4 MB/s eta 0:00:01\n",
      "     --------------------------------------  12.8/12.8 MB 36.4 MB/s eta 0:00:01\n",
      "     --------------------------------------  12.8/12.8 MB 36.4 MB/s eta 0:00:01\n",
      "     --------------------------------------  12.8/12.8 MB 36.4 MB/s eta 0:00:01\n",
      "     --------------------------------------  12.8/12.8 MB 36.4 MB/s eta 0:00:01\n",
      "     --------------------------------------  12.8/12.8 MB 36.4 MB/s eta 0:00:01\n",
      "     --------------------------------------  12.8/12.8 MB 36.4 MB/s eta 0:00:01\n",
      "     --------------------------------------  12.8/12.8 MB 36.4 MB/s eta 0:00:01\n",
      "     --------------------------------------  12.8/12.8 MB 36.4 MB/s eta 0:00:01\n",
      "     --------------------------------------  12.8/12.8 MB 36.4 MB/s eta 0:00:01\n",
      "     --------------------------------------  12.8/12.8 MB 36.4 MB/s eta 0:00:01\n",
      "     ---------------------------------------- 12.8/12.8 MB 9.5 MB/s eta 0:00:00\n",
      "Requirement already satisfied: spacy<3.8.0,>=3.7.2 in c:\\users\\dhimb\\anaconda3\\envs\\codeah\\lib\\site-packages (from en-core-web-sm==3.7.1) (3.7.2)\n",
      "Requirement already satisfied: spacy-legacy<3.1.0,>=3.0.11 in c:\\users\\dhimb\\anaconda3\\envs\\codeah\\lib\\site-packages (from spacy<3.8.0,>=3.7.2->en-core-web-sm==3.7.1) (3.0.12)\n",
      "Requirement already satisfied: spacy-loggers<2.0.0,>=1.0.0 in c:\\users\\dhimb\\anaconda3\\envs\\codeah\\lib\\site-packages (from spacy<3.8.0,>=3.7.2->en-core-web-sm==3.7.1) (1.0.4)\n",
      "Requirement already satisfied: murmurhash<1.1.0,>=0.28.0 in c:\\users\\dhimb\\anaconda3\\envs\\codeah\\lib\\site-packages (from spacy<3.8.0,>=3.7.2->en-core-web-sm==3.7.1) (1.0.10)\n",
      "Requirement already satisfied: cymem<2.1.0,>=2.0.2 in c:\\users\\dhimb\\anaconda3\\envs\\codeah\\lib\\site-packages (from spacy<3.8.0,>=3.7.2->en-core-web-sm==3.7.1) (2.0.6)\n",
      "Requirement already satisfied: preshed<3.1.0,>=3.0.2 in c:\\users\\dhimb\\anaconda3\\envs\\codeah\\lib\\site-packages (from spacy<3.8.0,>=3.7.2->en-core-web-sm==3.7.1) (3.0.6)\n",
      "Requirement already satisfied: thinc<8.3.0,>=8.1.8 in c:\\users\\dhimb\\anaconda3\\envs\\codeah\\lib\\site-packages (from spacy<3.8.0,>=3.7.2->en-core-web-sm==3.7.1) (8.2.2)\n",
      "Requirement already satisfied: wasabi<1.2.0,>=0.9.1 in c:\\users\\dhimb\\anaconda3\\envs\\codeah\\lib\\site-packages (from spacy<3.8.0,>=3.7.2->en-core-web-sm==3.7.1) (0.9.1)\n",
      "Requirement already satisfied: srsly<3.0.0,>=2.4.3 in c:\\users\\dhimb\\anaconda3\\envs\\codeah\\lib\\site-packages (from spacy<3.8.0,>=3.7.2->en-core-web-sm==3.7.1) (2.4.8)\n",
      "Requirement already satisfied: catalogue<2.1.0,>=2.0.6 in c:\\users\\dhimb\\anaconda3\\envs\\codeah\\lib\\site-packages (from spacy<3.8.0,>=3.7.2->en-core-web-sm==3.7.1) (2.0.10)\n",
      "Requirement already satisfied: weasel<0.4.0,>=0.1.0 in c:\\users\\dhimb\\anaconda3\\envs\\codeah\\lib\\site-packages (from spacy<3.8.0,>=3.7.2->en-core-web-sm==3.7.1) (0.3.4)\n",
      "Requirement already satisfied: typer<0.10.0,>=0.3.0 in c:\\users\\dhimb\\anaconda3\\envs\\codeah\\lib\\site-packages (from spacy<3.8.0,>=3.7.2->en-core-web-sm==3.7.1) (0.9.0)\n",
      "Requirement already satisfied: smart-open<7.0.0,>=5.2.1 in c:\\users\\dhimb\\anaconda3\\envs\\codeah\\lib\\site-packages (from spacy<3.8.0,>=3.7.2->en-core-web-sm==3.7.1) (5.2.1)\n",
      "Requirement already satisfied: tqdm<5.0.0,>=4.38.0 in c:\\users\\dhimb\\anaconda3\\envs\\codeah\\lib\\site-packages (from spacy<3.8.0,>=3.7.2->en-core-web-sm==3.7.1) (4.65.0)\n",
      "Requirement already satisfied: requests<3.0.0,>=2.13.0 in c:\\users\\dhimb\\anaconda3\\envs\\codeah\\lib\\site-packages (from spacy<3.8.0,>=3.7.2->en-core-web-sm==3.7.1) (2.31.0)\n",
      "Requirement already satisfied: pydantic!=1.8,!=1.8.1,<3.0.0,>=1.7.4 in c:\\users\\dhimb\\anaconda3\\envs\\codeah\\lib\\site-packages (from spacy<3.8.0,>=3.7.2->en-core-web-sm==3.7.1) (1.10.12)\n",
      "Requirement already satisfied: jinja2 in c:\\users\\dhimb\\anaconda3\\envs\\codeah\\lib\\site-packages (from spacy<3.8.0,>=3.7.2->en-core-web-sm==3.7.1) (3.1.2)\n",
      "Requirement already satisfied: setuptools in c:\\users\\dhimb\\anaconda3\\envs\\codeah\\lib\\site-packages (from spacy<3.8.0,>=3.7.2->en-core-web-sm==3.7.1) (68.0.0)\n",
      "Requirement already satisfied: packaging>=20.0 in c:\\users\\dhimb\\anaconda3\\envs\\codeah\\lib\\site-packages (from spacy<3.8.0,>=3.7.2->en-core-web-sm==3.7.1) (23.1)\n",
      "Requirement already satisfied: langcodes<4.0.0,>=3.2.0 in c:\\users\\dhimb\\anaconda3\\envs\\codeah\\lib\\site-packages (from spacy<3.8.0,>=3.7.2->en-core-web-sm==3.7.1) (3.3.0)\n",
      "Requirement already satisfied: numpy>=1.19.0 in c:\\users\\dhimb\\anaconda3\\envs\\codeah\\lib\\site-packages (from spacy<3.8.0,>=3.7.2->en-core-web-sm==3.7.1) (1.26.0)\n",
      "Requirement already satisfied: typing-extensions>=4.2.0 in c:\\users\\dhimb\\anaconda3\\envs\\codeah\\lib\\site-packages (from pydantic!=1.8,!=1.8.1,<3.0.0,>=1.7.4->spacy<3.8.0,>=3.7.2->en-core-web-sm==3.7.1) (4.10.0)\n",
      "Requirement already satisfied: charset-normalizer<4,>=2 in c:\\users\\dhimb\\anaconda3\\envs\\codeah\\lib\\site-packages (from requests<3.0.0,>=2.13.0->spacy<3.8.0,>=3.7.2->en-core-web-sm==3.7.1) (2.0.4)\n",
      "Requirement already satisfied: idna<4,>=2.5 in c:\\users\\dhimb\\anaconda3\\envs\\codeah\\lib\\site-packages (from requests<3.0.0,>=2.13.0->spacy<3.8.0,>=3.7.2->en-core-web-sm==3.7.1) (3.4)\n",
      "Requirement already satisfied: urllib3<3,>=1.21.1 in c:\\users\\dhimb\\anaconda3\\envs\\codeah\\lib\\site-packages (from requests<3.0.0,>=2.13.0->spacy<3.8.0,>=3.7.2->en-core-web-sm==3.7.1) (1.26.18)\n",
      "Requirement already satisfied: certifi>=2017.4.17 in c:\\users\\dhimb\\anaconda3\\envs\\codeah\\lib\\site-packages (from requests<3.0.0,>=2.13.0->spacy<3.8.0,>=3.7.2->en-core-web-sm==3.7.1) (2024.2.2)\n",
      "Requirement already satisfied: blis<0.8.0,>=0.7.8 in c:\\users\\dhimb\\anaconda3\\envs\\codeah\\lib\\site-packages (from thinc<8.3.0,>=8.1.8->spacy<3.8.0,>=3.7.2->en-core-web-sm==3.7.1) (0.7.11)\n",
      "Requirement already satisfied: confection<1.0.0,>=0.0.1 in c:\\users\\dhimb\\anaconda3\\envs\\codeah\\lib\\site-packages (from thinc<8.3.0,>=8.1.8->spacy<3.8.0,>=3.7.2->en-core-web-sm==3.7.1) (0.1.4)\n",
      "Requirement already satisfied: colorama in c:\\users\\dhimb\\anaconda3\\envs\\codeah\\lib\\site-packages (from tqdm<5.0.0,>=4.38.0->spacy<3.8.0,>=3.7.2->en-core-web-sm==3.7.1) (0.4.6)\n",
      "Requirement already satisfied: click<9.0.0,>=7.1.1 in c:\\users\\dhimb\\anaconda3\\envs\\codeah\\lib\\site-packages (from typer<0.10.0,>=0.3.0->spacy<3.8.0,>=3.7.2->en-core-web-sm==3.7.1) (8.1.7)\n",
      "Requirement already satisfied: cloudpathlib<0.17.0,>=0.7.0 in c:\\users\\dhimb\\anaconda3\\envs\\codeah\\lib\\site-packages (from weasel<0.4.0,>=0.1.0->spacy<3.8.0,>=3.7.2->en-core-web-sm==3.7.1) (0.16.0)\n",
      "Requirement already satisfied: MarkupSafe>=2.0 in c:\\users\\dhimb\\anaconda3\\envs\\codeah\\lib\\site-packages (from jinja2->spacy<3.8.0,>=3.7.2->en-core-web-sm==3.7.1) (2.1.1)\n",
      "Installing collected packages: en-core-web-sm\n",
      "Successfully installed en-core-web-sm-3.7.1\n",
      "[+] Download and installation successful\n",
      "You can now load the package via spacy.load('en_core_web_sm')\n"
     ]
    }
   ],
   "source": [
    "!python -m spacy download en_core_web_sm\n"
   ]
  },
  {
   "cell_type": "code",
   "execution_count": 1,
   "id": "9a433d59-8ba9-42b5-91a8-711b089e27b5",
   "metadata": {},
   "outputs": [],
   "source": [
    "import spacy"
   ]
  },
  {
   "cell_type": "code",
   "execution_count": 2,
   "id": "1654b0d9-6145-46d4-9144-ff3ac9240f39",
   "metadata": {},
   "outputs": [],
   "source": [
    "sp = spacy.load('en_core_web_sm')\n"
   ]
  },
  {
   "cell_type": "code",
   "execution_count": 3,
   "id": "21e69a0f-78b6-4f77-8a01-45f3fd409171",
   "metadata": {},
   "outputs": [],
   "source": [
    "sentence = sp(u'Manchester United is looking to sign a forward for $90 million')"
   ]
  },
  {
   "cell_type": "code",
   "execution_count": 4,
   "id": "3a09ded5-9122-4b10-8ad5-347b670f8b8f",
   "metadata": {},
   "outputs": [
    {
     "name": "stdout",
     "output_type": "stream",
     "text": [
      "Manchester\n",
      "United\n",
      "is\n",
      "looking\n",
      "to\n",
      "sign\n",
      "a\n",
      "forward\n",
      "for\n",
      "$\n",
      "90\n",
      "million\n"
     ]
    }
   ],
   "source": [
    "for word in sentence:\n",
    "    print(word.text)"
   ]
  },
  {
   "cell_type": "code",
   "execution_count": 5,
   "id": "f1b2805d-331d-4c3f-bad9-4861689ccbb1",
   "metadata": {},
   "outputs": [
    {
     "name": "stdout",
     "output_type": "stream",
     "text": [
      "Manchester PROPN\n",
      "United PROPN\n",
      "is AUX\n",
      "looking VERB\n",
      "to PART\n",
      "sign VERB\n",
      "a DET\n",
      "forward NOUN\n",
      "for ADP\n",
      "$ SYM\n",
      "90 NUM\n",
      "million NUM\n"
     ]
    }
   ],
   "source": [
    "for word in sentence:\n",
    "    print(word.text,  word.pos_)"
   ]
  },
  {
   "cell_type": "code",
   "execution_count": 6,
   "id": "ecb24f7b-30b0-4794-9b71-94a158be74d6",
   "metadata": {},
   "outputs": [],
   "source": [
    "sentence2 = sp(u\"Manchester United isn't looking to sign any forward.\")"
   ]
  },
  {
   "cell_type": "code",
   "execution_count": 7,
   "id": "dca418fd-e33f-4482-bda4-cd8a188c8302",
   "metadata": {},
   "outputs": [
    {
     "name": "stdout",
     "output_type": "stream",
     "text": [
      "Manchester PROPN compound\n",
      "United PROPN nsubj\n",
      "is AUX aux\n",
      "n't PART neg\n",
      "looking VERB ROOT\n",
      "to PART aux\n",
      "sign VERB xcomp\n",
      "any DET det\n",
      "forward NOUN advmod\n",
      ". PUNCT punct\n"
     ]
    }
   ],
   "source": [
    "for word in sentence2:\n",
    "    print(word.text,  word.pos_, word.dep_)"
   ]
  },
  {
   "cell_type": "code",
   "execution_count": 8,
   "id": "c89d82ca-45e7-4a23-8940-84470e9bec4b",
   "metadata": {},
   "outputs": [],
   "source": [
    "document = sp(u'Hello from Stackabuse. The site with the best Python Tutorials. What are you looking for?')"
   ]
  },
  {
   "cell_type": "code",
   "execution_count": 9,
   "id": "2f8440f1-4889-4817-9254-758705fc640a",
   "metadata": {},
   "outputs": [
    {
     "name": "stdout",
     "output_type": "stream",
     "text": [
      "Hello from Stackabuse.\n",
      "The site with the best Python Tutorials.\n",
      "What are you looking for?\n"
     ]
    }
   ],
   "source": [
    "for sentence in document.sents:\n",
    "    print(sentence)"
   ]
  },
  {
   "cell_type": "code",
   "execution_count": 14,
   "id": "9802a805-0321-422b-8f23-06856eef272e",
   "metadata": {},
   "outputs": [
    {
     "data": {
      "text/plain": [
       "The"
      ]
     },
     "execution_count": 14,
     "metadata": {},
     "output_type": "execute_result"
    }
   ],
   "source": [
    "document[4]"
   ]
  },
  {
   "cell_type": "code",
   "execution_count": 11,
   "id": "ad059897-f81d-4e4f-9b89-124d5bc8acb3",
   "metadata": {},
   "outputs": [
    {
     "data": {
      "text/plain": [
       "."
      ]
     },
     "execution_count": 11,
     "metadata": {},
     "output_type": "execute_result"
    }
   ],
   "source": [
    "document[3]"
   ]
  },
  {
   "cell_type": "code",
   "execution_count": 12,
   "id": "93fcb690-dc4b-4154-adc9-b4e282fbfbf0",
   "metadata": {},
   "outputs": [
    {
     "data": {
      "text/plain": [
       "True"
      ]
     },
     "execution_count": 12,
     "metadata": {},
     "output_type": "execute_result"
    }
   ],
   "source": [
    "document[4].is_sent_start"
   ]
  },
  {
   "cell_type": "code",
   "execution_count": 13,
   "id": "0446b8ec-81d6-4fc0-8b40-097976cba689",
   "metadata": {},
   "outputs": [
    {
     "data": {
      "text/plain": [
       "False"
      ]
     },
     "execution_count": 13,
     "metadata": {},
     "output_type": "execute_result"
    }
   ],
   "source": [
    "document[3].is_sent_start"
   ]
  },
  {
   "cell_type": "code",
   "execution_count": 15,
   "id": "a7bed4ad-4ae1-4a02-a222-d25624314bc8",
   "metadata": {},
   "outputs": [
    {
     "name": "stdout",
     "output_type": "stream",
     "text": [
      "\"They're leaving U.K. for U.S.A.\"\n"
     ]
    }
   ],
   "source": [
    "sentence3 = sp(u'\"They\\'re leaving U.K. for U.S.A.\"')\n",
    "print(sentence3)"
   ]
  },
  {
   "cell_type": "code",
   "execution_count": 16,
   "id": "373d7bb1-799d-4ae3-bf81-6f461b3f22c8",
   "metadata": {},
   "outputs": [
    {
     "name": "stdout",
     "output_type": "stream",
     "text": [
      "\"\n",
      "They\n",
      "'re\n",
      "leaving\n",
      "U.K.\n",
      "for\n",
      "U.S.A.\n",
      "\"\n"
     ]
    }
   ],
   "source": [
    "for word in sentence3:\n",
    "    print(word.text)"
   ]
  },
  {
   "cell_type": "code",
   "execution_count": 17,
   "id": "9ee86282-7d8b-405b-9621-68e8016c5add",
   "metadata": {},
   "outputs": [
    {
     "name": "stdout",
     "output_type": "stream",
     "text": [
      "Hello, I am non-vegetarian, email me the menu at abc-xyz@gmai.com\n"
     ]
    }
   ],
   "source": [
    "sentence4 = sp(u\"Hello, I am non-vegetarian, email me the menu at abc-xyz@gmai.com\")\n",
    "print(sentence4)"
   ]
  },
  {
   "cell_type": "code",
   "execution_count": 18,
   "id": "3cabe191-b4ea-4a67-a861-4f1fbc66d739",
   "metadata": {},
   "outputs": [
    {
     "name": "stdout",
     "output_type": "stream",
     "text": [
      "Hello\n",
      ",\n",
      "I\n",
      "am\n",
      "non\n",
      "-\n",
      "vegetarian\n",
      ",\n",
      "email\n",
      "me\n",
      "the\n",
      "menu\n",
      "at\n",
      "abc-xyz@gmai.com\n"
     ]
    }
   ],
   "source": [
    "for word in sentence4:\n",
    "    print(word.text)"
   ]
  },
  {
   "cell_type": "code",
   "execution_count": 19,
   "id": "afdcf896-735e-4a2d-9a50-6222c814f3da",
   "metadata": {},
   "outputs": [
    {
     "name": "stdout",
     "output_type": "stream",
     "text": [
      "Hello INTJ intj\n",
      ", PUNCT punct\n",
      "I PRON nsubj\n",
      "am AUX ROOT\n",
      "non ADJ acomp\n",
      "- ADJ attr\n",
      "vegetarian ADJ attr\n",
      ", PUNCT punct\n",
      "email VERB dep\n",
      "me PRON dative\n",
      "the DET det\n",
      "menu NOUN dobj\n",
      "at ADP prep\n",
      "abc-xyz@gmai.com NOUN pobj\n"
     ]
    }
   ],
   "source": [
    "for word in sentence4:\n",
    "    print(word.text,  word.pos_, word.dep_)"
   ]
  },
  {
   "cell_type": "code",
   "execution_count": 20,
   "id": "454cd9ae-34f1-40c6-b5d7-64888091a8cb",
   "metadata": {},
   "outputs": [
    {
     "data": {
      "text/plain": [
       "14"
      ]
     },
     "execution_count": 20,
     "metadata": {},
     "output_type": "execute_result"
    }
   ],
   "source": [
    "len(sentence4)"
   ]
  },
  {
   "cell_type": "code",
   "execution_count": 21,
   "id": "61370c03-8c63-405f-a2d6-d224b4bcd91a",
   "metadata": {},
   "outputs": [],
   "source": [
    "sentence5 = sp(u'Manchester United is looking to sign Harry Kane for $90 million')"
   ]
  },
  {
   "cell_type": "code",
   "execution_count": 22,
   "id": "6dc5b118-a59c-4125-8cc8-ef408a172bb8",
   "metadata": {},
   "outputs": [
    {
     "name": "stdout",
     "output_type": "stream",
     "text": [
      "Manchester\n",
      "United\n",
      "is\n",
      "looking\n",
      "to\n",
      "sign\n",
      "Harry\n",
      "Kane\n",
      "for\n",
      "$\n",
      "90\n",
      "million\n"
     ]
    }
   ],
   "source": [
    "for word in sentence5:\n",
    "    print(word.text)"
   ]
  },
  {
   "cell_type": "code",
   "execution_count": 24,
   "id": "3c18d666-4e5f-42b1-9fbd-6c9b9509d2fa",
   "metadata": {},
   "outputs": [
    {
     "name": "stdout",
     "output_type": "stream",
     "text": [
      "Manchester United - GPE - Countries, cities, states\n",
      "Harry Kane - PERSON - People, including fictional\n",
      "$90 million - MONEY - Monetary values, including unit\n"
     ]
    }
   ],
   "source": [
    "for entity in sentence5.ents:\n",
    "    print(entity.text + ' - ' + entity.label_ + ' - ' + str(spacy.explain(entity.label_)))"
   ]
  },
  {
   "cell_type": "code",
   "execution_count": 25,
   "id": "84ac7149-e1e8-45a2-b9b1-d456a0532574",
   "metadata": {},
   "outputs": [],
   "source": [
    "sentence6 = sp(u'Latest Rumours: Manchester United is looking to sign Harry Kane for $90 million')  "
   ]
  },
  {
   "cell_type": "code",
   "execution_count": 26,
   "id": "214f4af0-90c4-4ab3-81b2-0c741205715e",
   "metadata": {},
   "outputs": [
    {
     "name": "stdout",
     "output_type": "stream",
     "text": [
      "Latest Rumours\n",
      "Manchester United\n",
      "Harry Kane\n"
     ]
    }
   ],
   "source": [
    "for noun in sentence6.noun_chunks:\n",
    "    print(noun.text)"
   ]
  },
  {
   "cell_type": "code",
   "execution_count": null,
   "id": "2b4b2da0-8c68-4e8f-b8c2-dabddcaf183b",
   "metadata": {},
   "outputs": [],
   "source": []
  },
  {
   "cell_type": "code",
   "execution_count": 27,
   "id": "5e7b59a3-dc51-49b3-b450-198fa0ed561a",
   "metadata": {},
   "outputs": [],
   "source": [
    "## Porter Stemmer"
   ]
  },
  {
   "cell_type": "code",
   "execution_count": 28,
   "id": "90b29ff7-9f7a-42e8-8799-963268fd6c9c",
   "metadata": {},
   "outputs": [],
   "source": [
    "import nltk\n",
    "\n",
    "from nltk.stem.porter import *"
   ]
  },
  {
   "cell_type": "code",
   "execution_count": 29,
   "id": "2a9eede3-6ead-427c-9a66-52d6641ec314",
   "metadata": {},
   "outputs": [],
   "source": [
    "stemmer = PorterStemmer()"
   ]
  },
  {
   "cell_type": "code",
   "execution_count": 30,
   "id": "fa43d51c-977e-4edf-a6c1-ea669264ff4e",
   "metadata": {},
   "outputs": [],
   "source": [
    "tokens = ['compute', 'computer', 'computed', 'computing']"
   ]
  },
  {
   "cell_type": "code",
   "execution_count": 31,
   "id": "6fdb8e26-4bc4-4408-89a9-a08386398ab6",
   "metadata": {},
   "outputs": [
    {
     "name": "stdout",
     "output_type": "stream",
     "text": [
      "compute --> comput\n",
      "computer --> comput\n",
      "computed --> comput\n",
      "computing --> comput\n"
     ]
    }
   ],
   "source": [
    "for token in tokens:\n",
    "    print(token + ' --> ' + stemmer.stem(token))"
   ]
  },
  {
   "cell_type": "code",
   "execution_count": null,
   "id": "83d751b3-2f2c-42ec-abac-0a0436878527",
   "metadata": {},
   "outputs": [],
   "source": []
  },
  {
   "cell_type": "code",
   "execution_count": 32,
   "id": "2308be1a-0d92-419e-96ec-0fb4470d1b89",
   "metadata": {},
   "outputs": [],
   "source": [
    "## Snowball Stemmer"
   ]
  },
  {
   "cell_type": "code",
   "execution_count": 33,
   "id": "1f84d0de-3750-4a7a-a7cf-4d6ce5c80790",
   "metadata": {},
   "outputs": [
    {
     "name": "stdout",
     "output_type": "stream",
     "text": [
      "compute --> comput\n",
      "computer --> comput\n",
      "computed --> comput\n",
      "computing --> comput\n"
     ]
    }
   ],
   "source": [
    "from nltk.stem.snowball import SnowballStemmer\n",
    "\n",
    "stemmer = SnowballStemmer(language='english')\n",
    "\n",
    "tokens = ['compute', 'computer', 'computed', 'computing']\n",
    "\n",
    "for token in tokens:\n",
    "    print(token + ' --> ' + stemmer.stem(token))"
   ]
  },
  {
   "cell_type": "code",
   "execution_count": null,
   "id": "e2638e4c-89dc-491b-9a1c-6daa5e37ebb8",
   "metadata": {},
   "outputs": [],
   "source": []
  },
  {
   "cell_type": "code",
   "execution_count": 34,
   "id": "4fd7e1a6-c7b4-4019-be6f-ca82b359d292",
   "metadata": {},
   "outputs": [],
   "source": [
    "## Lemmatization"
   ]
  },
  {
   "cell_type": "code",
   "execution_count": 35,
   "id": "2f7ab12b-e32f-41bc-bb71-01d90cc004c6",
   "metadata": {},
   "outputs": [],
   "source": [
    "sentence7 = sp(u'compute computer computed computing')"
   ]
  },
  {
   "cell_type": "code",
   "execution_count": 36,
   "id": "fd61d76b-2349-4906-81fd-457caffd586d",
   "metadata": {},
   "outputs": [
    {
     "name": "stdout",
     "output_type": "stream",
     "text": [
      "compute compute\n",
      "computer computer\n",
      "computed compute\n",
      "computing computing\n"
     ]
    }
   ],
   "source": [
    "for word in sentence7:\n",
    "    print(word.text,  word.lemma_)"
   ]
  },
  {
   "cell_type": "code",
   "execution_count": 37,
   "id": "88d60f5f-6ae7-4d44-a149-190560b35b0f",
   "metadata": {},
   "outputs": [
    {
     "name": "stdout",
     "output_type": "stream",
     "text": [
      "A  ===> a\n",
      "letter  ===> letter\n",
      "has  ===> have\n",
      "been  ===> be\n",
      "written  ===> write\n",
      ",  ===> ,\n",
      "asking  ===> ask\n",
      "him  ===> he\n",
      "to  ===> to\n",
      "be  ===> be\n",
      "released  ===> release\n"
     ]
    }
   ],
   "source": [
    "sentence8 = sp(u'A letter has been written, asking him to be released')\n",
    "\n",
    "for word in sentence8:\n",
    "    print(word.text + '  ===>', word.lemma_)"
   ]
  },
  {
   "cell_type": "code",
   "execution_count": null,
   "id": "e9ae854d-28cd-4a31-a300-9f00017e14a4",
   "metadata": {},
   "outputs": [],
   "source": []
  }
 ],
 "metadata": {
  "kernelspec": {
   "display_name": "Python 3 (ipykernel)",
   "language": "python",
   "name": "python3"
  },
  "language_info": {
   "codemirror_mode": {
    "name": "ipython",
    "version": 3
   },
   "file_extension": ".py",
   "mimetype": "text/x-python",
   "name": "python",
   "nbconvert_exporter": "python",
   "pygments_lexer": "ipython3",
   "version": "3.10.0"
  }
 },
 "nbformat": 4,
 "nbformat_minor": 5
}
