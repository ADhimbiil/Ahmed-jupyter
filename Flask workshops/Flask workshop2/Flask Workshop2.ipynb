{
 "cells": [
  {
   "cell_type": "code",
   "execution_count": 2,
   "id": "df4bfc1c-d9b3-45f1-aabb-c0389468cf53",
   "metadata": {},
   "outputs": [
    {
     "ename": "SyntaxError",
     "evalue": "unexpected EOF while parsing (216341868.py, line 3)",
     "output_type": "error",
     "traceback": [
      "\u001b[1;36m  Cell \u001b[1;32mIn[2], line 3\u001b[1;36m\u001b[0m\n\u001b[1;33m    pickle.dump(knn, open(Iris.csv, 'wb')\u001b[0m\n\u001b[1;37m                                         ^\u001b[0m\n\u001b[1;31mSyntaxError\u001b[0m\u001b[1;31m:\u001b[0m unexpected EOF while parsing\n"
     ]
    }
   ],
   "source": [
    "import pickle\n",
    "filename='model.pkl'\n",
    "pickle.dump(knn, open(Iris.csv, 'wb')"
   ]
  },
  {
   "cell_type": "code",
   "execution_count": 3,
   "id": "b249ba39-5ed0-43ee-a244-62d1033efbeb",
   "metadata": {},
   "outputs": [
    {
     "ename": "IndentationError",
     "evalue": "expected an indented block (4152201808.py, line 19)",
     "output_type": "error",
     "traceback": [
      "\u001b[1;36m  Cell \u001b[1;32mIn[3], line 19\u001b[1;36m\u001b[0m\n\u001b[1;33m    to_predict_list = request.form.to_dict()\u001b[0m\n\u001b[1;37m    ^\u001b[0m\n\u001b[1;31mIndentationError\u001b[0m\u001b[1;31m:\u001b[0m expected an indented block\n"
     ]
    }
   ],
   "source": [
    "import os\n",
    "import pandas as pd \n",
    "import numpy as np \n",
    "import flask\n",
    "import pickle\n",
    "from flask import Flask, render_template, request\n",
    "app=Flask(__name__)\n",
    "@app.route('/')\n",
    "def index():\n",
    " return flask.render_template('index.html')\n",
    "def ValuePredictor(to_predict_list):\n",
    " to_predict = np.array(to_predict_list).reshape(1,4)\n",
    " loaded_model = pickle.load(open(\"model.pkl\",\"rb\"))\n",
    " result = loaded_model.predict(to_predict)\n",
    " return result[0]\n",
    "@app.route('/predict',methods = ['POST'])\n",
    "def result():\n",
    " if request.method == 'POST':\n",
    " to_predict_list = request.form.to_dict()\n",
    " to_predict_list=list(to_predict_list.values())\n",
    " to_predict_list = list(map(float, to_predict_list))\n",
    " result = ValuePredictor(to_predict_list)\n",
    " prediction = str(result)\n",
    " return render_template(\"predict.html\",prediction=prediction)\n",
    "if __name__ == \"__main__\":\n",
    " app.run(debug=True)"
   ]
  },
  {
   "cell_type": "code",
   "execution_count": null,
   "id": "bac4d0a0-f7b2-4ed2-ae67-e401ffc3ac8f",
   "metadata": {},
   "outputs": [],
   "source": []
  }
 ],
 "metadata": {
  "kernelspec": {
   "display_name": "Python 3 (ipykernel)",
   "language": "python",
   "name": "python3"
  },
  "language_info": {
   "codemirror_mode": {
    "name": "ipython",
    "version": 3
   },
   "file_extension": ".py",
   "mimetype": "text/x-python",
   "name": "python",
   "nbconvert_exporter": "python",
   "pygments_lexer": "ipython3",
   "version": "3.8.18"
  }
 },
 "nbformat": 4,
 "nbformat_minor": 5
}
