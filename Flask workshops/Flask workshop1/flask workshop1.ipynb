{
 "cells": [
  {
   "cell_type": "code",
   "execution_count": 1,
   "id": "120b9e37-bf12-4a90-b740-9293026d0dd4",
   "metadata": {},
   "outputs": [
    {
     "name": "stdout",
     "output_type": "stream",
     "text": [
      " * Serving Flask app '__main__'\n",
      " * Debug mode: off\n"
     ]
    },
    {
     "name": "stderr",
     "output_type": "stream",
     "text": [
      "WARNING: This is a development server. Do not use it in a production deployment. Use a production WSGI server instead.\n",
      " * Running on http://127.0.0.1:5000\n",
      "Press CTRL+C to quit\n",
      "127.0.0.1 - - [08/Feb/2024 16:16:29] \"GET / HTTP/1.1\" 200 -\n",
      "127.0.0.1 - - [08/Feb/2024 16:16:29] \"GET /static/main.css HTTP/1.1\" 200 -\n",
      "127.0.0.1 - - [08/Feb/2024 16:16:34] \"GET /next HTTP/1.1\" 200 -\n",
      "127.0.0.1 - - [08/Feb/2024 16:16:34] \"GET /static/main.css HTTP/1.1\" 304 -\n",
      "127.0.0.1 - - [08/Feb/2024 16:16:36] \"GET / HTTP/1.1\" 200 -\n",
      "127.0.0.1 - - [08/Feb/2024 16:16:36] \"GET /static/main.css HTTP/1.1\" 304 -\n",
      "127.0.0.1 - - [08/Feb/2024 16:16:37] \"GET /next HTTP/1.1\" 200 -\n",
      "127.0.0.1 - - [08/Feb/2024 16:16:37] \"GET /static/main.css HTTP/1.1\" 304 -\n"
     ]
    }
   ],
   "source": [
    "from flask import Flask, render_template\n",
    "app = Flask(__name__)\n",
    "\n",
    "@app.route(\"/\")\n",
    "def hello():\n",
    "    return render_template(\"home.html\", message_bienvenue = \"Bienvenue sur la page d'accueil !\")\n",
    "\n",
    "@app.route(\"/next\")\n",
    "def suite():\n",
    "    return render_template(\"page_suivante.html\")\n",
    "\n",
    "if __name__ == \"__main__\":\n",
    "    app.run()\n"
   ]
  },
  {
   "cell_type": "code",
   "execution_count": 1,
   "id": "3d5426a4-bdf6-4986-9dc2-cb766324130e",
   "metadata": {},
   "outputs": [
    {
     "name": "stdout",
     "output_type": "stream",
     "text": [
      " * Serving Flask app '__main__'\n",
      " * Debug mode: off\n"
     ]
    },
    {
     "name": "stderr",
     "output_type": "stream",
     "text": [
      "WARNING: This is a development server. Do not use it in a production deployment. Use a production WSGI server instead.\n",
      " * Running on http://127.0.0.1:5000\n",
      "Press CTRL+C to quit\n"
     ]
    }
   ],
   "source": [
    "from flask import Flask, request, render_template\n",
    "\n",
    "app = Flask(__name__)\n",
    "\n",
    "@app.route('/')\n",
    "def home():\n",
    "    return render_template(\"home.html\")\n",
    "\n",
    "@app.route('/', methods=['POST'])\n",
    "def text_box():\n",
    "    text = request.form['text']\n",
    "    processed_text = text.upper()\n",
    "    return render_template(\"bienvenue.html\" , message = processed_text )\n",
    "\n",
    "if __name__ == '__main__':\n",
    "    app.run()"
   ]
  },
  {
   "cell_type": "code",
   "execution_count": null,
   "id": "fc48d3f8-50c5-477a-a41f-c1e504ac648f",
   "metadata": {},
   "outputs": [],
   "source": []
  }
 ],
 "metadata": {
  "kernelspec": {
   "display_name": "Python 3 (ipykernel)",
   "language": "python",
   "name": "python3"
  },
  "language_info": {
   "codemirror_mode": {
    "name": "ipython",
    "version": 3
   },
   "file_extension": ".py",
   "mimetype": "text/x-python",
   "name": "python",
   "nbconvert_exporter": "python",
   "pygments_lexer": "ipython3",
   "version": "3.10.0"
  }
 },
 "nbformat": 4,
 "nbformat_minor": 5
}
