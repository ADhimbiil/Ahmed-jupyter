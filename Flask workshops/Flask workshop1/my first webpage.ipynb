{
 "cells": [
  {
   "cell_type": "code",
   "execution_count": 8,
   "id": "5117823a-9aa1-47fe-971e-10a8e0071724",
   "metadata": {
    "scrolled": true
   },
   "outputs": [
    {
     "name": "stdout",
     "output_type": "stream",
     "text": [
      " * Serving Flask app '__main__'\n",
      " * Debug mode: off\n"
     ]
    },
    {
     "name": "stderr",
     "output_type": "stream",
     "text": [
      "WARNING: This is a development server. Do not use it in a production deployment. Use a production WSGI server instead.\n",
      " * Running on http://127.0.0.1:5000\n",
      "Press CTRL+C to quit\n",
      "127.0.0.1 - - [08/Feb/2024 15:22:11] \"GET / HTTP/1.1\" 200 -\n"
     ]
    }
   ],
   "source": [
    "from flask import Flask\n",
    "\n",
    "app = Flask(__name__)\n",
    "@app.route(\"/\")\n",
    "def home():\n",
    "    return \"Hello! this is the main page <h1>HELLO<h1>\"\n",
    "\n",
    "if __name__==\"__main__\":\n",
    "    app.run()"
   ]
  },
  {
   "cell_type": "code",
   "execution_count": 2,
   "id": "89a40cd4-4561-4a6e-842f-e2322f9c62fc",
   "metadata": {},
   "outputs": [
    {
     "name": "stdout",
     "output_type": "stream",
     "text": [
      " * Serving Flask app '__main__'\n",
      " * Debug mode: off\n"
     ]
    },
    {
     "name": "stderr",
     "output_type": "stream",
     "text": [
      "WARNING: This is a development server. Do not use it in a production deployment. Use a production WSGI server instead.\n",
      " * Running on http://127.0.0.1:5000\n",
      "Press CTRL+C to quit\n",
      "127.0.0.1 - - [07/Feb/2024 16:47:47] \"GET / HTTP/1.1\" 200 -\n"
     ]
    }
   ],
   "source": [
    "from flask import Flask\n",
    "\n",
    "app = Flask(__name__)\n",
    "@app.route(\"/\")\n",
    "def home():\n",
    "    return \"Hello! this is the main page <h4>HELLO WELCOME</h4>\"\n",
    "\n",
    "if __name__==\"__main__\":\n",
    "    app.run()"
   ]
  },
  {
   "cell_type": "code",
   "execution_count": 6,
   "id": "190f6ade-29f4-4a72-9192-40b131d3fa8b",
   "metadata": {},
   "outputs": [
    {
     "name": "stdout",
     "output_type": "stream",
     "text": [
      " * Serving Flask app '__main__'\n",
      " * Debug mode: off\n"
     ]
    },
    {
     "name": "stderr",
     "output_type": "stream",
     "text": [
      "WARNING: This is a development server. Do not use it in a production deployment. Use a production WSGI server instead.\n",
      " * Running on http://127.0.0.1:5000\n",
      "Press CTRL+C to quit\n"
     ]
    }
   ],
   "source": [
    "from flask import Flask\n",
    "\n",
    "app = Flask(__name__)\n",
    "\n",
    "# Flask routing\n",
    "@app.route(\"/\")\n",
    "def home():\n",
    "    return \"Hello! this is the main page <h4>HELLO WELCOME</h4>\"\n",
    "\n",
    "@app.route(\"/<name>\")\n",
    "def user(name):\n",
    "    return f\"Hello {name}! How are you?\"\n",
    "    \n",
    "if __name__==\"__main__\":\n",
    "    app.run()"
   ]
  },
  {
   "cell_type": "code",
   "execution_count": 1,
   "id": "5f29fb2b-9d8b-467d-b227-7424d9abca70",
   "metadata": {},
   "outputs": [
    {
     "name": "stdout",
     "output_type": "stream",
     "text": [
      " * Serving Flask app '__main__'\n",
      " * Debug mode: off\n"
     ]
    },
    {
     "name": "stderr",
     "output_type": "stream",
     "text": [
      "WARNING: This is a development server. Do not use it in a production deployment. Use a production WSGI server instead.\n",
      " * Running on http://127.0.0.1:5000\n",
      "Press CTRL+C to quit\n",
      "127.0.0.1 - - [08/Feb/2024 14:04:26] \"GET / HTTP/1.1\" 200 -\n",
      "127.0.0.1 - - [08/Feb/2024 14:04:26] \"GET /favicon.ico HTTP/1.1\" 200 -\n",
      "127.0.0.1 - - [08/Feb/2024 14:04:35] \"GET /Ahmed HTTP/1.1\" 200 -\n",
      "127.0.0.1 - - [08/Feb/2024 14:04:35] \"GET /favicon.ico HTTP/1.1\" 200 -\n"
     ]
    }
   ],
   "source": [
    "from flask import Flask\n",
    "\n",
    "app = Flask(__name__)\n",
    "\n",
    "# Flask routing\n",
    "@app.route(\"/\")\n",
    "def home():\n",
    "    return \"Hello! this is the main page <h4>HELLO WELCOME</h4>\"\n",
    "\n",
    "@app.route(\"/<name>\")\n",
    "def user(name):\n",
    "    return f\"Hello {name}! How are you?\"\n",
    "    \n",
    "if __name__==\"__main__\":\n",
    "    app.run()"
   ]
  },
  {
   "cell_type": "code",
   "execution_count": 9,
   "id": "5cdd48c3-b88b-4452-ba07-a622e671f8a2",
   "metadata": {},
   "outputs": [
    {
     "name": "stdout",
     "output_type": "stream",
     "text": [
      " * Serving Flask app '__main__'\n",
      " * Debug mode: off\n"
     ]
    },
    {
     "name": "stderr",
     "output_type": "stream",
     "text": [
      "WARNING: This is a development server. Do not use it in a production deployment. Use a production WSGI server instead.\n",
      " * Running on http://127.0.0.1:5000\n",
      "Press CTRL+C to quit\n",
      "127.0.0.1 - - [08/Feb/2024 15:22:29] \"GET / HTTP/1.1\" 200 -\n",
      "127.0.0.1 - - [08/Feb/2024 15:22:40] \"GET /Ahmed HTTP/1.1\" 200 -\n",
      "[2024-02-08 15:22:48,863] ERROR in app: Exception on /html [GET]\n",
      "Traceback (most recent call last):\n",
      "  File \"C:\\Users\\dhimb\\anaconda3\\envs\\ahmed\\lib\\site-packages\\flask\\app.py\", line 2529, in wsgi_app\n",
      "    response = self.full_dispatch_request()\n",
      "  File \"C:\\Users\\dhimb\\anaconda3\\envs\\ahmed\\lib\\site-packages\\flask\\app.py\", line 1825, in full_dispatch_request\n",
      "    rv = self.handle_user_exception(e)\n",
      "  File \"C:\\Users\\dhimb\\anaconda3\\envs\\ahmed\\lib\\site-packages\\flask\\app.py\", line 1823, in full_dispatch_request\n",
      "    rv = self.dispatch_request()\n",
      "  File \"C:\\Users\\dhimb\\anaconda3\\envs\\ahmed\\lib\\site-packages\\flask\\app.py\", line 1799, in dispatch_request\n",
      "    return self.ensure_sync(self.view_functions[rule.endpoint])(**view_args)\n",
      "  File \"C:\\Users\\dhimb\\AppData\\Local\\Temp\\ipykernel_12764\\4285492410.py\", line 13, in html\n",
      "    return render_template(\"new.html\")\n",
      "  File \"C:\\Users\\dhimb\\anaconda3\\envs\\ahmed\\lib\\site-packages\\flask\\templating.py\", line 146, in render_template\n",
      "    template = app.jinja_env.get_or_select_template(template_name_or_list)\n",
      "  File \"C:\\Users\\dhimb\\anaconda3\\envs\\ahmed\\lib\\site-packages\\jinja2\\environment.py\", line 1081, in get_or_select_template\n",
      "    return self.get_template(template_name_or_list, parent, globals)\n",
      "  File \"C:\\Users\\dhimb\\anaconda3\\envs\\ahmed\\lib\\site-packages\\jinja2\\environment.py\", line 1010, in get_template\n",
      "    return self._load_template(name, globals)\n",
      "  File \"C:\\Users\\dhimb\\anaconda3\\envs\\ahmed\\lib\\site-packages\\jinja2\\environment.py\", line 969, in _load_template\n",
      "    template = self.loader.load(self, name, self.make_globals(globals))\n",
      "  File \"C:\\Users\\dhimb\\anaconda3\\envs\\ahmed\\lib\\site-packages\\jinja2\\loaders.py\", line 125, in load\n",
      "    source, filename, uptodate = self.get_source(environment, name)\n",
      "  File \"C:\\Users\\dhimb\\anaconda3\\envs\\ahmed\\lib\\site-packages\\flask\\templating.py\", line 62, in get_source\n",
      "    return self._get_source_fast(environment, template)\n",
      "  File \"C:\\Users\\dhimb\\anaconda3\\envs\\ahmed\\lib\\site-packages\\flask\\templating.py\", line 98, in _get_source_fast\n",
      "    raise TemplateNotFound(template)\n",
      "jinja2.exceptions.TemplateNotFound: new.html\n",
      "127.0.0.1 - - [08/Feb/2024 15:22:48] \"GET /html HTTP/1.1\" 500 -\n",
      "[2024-02-08 15:22:53,962] ERROR in app: Exception on /html [GET]\n",
      "Traceback (most recent call last):\n",
      "  File \"C:\\Users\\dhimb\\anaconda3\\envs\\ahmed\\lib\\site-packages\\flask\\app.py\", line 2529, in wsgi_app\n",
      "    response = self.full_dispatch_request()\n",
      "  File \"C:\\Users\\dhimb\\anaconda3\\envs\\ahmed\\lib\\site-packages\\flask\\app.py\", line 1825, in full_dispatch_request\n",
      "    rv = self.handle_user_exception(e)\n",
      "  File \"C:\\Users\\dhimb\\anaconda3\\envs\\ahmed\\lib\\site-packages\\flask\\app.py\", line 1823, in full_dispatch_request\n",
      "    rv = self.dispatch_request()\n",
      "  File \"C:\\Users\\dhimb\\anaconda3\\envs\\ahmed\\lib\\site-packages\\flask\\app.py\", line 1799, in dispatch_request\n",
      "    return self.ensure_sync(self.view_functions[rule.endpoint])(**view_args)\n",
      "  File \"C:\\Users\\dhimb\\AppData\\Local\\Temp\\ipykernel_12764\\4285492410.py\", line 13, in html\n",
      "    return render_template(\"new.html\")\n",
      "  File \"C:\\Users\\dhimb\\anaconda3\\envs\\ahmed\\lib\\site-packages\\flask\\templating.py\", line 146, in render_template\n",
      "    template = app.jinja_env.get_or_select_template(template_name_or_list)\n",
      "  File \"C:\\Users\\dhimb\\anaconda3\\envs\\ahmed\\lib\\site-packages\\jinja2\\environment.py\", line 1081, in get_or_select_template\n",
      "    return self.get_template(template_name_or_list, parent, globals)\n",
      "  File \"C:\\Users\\dhimb\\anaconda3\\envs\\ahmed\\lib\\site-packages\\jinja2\\environment.py\", line 1010, in get_template\n",
      "    return self._load_template(name, globals)\n",
      "  File \"C:\\Users\\dhimb\\anaconda3\\envs\\ahmed\\lib\\site-packages\\jinja2\\environment.py\", line 969, in _load_template\n",
      "    template = self.loader.load(self, name, self.make_globals(globals))\n",
      "  File \"C:\\Users\\dhimb\\anaconda3\\envs\\ahmed\\lib\\site-packages\\jinja2\\loaders.py\", line 125, in load\n",
      "    source, filename, uptodate = self.get_source(environment, name)\n",
      "  File \"C:\\Users\\dhimb\\anaconda3\\envs\\ahmed\\lib\\site-packages\\flask\\templating.py\", line 62, in get_source\n",
      "    return self._get_source_fast(environment, template)\n",
      "  File \"C:\\Users\\dhimb\\anaconda3\\envs\\ahmed\\lib\\site-packages\\flask\\templating.py\", line 98, in _get_source_fast\n",
      "    raise TemplateNotFound(template)\n",
      "jinja2.exceptions.TemplateNotFound: new.html\n",
      "127.0.0.1 - - [08/Feb/2024 15:22:53] \"GET /html HTTP/1.1\" 500 -\n"
     ]
    }
   ],
   "source": [
    "from flask import Flask, render_template\n",
    "\n",
    "app = Flask(__name__)\n",
    "\n",
    "# Flask routing\n",
    "@app.route(\"/\")\n",
    "\n",
    "def home():\n",
    "    return \"Hello! this is the main page <h4>HELLO WELCOME</h4>\"\n",
    "\n",
    "@app.route(\"/html\")\n",
    "def html():\n",
    "    return render_template(\"new.html\")\n",
    "\n",
    "@app.route(\"/<name>\")\n",
    "def user(name):\n",
    "    return f\"Hello {name}! How are you?\"\n",
    "    \n",
    "if __name__==\"__main__\":\n",
    "    app.run()"
   ]
  },
  {
   "cell_type": "code",
   "execution_count": null,
   "id": "4a9407aa-21e8-4ab9-8bb4-d84322787031",
   "metadata": {},
   "outputs": [],
   "source": []
  }
 ],
 "metadata": {
  "kernelspec": {
   "display_name": "Python 3 (ipykernel)",
   "language": "python",
   "name": "python3"
  },
  "language_info": {
   "codemirror_mode": {
    "name": "ipython",
    "version": 3
   },
   "file_extension": ".py",
   "mimetype": "text/x-python",
   "name": "python",
   "nbconvert_exporter": "python",
   "pygments_lexer": "ipython3",
   "version": "3.8.18"
  }
 },
 "nbformat": 4,
 "nbformat_minor": 5
}
