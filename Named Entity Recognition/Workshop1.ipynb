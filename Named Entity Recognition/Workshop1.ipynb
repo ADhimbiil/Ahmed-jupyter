{
 "cells": [
  {
   "cell_type": "code",
   "execution_count": null,
   "id": "4b3e13e4-15d0-458d-8f48-2cd4d0e19762",
   "metadata": {},
   "outputs": [],
   "source": [
    "# Implementation of Bag of words with python sklearn"
   ]
  },
  {
   "cell_type": "code",
   "execution_count": 3,
   "id": "12a68947-801b-42f0-b0d5-7e4843d9c6e4",
   "metadata": {},
   "outputs": [
    {
     "name": "stdout",
     "output_type": "stream",
     "text": [
      "Result of Bag of words\n",
      " [[1 1 0 1 0 1 0 1 1 1]\n",
      " [1 1 0 2 1 0 1 1 1 0]\n",
      " [0 0 1 1 0 0 1 0 1 2]]\n"
     ]
    }
   ],
   "source": [
    "from sklearn.feature_extraction.text import CountVectorizer\n",
    "allsentences = ['This past is very tasty and affordable.','This pasta is not tasty and is affordable.','This pasta is very very delicious.']\n",
    "# create object for countvectorizer\n",
    "countvectorizer = CountVectorizer()\n",
    "X = countvectorizer.fit_transform(allsentences)\n",
    "result = X.toarray()\n",
    "print(f'Result of Bag of words\\n {result}')"
   ]
  },
  {
   "cell_type": "code",
   "execution_count": 2,
   "id": "457e6bab-5d9f-4061-81e2-1237c678f3e2",
   "metadata": {},
   "outputs": [],
   "source": [
    "# Implementation of TF-IDF by using Sklearn"
   ]
  },
  {
   "cell_type": "code",
   "execution_count": 8,
   "id": "1d021def-23e1-4bdf-a05a-8622d86ba583",
   "metadata": {},
   "outputs": [
    {
     "name": "stdout",
     "output_type": "stream",
     "text": [
      "Feature names\n",
      "['affordable' 'and' 'delicious' 'is' 'not' 'past' 'pasta' 'tasty' 'this'\n",
      " 'very']\n",
      "Final Result of Tf-Idf\n",
      "    affordable       and  delicious        is       not      past     pasta  \\\n",
      "0    0.379729  0.379729   0.000000  0.294894  0.000000  0.499298  0.000000   \n",
      "1    0.338171  0.338171   0.000000  0.525239  0.444654  0.000000  0.338171   \n",
      "2    0.000000  0.000000   0.466778  0.275686  0.000000  0.000000  0.354996   \n",
      "\n",
      "      tasty      this      very  \n",
      "0  0.379729  0.294894  0.379729  \n",
      "1  0.338171  0.262620  0.000000  \n",
      "2  0.000000  0.275686  0.709993  \n"
     ]
    }
   ],
   "source": [
    "from sklearn.feature_extraction.text import TfidfVectorizer\n",
    "import pandas as pd\n",
    "allsentences = ['This past is very tasty and affordable.','This pasta is not tasty and is affordable.','This pasta is very very delicious.']\n",
    "# object creation\n",
    "vectorizer = TfidfVectorizer()\n",
    "vectors = vectorizer.fit_transform(allsentences)\n",
    "feature_names = vectorizer.get_feature_names_out()\n",
    "print(f'Feature names\\n{feature_names}')\n",
    "matrix = vectors.todense()\n",
    "denselist = matrix.tolist()\n",
    "# convert list to dataframe\n",
    "df = pd.DataFrame(denselist, columns=feature_names)\n",
    "print(f'Final Result of Tf-Idf\\n {df}')"
   ]
  },
  {
   "cell_type": "code",
   "execution_count": 9,
   "id": "d8c85c17-54b7-4fae-8098-8c4a56daa019",
   "metadata": {},
   "outputs": [],
   "source": [
    "# Word2vec implementation"
   ]
  },
  {
   "cell_type": "code",
   "execution_count": 10,
   "id": "88070818-d2f5-4be8-981f-6281b2ab26cc",
   "metadata": {},
   "outputs": [
    {
     "name": "stdout",
     "output_type": "stream",
     "text": [
      "Collecting gensim\n",
      "  Downloading gensim-4.3.2-cp310-cp310-win_amd64.whl.metadata (8.5 kB)\n",
      "Requirement already satisfied: numpy>=1.18.5 in c:\\users\\dhimb\\anaconda3\\envs\\codeah\\lib\\site-packages (from gensim) (1.26.0)\n",
      "Requirement already satisfied: scipy>=1.7.0 in c:\\users\\dhimb\\anaconda3\\envs\\codeah\\lib\\site-packages (from gensim) (1.11.3)\n",
      "Requirement already satisfied: smart-open>=1.8.1 in c:\\users\\dhimb\\anaconda3\\envs\\codeah\\lib\\site-packages (from gensim) (5.2.1)\n",
      "Downloading gensim-4.3.2-cp310-cp310-win_amd64.whl (24.0 MB)\n",
      "   ---------------------------------------- 0.0/24.0 MB ? eta -:--:--\n",
      "   ---------------------------------------- 0.1/24.0 MB ? eta -:--:--\n",
      "   ---------------------------------------- 0.2/24.0 MB 2.0 MB/s eta 0:00:13\n",
      "    --------------------------------------- 0.3/24.0 MB 2.2 MB/s eta 0:00:11\n",
      "    --------------------------------------- 0.5/24.0 MB 2.5 MB/s eta 0:00:10\n",
      "   - -------------------------------------- 0.6/24.0 MB 2.7 MB/s eta 0:00:09\n",
      "   - -------------------------------------- 0.8/24.0 MB 2.9 MB/s eta 0:00:08\n",
      "   - -------------------------------------- 1.0/24.0 MB 2.9 MB/s eta 0:00:08\n",
      "   - -------------------------------------- 1.1/24.0 MB 3.0 MB/s eta 0:00:08\n",
      "   -- ------------------------------------- 1.3/24.0 MB 3.0 MB/s eta 0:00:08\n",
      "   -- ------------------------------------- 1.4/24.0 MB 2.9 MB/s eta 0:00:08\n",
      "   -- ------------------------------------- 1.4/24.0 MB 2.8 MB/s eta 0:00:08\n",
      "   -- ------------------------------------- 1.5/24.0 MB 2.7 MB/s eta 0:00:09\n",
      "   -- ------------------------------------- 1.5/24.0 MB 2.5 MB/s eta 0:00:10\n",
      "   -- ------------------------------------- 1.6/24.0 MB 2.3 MB/s eta 0:00:10\n",
      "   -- ------------------------------------- 1.6/24.0 MB 2.3 MB/s eta 0:00:10\n",
      "   -- ------------------------------------- 1.8/24.0 MB 2.2 MB/s eta 0:00:10\n",
      "   --- ------------------------------------ 1.9/24.0 MB 2.3 MB/s eta 0:00:10\n",
      "   --- ------------------------------------ 2.0/24.0 MB 2.3 MB/s eta 0:00:10\n",
      "   --- ------------------------------------ 2.0/24.0 MB 2.3 MB/s eta 0:00:10\n",
      "   --- ------------------------------------ 2.1/24.0 MB 2.2 MB/s eta 0:00:11\n",
      "   --- ------------------------------------ 2.2/24.0 MB 2.1 MB/s eta 0:00:11\n",
      "   --- ------------------------------------ 2.4/24.0 MB 2.2 MB/s eta 0:00:10\n",
      "   ---- ----------------------------------- 2.4/24.0 MB 2.2 MB/s eta 0:00:10\n",
      "   ---- ----------------------------------- 2.6/24.0 MB 2.2 MB/s eta 0:00:10\n",
      "   ---- ----------------------------------- 2.7/24.0 MB 2.2 MB/s eta 0:00:10\n",
      "   ---- ----------------------------------- 2.8/24.0 MB 2.2 MB/s eta 0:00:10\n",
      "   ---- ----------------------------------- 2.9/24.0 MB 2.2 MB/s eta 0:00:10\n",
      "   ---- ----------------------------------- 2.9/24.0 MB 2.1 MB/s eta 0:00:11\n",
      "   ----- ---------------------------------- 3.1/24.0 MB 2.1 MB/s eta 0:00:10\n",
      "   ----- ---------------------------------- 3.2/24.0 MB 2.2 MB/s eta 0:00:10\n",
      "   ----- ---------------------------------- 3.3/24.0 MB 2.2 MB/s eta 0:00:10\n",
      "   ----- ---------------------------------- 3.5/24.0 MB 2.2 MB/s eta 0:00:10\n",
      "   ----- ---------------------------------- 3.6/24.0 MB 2.2 MB/s eta 0:00:10\n",
      "   ------ --------------------------------- 3.7/24.0 MB 2.2 MB/s eta 0:00:10\n",
      "   ------ --------------------------------- 3.7/24.0 MB 2.1 MB/s eta 0:00:10\n",
      "   ------ --------------------------------- 3.8/24.0 MB 2.2 MB/s eta 0:00:10\n",
      "   ------ --------------------------------- 4.0/24.0 MB 2.2 MB/s eta 0:00:10\n",
      "   ------ --------------------------------- 4.0/24.0 MB 2.2 MB/s eta 0:00:10\n",
      "   ------ --------------------------------- 4.0/24.0 MB 2.1 MB/s eta 0:00:10\n",
      "   ------ --------------------------------- 4.0/24.0 MB 2.0 MB/s eta 0:00:10\n",
      "   ------ --------------------------------- 4.1/24.0 MB 2.0 MB/s eta 0:00:10\n",
      "   ------ --------------------------------- 4.2/24.0 MB 2.0 MB/s eta 0:00:10\n",
      "   ------- -------------------------------- 4.2/24.0 MB 2.0 MB/s eta 0:00:10\n",
      "   ------- -------------------------------- 4.3/24.0 MB 2.0 MB/s eta 0:00:10\n",
      "   ------- -------------------------------- 4.3/24.0 MB 1.9 MB/s eta 0:00:11\n",
      "   ------- -------------------------------- 4.5/24.0 MB 2.0 MB/s eta 0:00:10\n",
      "   ------- -------------------------------- 4.6/24.0 MB 2.0 MB/s eta 0:00:10\n",
      "   ------- -------------------------------- 4.7/24.0 MB 2.0 MB/s eta 0:00:10\n",
      "   -------- ------------------------------- 4.8/24.0 MB 2.0 MB/s eta 0:00:10\n",
      "   -------- ------------------------------- 5.1/24.0 MB 2.0 MB/s eta 0:00:10\n",
      "   -------- ------------------------------- 5.2/24.0 MB 2.1 MB/s eta 0:00:10\n",
      "   -------- ------------------------------- 5.3/24.0 MB 2.1 MB/s eta 0:00:10\n",
      "   --------- ------------------------------ 5.4/24.0 MB 2.1 MB/s eta 0:00:09\n",
      "   --------- ------------------------------ 5.6/24.0 MB 2.1 MB/s eta 0:00:09\n",
      "   --------- ------------------------------ 5.7/24.0 MB 2.1 MB/s eta 0:00:09\n",
      "   --------- ------------------------------ 5.8/24.0 MB 2.1 MB/s eta 0:00:09\n",
      "   --------- ------------------------------ 5.9/24.0 MB 2.1 MB/s eta 0:00:09\n",
      "   ---------- ----------------------------- 6.0/24.0 MB 2.1 MB/s eta 0:00:09\n",
      "   ---------- ----------------------------- 6.1/24.0 MB 2.1 MB/s eta 0:00:09\n",
      "   ---------- ----------------------------- 6.3/24.0 MB 2.2 MB/s eta 0:00:09\n",
      "   ---------- ----------------------------- 6.4/24.0 MB 2.2 MB/s eta 0:00:09\n",
      "   ---------- ----------------------------- 6.6/24.0 MB 2.2 MB/s eta 0:00:09\n",
      "   ----------- ---------------------------- 6.7/24.0 MB 2.2 MB/s eta 0:00:08\n",
      "   ----------- ---------------------------- 6.9/24.0 MB 2.2 MB/s eta 0:00:08\n",
      "   ----------- ---------------------------- 7.0/24.0 MB 2.2 MB/s eta 0:00:08\n",
      "   ----------- ---------------------------- 7.2/24.0 MB 2.2 MB/s eta 0:00:08\n",
      "   ------------ --------------------------- 7.4/24.0 MB 2.3 MB/s eta 0:00:08\n",
      "   ------------ --------------------------- 7.5/24.0 MB 2.3 MB/s eta 0:00:08\n",
      "   ------------ --------------------------- 7.7/24.0 MB 2.3 MB/s eta 0:00:08\n",
      "   ------------ --------------------------- 7.8/24.0 MB 2.3 MB/s eta 0:00:08\n",
      "   ------------- -------------------------- 8.0/24.0 MB 2.3 MB/s eta 0:00:07\n",
      "   ------------- -------------------------- 8.1/24.0 MB 2.3 MB/s eta 0:00:07\n",
      "   ------------- -------------------------- 8.3/24.0 MB 2.3 MB/s eta 0:00:07\n",
      "   ------------- -------------------------- 8.4/24.0 MB 2.3 MB/s eta 0:00:07\n",
      "   -------------- ------------------------- 8.5/24.0 MB 2.3 MB/s eta 0:00:07\n",
      "   -------------- ------------------------- 8.7/24.0 MB 2.4 MB/s eta 0:00:07\n",
      "   -------------- ------------------------- 8.9/24.0 MB 2.4 MB/s eta 0:00:07\n",
      "   --------------- ------------------------ 9.0/24.0 MB 2.4 MB/s eta 0:00:07\n",
      "   --------------- ------------------------ 9.2/24.0 MB 2.4 MB/s eta 0:00:07\n",
      "   --------------- ------------------------ 9.3/24.0 MB 2.4 MB/s eta 0:00:07\n",
      "   --------------- ------------------------ 9.5/24.0 MB 2.4 MB/s eta 0:00:06\n",
      "   --------------- ------------------------ 9.6/24.0 MB 2.4 MB/s eta 0:00:06\n",
      "   ---------------- ----------------------- 9.6/24.0 MB 2.4 MB/s eta 0:00:06\n",
      "   ---------------- ----------------------- 9.8/24.0 MB 2.4 MB/s eta 0:00:06\n",
      "   ---------------- ----------------------- 9.9/24.0 MB 2.4 MB/s eta 0:00:06\n",
      "   ---------------- ----------------------- 10.1/24.0 MB 2.4 MB/s eta 0:00:06\n",
      "   ---------------- ----------------------- 10.1/24.0 MB 2.4 MB/s eta 0:00:06\n",
      "   ---------------- ----------------------- 10.2/24.0 MB 2.4 MB/s eta 0:00:06\n",
      "   ----------------- ---------------------- 10.2/24.0 MB 2.4 MB/s eta 0:00:06\n",
      "   ----------------- ---------------------- 10.4/24.0 MB 2.4 MB/s eta 0:00:06\n",
      "   ----------------- ---------------------- 10.5/24.0 MB 2.4 MB/s eta 0:00:06\n",
      "   ----------------- ---------------------- 10.6/24.0 MB 2.4 MB/s eta 0:00:06\n",
      "   ----------------- ---------------------- 10.8/24.0 MB 2.4 MB/s eta 0:00:06\n",
      "   ------------------ --------------------- 10.9/24.0 MB 2.4 MB/s eta 0:00:06\n",
      "   ------------------ --------------------- 11.1/24.0 MB 2.4 MB/s eta 0:00:06\n",
      "   ------------------ --------------------- 11.2/24.0 MB 2.4 MB/s eta 0:00:06\n",
      "   ------------------ --------------------- 11.3/24.0 MB 2.4 MB/s eta 0:00:06\n",
      "   ------------------- -------------------- 11.5/24.0 MB 2.4 MB/s eta 0:00:06\n",
      "   ------------------- -------------------- 11.6/24.0 MB 2.4 MB/s eta 0:00:06\n",
      "   ------------------- -------------------- 11.8/24.0 MB 2.5 MB/s eta 0:00:05\n",
      "   ------------------- -------------------- 11.9/24.0 MB 2.5 MB/s eta 0:00:05\n",
      "   ------------------- -------------------- 11.9/24.0 MB 2.5 MB/s eta 0:00:05\n",
      "   ------------------- -------------------- 11.9/24.0 MB 2.4 MB/s eta 0:00:05\n",
      "   ------------------- -------------------- 12.0/24.0 MB 2.4 MB/s eta 0:00:05\n",
      "   -------------------- ------------------- 12.1/24.0 MB 2.4 MB/s eta 0:00:05\n",
      "   -------------------- ------------------- 12.2/24.0 MB 2.4 MB/s eta 0:00:05\n",
      "   -------------------- ------------------- 12.3/24.0 MB 2.5 MB/s eta 0:00:05\n",
      "   -------------------- ------------------- 12.4/24.0 MB 2.5 MB/s eta 0:00:05\n",
      "   -------------------- ------------------- 12.6/24.0 MB 2.5 MB/s eta 0:00:05\n",
      "   --------------------- ------------------ 12.7/24.0 MB 2.5 MB/s eta 0:00:05\n",
      "   --------------------- ------------------ 12.9/24.0 MB 2.5 MB/s eta 0:00:05\n",
      "   --------------------- ------------------ 13.1/24.0 MB 2.5 MB/s eta 0:00:05\n",
      "   --------------------- ------------------ 13.1/24.0 MB 2.5 MB/s eta 0:00:05\n",
      "   ---------------------- ----------------- 13.3/24.0 MB 2.5 MB/s eta 0:00:05\n",
      "   ---------------------- ----------------- 13.4/24.0 MB 2.5 MB/s eta 0:00:05\n",
      "   ---------------------- ----------------- 13.5/24.0 MB 2.5 MB/s eta 0:00:05\n",
      "   ---------------------- ----------------- 13.5/24.0 MB 2.5 MB/s eta 0:00:05\n",
      "   ---------------------- ----------------- 13.5/24.0 MB 2.5 MB/s eta 0:00:05\n",
      "   ---------------------- ----------------- 13.6/24.0 MB 2.4 MB/s eta 0:00:05\n",
      "   ---------------------- ----------------- 13.7/24.0 MB 2.4 MB/s eta 0:00:05\n",
      "   ----------------------- ---------------- 13.9/24.0 MB 2.4 MB/s eta 0:00:05\n",
      "   ----------------------- ---------------- 13.9/24.0 MB 2.4 MB/s eta 0:00:05\n",
      "   ----------------------- ---------------- 13.9/24.0 MB 2.4 MB/s eta 0:00:05\n",
      "   ----------------------- ---------------- 14.0/24.0 MB 2.4 MB/s eta 0:00:05\n",
      "   ----------------------- ---------------- 14.2/24.0 MB 2.4 MB/s eta 0:00:05\n",
      "   ----------------------- ---------------- 14.3/24.0 MB 2.5 MB/s eta 0:00:04\n",
      "   ------------------------ --------------- 14.5/24.0 MB 2.6 MB/s eta 0:00:04\n",
      "   ------------------------ --------------- 14.6/24.0 MB 2.6 MB/s eta 0:00:04\n",
      "   ------------------------ --------------- 14.8/24.0 MB 2.6 MB/s eta 0:00:04\n",
      "   ------------------------ --------------- 14.9/24.0 MB 2.6 MB/s eta 0:00:04\n",
      "   ------------------------- -------------- 15.1/24.0 MB 2.6 MB/s eta 0:00:04\n",
      "   ------------------------- -------------- 15.1/24.0 MB 2.6 MB/s eta 0:00:04\n",
      "   ------------------------- -------------- 15.2/24.0 MB 2.6 MB/s eta 0:00:04\n",
      "   ------------------------- -------------- 15.3/24.0 MB 2.5 MB/s eta 0:00:04\n",
      "   ------------------------- -------------- 15.4/24.0 MB 2.6 MB/s eta 0:00:04\n",
      "   -------------------------- ------------- 15.7/24.0 MB 2.6 MB/s eta 0:00:04\n",
      "   -------------------------- ------------- 15.7/24.0 MB 2.6 MB/s eta 0:00:04\n",
      "   -------------------------- ------------- 16.0/24.0 MB 2.6 MB/s eta 0:00:04\n",
      "   -------------------------- ------------- 16.1/24.0 MB 2.6 MB/s eta 0:00:04\n",
      "   --------------------------- ------------ 16.3/24.0 MB 2.6 MB/s eta 0:00:03\n",
      "   --------------------------- ------------ 16.5/24.0 MB 2.6 MB/s eta 0:00:03\n",
      "   --------------------------- ------------ 16.7/24.0 MB 2.6 MB/s eta 0:00:03\n",
      "   ---------------------------- ----------- 16.9/24.0 MB 2.6 MB/s eta 0:00:03\n",
      "   ---------------------------- ----------- 17.1/24.0 MB 2.6 MB/s eta 0:00:03\n",
      "   ---------------------------- ----------- 17.3/24.0 MB 2.6 MB/s eta 0:00:03\n",
      "   ----------------------------- ---------- 17.4/24.0 MB 2.6 MB/s eta 0:00:03\n",
      "   ----------------------------- ---------- 17.5/24.0 MB 2.6 MB/s eta 0:00:03\n",
      "   ----------------------------- ---------- 17.6/24.0 MB 2.6 MB/s eta 0:00:03\n",
      "   ----------------------------- ---------- 17.7/24.0 MB 2.6 MB/s eta 0:00:03\n",
      "   ----------------------------- ---------- 17.7/24.0 MB 2.6 MB/s eta 0:00:03\n",
      "   ----------------------------- ---------- 17.7/24.0 MB 2.5 MB/s eta 0:00:03\n",
      "   ----------------------------- ---------- 17.8/24.0 MB 2.5 MB/s eta 0:00:03\n",
      "   ----------------------------- ---------- 17.9/24.0 MB 2.5 MB/s eta 0:00:03\n",
      "   ------------------------------ --------- 18.1/24.0 MB 2.5 MB/s eta 0:00:03\n",
      "   ------------------------------ --------- 18.2/24.0 MB 2.5 MB/s eta 0:00:03\n",
      "   ------------------------------ --------- 18.4/24.0 MB 2.5 MB/s eta 0:00:03\n",
      "   ------------------------------ --------- 18.5/24.0 MB 2.5 MB/s eta 0:00:03\n",
      "   ------------------------------ --------- 18.6/24.0 MB 2.5 MB/s eta 0:00:03\n",
      "   ------------------------------- -------- 18.8/24.0 MB 2.5 MB/s eta 0:00:03\n",
      "   ------------------------------- -------- 18.9/24.0 MB 2.5 MB/s eta 0:00:03\n",
      "   ------------------------------- -------- 19.1/24.0 MB 2.5 MB/s eta 0:00:02\n",
      "   -------------------------------- ------- 19.3/24.0 MB 2.5 MB/s eta 0:00:02\n",
      "   -------------------------------- ------- 19.4/24.0 MB 2.5 MB/s eta 0:00:02\n",
      "   -------------------------------- ------- 19.5/24.0 MB 2.5 MB/s eta 0:00:02\n",
      "   -------------------------------- ------- 19.8/24.0 MB 2.5 MB/s eta 0:00:02\n",
      "   --------------------------------- ------ 19.8/24.0 MB 2.5 MB/s eta 0:00:02\n",
      "   --------------------------------- ------ 19.9/24.0 MB 2.5 MB/s eta 0:00:02\n",
      "   --------------------------------- ------ 19.9/24.0 MB 2.5 MB/s eta 0:00:02\n",
      "   --------------------------------- ------ 20.1/24.0 MB 2.5 MB/s eta 0:00:02\n",
      "   --------------------------------- ------ 20.3/24.0 MB 2.5 MB/s eta 0:00:02\n",
      "   --------------------------------- ------ 20.4/24.0 MB 2.5 MB/s eta 0:00:02\n",
      "   ---------------------------------- ----- 20.5/24.0 MB 2.5 MB/s eta 0:00:02\n",
      "   ---------------------------------- ----- 20.6/24.0 MB 2.5 MB/s eta 0:00:02\n",
      "   ---------------------------------- ----- 20.7/24.0 MB 2.5 MB/s eta 0:00:02\n",
      "   ---------------------------------- ----- 20.8/24.0 MB 2.5 MB/s eta 0:00:02\n",
      "   ---------------------------------- ----- 20.8/24.0 MB 2.5 MB/s eta 0:00:02\n",
      "   ---------------------------------- ----- 20.8/24.0 MB 2.5 MB/s eta 0:00:02\n",
      "   ---------------------------------- ----- 21.0/24.0 MB 2.4 MB/s eta 0:00:02\n",
      "   ----------------------------------- ---- 21.1/24.0 MB 2.4 MB/s eta 0:00:02\n",
      "   ----------------------------------- ---- 21.1/24.0 MB 2.5 MB/s eta 0:00:02\n",
      "   ----------------------------------- ---- 21.3/24.0 MB 2.4 MB/s eta 0:00:02\n",
      "   ----------------------------------- ---- 21.5/24.0 MB 2.4 MB/s eta 0:00:02\n",
      "   ----------------------------------- ---- 21.6/24.0 MB 2.4 MB/s eta 0:00:01\n",
      "   ------------------------------------ --- 21.7/24.0 MB 2.4 MB/s eta 0:00:01\n",
      "   ------------------------------------ --- 21.9/24.0 MB 2.4 MB/s eta 0:00:01\n",
      "   ------------------------------------ --- 22.0/24.0 MB 2.4 MB/s eta 0:00:01\n",
      "   ------------------------------------ --- 22.0/24.0 MB 2.4 MB/s eta 0:00:01\n",
      "   ------------------------------------- -- 22.2/24.0 MB 2.5 MB/s eta 0:00:01\n",
      "   ------------------------------------- -- 22.4/24.0 MB 2.5 MB/s eta 0:00:01\n",
      "   ------------------------------------- -- 22.5/24.0 MB 2.5 MB/s eta 0:00:01\n",
      "   ------------------------------------- -- 22.7/24.0 MB 2.5 MB/s eta 0:00:01\n",
      "   -------------------------------------- - 22.8/24.0 MB 2.5 MB/s eta 0:00:01\n",
      "   -------------------------------------- - 22.8/24.0 MB 2.5 MB/s eta 0:00:01\n",
      "   -------------------------------------- - 23.0/24.0 MB 2.5 MB/s eta 0:00:01\n",
      "   -------------------------------------- - 23.0/24.0 MB 2.5 MB/s eta 0:00:01\n",
      "   -------------------------------------- - 23.2/24.0 MB 2.5 MB/s eta 0:00:01\n",
      "   -------------------------------------- - 23.3/24.0 MB 2.5 MB/s eta 0:00:01\n",
      "   ---------------------------------------  23.4/24.0 MB 2.5 MB/s eta 0:00:01\n",
      "   ---------------------------------------  23.7/24.0 MB 2.5 MB/s eta 0:00:01\n",
      "   ---------------------------------------  23.9/24.0 MB 2.6 MB/s eta 0:00:01\n",
      "   ---------------------------------------  24.0/24.0 MB 2.6 MB/s eta 0:00:01\n",
      "   ---------------------------------------  24.0/24.0 MB 2.6 MB/s eta 0:00:01\n",
      "   ---------------------------------------  24.0/24.0 MB 2.6 MB/s eta 0:00:01\n",
      "   ---------------------------------------  24.0/24.0 MB 2.6 MB/s eta 0:00:01\n",
      "   ---------------------------------------  24.0/24.0 MB 2.6 MB/s eta 0:00:01\n",
      "   ---------------------------------------  24.0/24.0 MB 2.6 MB/s eta 0:00:01\n",
      "   ---------------------------------------  24.0/24.0 MB 2.6 MB/s eta 0:00:01\n",
      "   ---------------------------------------  24.0/24.0 MB 2.6 MB/s eta 0:00:01\n",
      "   ---------------------------------------- 24.0/24.0 MB 2.4 MB/s eta 0:00:00\n",
      "Installing collected packages: gensim\n",
      "Successfully installed gensim-4.3.2\n",
      "Note: you may need to restart the kernel to use updated packages.\n"
     ]
    }
   ],
   "source": [
    "pip install --upgrade gensim"
   ]
  },
  {
   "cell_type": "code",
   "execution_count": 1,
   "id": "fbbf1693-490f-492f-88f6-0b77de605a72",
   "metadata": {},
   "outputs": [
    {
     "name": "stdout",
     "output_type": "stream",
     "text": [
      "Note: you may need to restart the kernel to use updated packages.\n"
     ]
    },
    {
     "name": "stderr",
     "output_type": "stream",
     "text": [
      "ERROR: Could not find a version that satisfies the requirement re (from versions: none)\n",
      "ERROR: No matching distribution found for re\n"
     ]
    }
   ],
   "source": [
    "pip install re"
   ]
  },
  {
   "cell_type": "code",
   "execution_count": 37,
   "id": "8e881255-2977-458e-93fc-d6d9361e6772",
   "metadata": {},
   "outputs": [
    {
     "name": "stdout",
     "output_type": "stream",
     "text": [
      "[nltk_data] Downloading package punkt to\n",
      "[nltk_data]     C:\\Users\\dhimb\\AppData\\Roaming\\nltk_data...\n",
      "[nltk_data]   Package punkt is already up-to-date!\n"
     ]
    }
   ],
   "source": [
    "import nltk \n",
    "import re\n",
    "nltk.download('punkt')\n",
    "# tokenize text of file into sentences\n",
    "from nltk.tokenize import word_tokenize\n",
    "from gensim.models import Word2Vec\n",
    "\n",
    "# For Visualization\n",
    "from sklearn.decomposition import PCA\n",
    "import matplotlib.pyplot as plt"
   ]
  },
  {
   "cell_type": "code",
   "execution_count": 44,
   "id": "b103960b-57d0-46e2-be1d-42f8c0943b07",
   "metadata": {},
   "outputs": [
    {
     "name": "stdout",
     "output_type": "stream",
     "text": [
      "Number of sentences 8\n",
      "First sentences from text file\n",
      " Random forest algorithm is a supervised classification algorithm. As the name suggest, this algorithm creates the forest with a number of trees.\n",
      "\n"
     ]
    }
   ],
   "source": [
    "with open('example_text.txt', 'r', encoding='utf-8') as txt:\n",
    "    sentences = txt.readlines()\n",
    "\n",
    "print(f'Number of sentences {len(sentences)}')\n",
    "\n",
    "print(f'First sentences from text file\\n {sentences[0]}')"
   ]
  },
  {
   "cell_type": "code",
   "execution_count": 45,
   "id": "47ceb184-248c-4ea6-b339-7ec74a8248e0",
   "metadata": {},
   "outputs": [
    {
     "name": "stdout",
     "output_type": "stream",
     "text": [
      "First sentence before removing punctuations\n",
      " Random forest algorithm is a supervised classification algorithm. As the name suggest, this algorithm creates the forest with a number of trees.\n",
      "\n",
      "First sentence after removing punctuations \n",
      " Random forest algorithm is a supervised classification algorithm  As the name suggest  this algorithm creates the forest with a number of trees  \n"
     ]
    }
   ],
   "source": [
    "print(f'First sentence before removing punctuations\\n {sentences[0]}')\n",
    "# Removing punctuations\n",
    "for index in range(len(sentences)):\n",
    "    sentences[index] = re.sub('[^a-zA-Z]',' ', str(sentences[index]))\n",
    "\n",
    "print(f'First sentence after removing punctuations \\n {sentences[0]}')"
   ]
  },
  {
   "cell_type": "code",
   "execution_count": 5,
   "id": "c980749f-9e62-4f97-8799-fcfe343fb025",
   "metadata": {},
   "outputs": [],
   "source": [
    "# Now we have to apply tokenization to all sentences."
   ]
  },
  {
   "cell_type": "code",
   "execution_count": 46,
   "id": "2ef15d7f-977a-460b-8c90-5e0514eeda2c",
   "metadata": {},
   "outputs": [
    {
     "name": "stdout",
     "output_type": "stream",
     "text": [
      "First sentence after tokenize \n",
      " ['Random', 'forest', 'algorithm', 'is', 'a', 'supervised', 'classification', 'algorithm', 'As', 'the', 'name', 'suggest', 'this', 'algorithm', 'creates', 'the', 'forest', 'with', 'a', 'number', 'of', 'trees']\n"
     ]
    }
   ],
   "source": [
    "# tokenize text of file into sentences\n",
    "word_tokenizer = []\n",
    "for sent in sentences:\n",
    "    word_tokens = word_tokenize(sent)\n",
    "    word_tokenizer.append(word_tokens)\n",
    "\n",
    "print(f'First sentence after tokenize \\n {word_tokenizer[0]}')"
   ]
  },
  {
   "cell_type": "code",
   "execution_count": 7,
   "id": "42e10c91-cbc8-404e-a4d9-645d34f02991",
   "metadata": {},
   "outputs": [],
   "source": [
    "# Building word2vec with CBOW method"
   ]
  },
  {
   "cell_type": "code",
   "execution_count": 47,
   "id": "7a1b4c5e-79f0-408c-a992-0a405f226ebc",
   "metadata": {},
   "outputs": [
    {
     "name": "stdout",
     "output_type": "stream",
     "text": [
      "Total number of words36\n"
     ]
    },
    {
     "data": {
      "text/plain": [
       "array([-0.02753039,  0.01169586], dtype=float32)"
      ]
     },
     "execution_count": 47,
     "metadata": {},
     "output_type": "execute_result"
    }
   ],
   "source": [
    "# Predict center word using context words within window size\n",
    "# Import word2vec class from gensim\n",
    "from gensim.models import Word2Vec\n",
    "# Apply word2vec to sentences\n",
    "model_cbow = Word2Vec(sentences=word_tokenizer,\n",
    "                      vector_size=2, # number of dimensions default 100\n",
    "                      window=2, # window size default 5\n",
    "                      min_count=2, # minimum count of words to be consider default 5\n",
    "                      workers=1, # workers default 3\n",
    "                      sg=0 # method 0 for CBOW and 1 for skip gram\n",
    "                     )\n",
    "\n",
    "# total vocabulary words for word 2 vec model\n",
    "words_cbow = list(model_cbow.wv.key_to_index)\n",
    "print(f'Total number of words{len(words_cbow)}')\n",
    "# we can get word embedding value for a particular word\n",
    "model_cbow.wv.__getitem__('forest')"
   ]
  },
  {
   "cell_type": "code",
   "execution_count": 48,
   "id": "0214459b-438e-41b1-a502-c44f3adae8c1",
   "metadata": {},
   "outputs": [
    {
     "data": {
      "image/png": "[encoded data removed]",
      "text/plain": [
       "<Figure size 640x480 with 1 Axes>"
      ]
     },
     "metadata": {},
     "output_type": "display_data"
    }
   ],
   "source": [
    "X = model_cbow.wv.__getitem__(model_cbow.wv.key_to_index)\n",
    "# create 2D model using PCA\n",
    "pca_model = PCA(n_components=2)\n",
    "result = pca_model.fit_transform(X)\n",
    "\n",
    "# visualize pca model using matplotlib\n",
    "plt.scatter(result[:,0], result[:,1])\n",
    "words_cbow = list(model_cbow.wv.key_to_index)\n",
    "for i, word in enumerate(words_cbow[:100]):\n",
    "    plt.annotate(text=word, xy=(result[i,0], result[i,1]))\n",
    "plt.show()"
   ]
  },
  {
   "cell_type": "code",
   "execution_count": 27,
   "id": "782c739b-bbde-437d-afd5-27d38e11d4c0",
   "metadata": {},
   "outputs": [],
   "source": [
    "# Building word2vec skip-gram method"
   ]
  },
  {
   "cell_type": "code",
   "execution_count": 49,
   "id": "24e52fa3-98ee-4bd2-88e8-81ac0a2fa305",
   "metadata": {},
   "outputs": [
    {
     "name": "stdout",
     "output_type": "stream",
     "text": [
      "Total number of words16\n",
      "[-0.46490774 -0.35530683]\n"
     ]
    }
   ],
   "source": [
    "from gensim.models import Word2Vec\n",
    "# Apply word2vec to sentences\n",
    "model_skip = Word2Vec(sentences=word_tokenizer,\n",
    "                      vector_size=2, # number of dimensions default 100\n",
    "                      window=2, # window size default 5\n",
    "                      min_count=4, # minimum count of words to be consider default 5\n",
    "                      workers=1, # workers default 3\n",
    "                      sg=1 # method 0 for CBOW and 1 for skip gram\n",
    "                     )\n",
    "\n",
    "# total vocabulary words for word 2 vec model\n",
    "words = list(model_skip.wv.key_to_index)\n",
    "print(f'Total number of words{len(words)}')\n",
    "# we can get word embedding value for a particular word\n",
    "wordembedding = model_skip.wv.__getitem__('forest')\n",
    "print(wordembedding)"
   ]
  },
  {
   "cell_type": "code",
   "execution_count": 50,
   "id": "45369704-6346-4b3c-9b15-01d46c71be53",
   "metadata": {},
   "outputs": [
    {
     "data": {
      "image/png": "[encoded data removed]",
      "text/plain": [
       "<Figure size 640x480 with 1 Axes>"
      ]
     },
     "metadata": {},
     "output_type": "display_data"
    }
   ],
   "source": [
    "X = model_skip.wv.__getitem__(model_skip.wv.key_to_index)\n",
    "# create 2D model using PCA\n",
    "pca_model = PCA(n_components=2)\n",
    "result = pca_model.fit_transform(X)\n",
    "\n",
    "# visualize pca model using matplotlib\n",
    "plt.scatter(result[:,0], result[:,1])\n",
    "words_skip = list(model_skip.wv.key_to_index)\n",
    "for i, word in enumerate(words_skip[:100]):\n",
    "    plt.annotate(text=word, xy=(result[i,0], result[i,1]))\n",
    "plt.show()"
   ]
  },
  {
   "cell_type": "code",
   "execution_count": null,
   "id": "1e9c1020-3ee6-4f3c-86c5-deedb1012fed",
   "metadata": {},
   "outputs": [],
   "source": []
  }
 ],
 "metadata": {
  "kernelspec": {
   "display_name": "Python 3 (ipykernel)",
   "language": "python",
   "name": "python3"
  },
  "language_info": {
   "codemirror_mode": {
    "name": "ipython",
    "version": 3
   },
   "file_extension": ".py",
   "mimetype": "text/x-python",
   "name": "python",
   "nbconvert_exporter": "python",
   "pygments_lexer": "ipython3",
   "version": "3.10.0"
  }
 },
 "nbformat": 4,
 "nbformat_minor": 5
}
