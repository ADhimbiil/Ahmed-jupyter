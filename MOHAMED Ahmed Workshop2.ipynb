{
 "cells": [
  {
   "cell_type": "code",
   "execution_count": 120,
   "id": "943b70f9",
   "metadata": {},
   "outputs": [
    {
     "data": {
      "text/plain": [
       "{'Nom': 'MOHAMED', 'Prenom': 'Ahmed', 'sexe': 'M', 'Solde': 2500}"
      ]
     },
     "execution_count": 120,
     "metadata": {},
     "output_type": "execute_result"
    }
   ],
   "source": [
    "# Step 1\n",
    "\n",
    "client1 = {\n",
    "    \"Nom\": \"MOHAMED\",\n",
    "    \"Prenom\": \"Ahmed\",\n",
    "    \"sexe\": \"M\",\n",
    "    \"Solde\": 2500\n",
    "}\n",
    "client1"
   ]
  },
  {
   "cell_type": "code",
   "execution_count": 58,
   "id": "27db37ba",
   "metadata": {},
   "outputs": [
    {
     "name": "stdout",
     "output_type": "stream",
     "text": [
      "Nom MOHAMED\n",
      "Prenom Ahmed\n",
      "Sexe M\n",
      "Solde 2500\n"
     ]
    }
   ],
   "source": [
    "# Step 2\n",
    "# Printing client1 data\n",
    "for key in client1:\n",
    "    print(key,client1[key])"
   ]
  },
  {
   "cell_type": "code",
   "execution_count": 136,
   "id": "1666c7c5",
   "metadata": {},
   "outputs": [
    {
     "data": {
      "text/plain": [
       "{'Nom': 'MOHAMED', 'Prenom': 'Ahmed', 'sexe': 'M', 'Solde': 2500}"
      ]
     },
     "execution_count": 136,
     "metadata": {},
     "output_type": "execute_result"
    }
   ],
   "source": [
    "# Step 3 \n",
    "# Create a list of 12 other dictionaries (clients) that have the same keys\n",
    "client2 = {\n",
    "    \"Nom\": \"\",\n",
    "    \"Prenom\": \"\",\n",
    "    \"Sexe\": \"\",\n",
    "    \"Solde\": \"\"\n",
    "}\n",
    "client3 = {\n",
    "    \"Nom\": \"\",\n",
    "    \"Prenom\": \"\",\n",
    "    \"Sexe\": \"\",\n",
    "    \"Solde\": \"\"\n",
    "}\n",
    "client4 = {\n",
    "    \"Nom\": \"\",\n",
    "    \"Prenom\": \"\",\n",
    "    \"Sexe\": \"\",\n",
    "    \"Solde\": \"\"\n",
    "}\n",
    "client5 = {\n",
    "    \"Nom\": \"\",\n",
    "    \"Prenom\": \"\",\n",
    "    \"Sexe\": \"\",\n",
    "    \"Solde\": \"\"\n",
    "}\n",
    "client6 = {\n",
    "    \"Nom\": \"\",\n",
    "    \"Prenom\": \"\",\n",
    "    \"Sexe\": \"\",\n",
    "    \"Solde\": \"\"\n",
    "}\n",
    "client7 = {\n",
    "    \"Nom\": \"\",\n",
    "    \"Prenom\": \"\",\n",
    "    \"Sexe\": \"\",\n",
    "    \"Solde\": \"\"\n",
    "}\n",
    "client8 = {\n",
    "    \"Nom\": \"\",\n",
    "    \"Prenom\": \"\",\n",
    "    \"Sexe\": \"\",\n",
    "    \"Solde\": \"\"\n",
    "}\n",
    "client9 = {\n",
    "    \"Nom\": \"\",\n",
    "    \"Prenom\": \"\",\n",
    "    \"Sexe\": \"\",\n",
    "    \"Solde\": \"\"\n",
    "}\n",
    "client10 = {\n",
    "    \"Nom\": \"\",\n",
    "    \"Prenom\": \"\",\n",
    "    \"Sexe\": \"\",\n",
    "    \"Solde\": \"\"\n",
    "}\n",
    "client11 = {\n",
    "    \"Nom\": \"\",\n",
    "    \"Prenom\": \"\",\n",
    "    \"Sexe\": \"\",\n",
    "    \"Solde\": \"\"\n",
    "}\n",
    "client12 = {\n",
    "    \"Nom\": \"\",\n",
    "    \"Prenom\": \"\",\n",
    "    \"Sexe\": \"\",\n",
    "    \"Solde\": \"\"\n",
    "}\n",
    "client13 = {\n",
    "    \"Nom\": \"\",\n",
    "    \"Prenom\": \"\",\n",
    "    \"Sexe\": \"\",\n",
    "    \"Solde\": \"\"\n",
    "}\n",
    "client2={}\n",
    "client3={}\n",
    "client4={}\n",
    "client5={}\n",
    "client6={}\n",
    "client7={}\n",
    "client8={}\n",
    "client9={}\n",
    "client10={}\n",
    "client11={}\n",
    "client12={}\n",
    "client13={}\n",
    "\n",
    "# Put all 12 dictionaries in one list\n",
    "\n",
    "list_client = [client1,client2,client3,client4,client5,client6,client7,client8,client9,client10,client11,client12,client13]\n",
    "list_client[0]"
   ]
  },
  {
   "cell_type": "code",
   "execution_count": 13,
   "id": "a056c9f3",
   "metadata": {},
   "outputs": [
    {
     "data": {
      "text/plain": [
       "dict_values(['MOHAMED', 'Ahmed', 'M', 2500])"
      ]
     },
     "execution_count": 13,
     "metadata": {},
     "output_type": "execute_result"
    }
   ],
   "source": [
    "client1.values()"
   ]
  },
  {
   "cell_type": "code",
   "execution_count": 137,
   "id": "b596a0be",
   "metadata": {},
   "outputs": [
    {
     "data": {
      "text/plain": [
       "2500"
      ]
     },
     "execution_count": 137,
     "metadata": {},
     "output_type": "execute_result"
    }
   ],
   "source": [
    "client1[key]"
   ]
  },
  {
   "cell_type": "code",
   "execution_count": 42,
   "id": "ba15da97",
   "metadata": {},
   "outputs": [
    {
     "data": {
      "text/plain": [
       "{'Nom': 'MOHAMED',\n",
       " 'Prenom': 'Bartosz',\n",
       " 'Sexe': 'M',\n",
       " 'Solde': '2000',\n",
       " 'sexe': 'M'}"
      ]
     },
     "execution_count": 42,
     "metadata": {},
     "output_type": "execute_result"
    }
   ],
   "source": [
    "client1[\"Nom\"]=\"MOHAMED\"\n",
    "client1"
   ]
  },
  {
   "cell_type": "code",
   "execution_count": 89,
   "id": "51aa0ff8",
   "metadata": {},
   "outputs": [],
   "source": [
    "# Step 4\n",
    "def clients():\n",
    "    for i in range (1,13):\n",
    "        #for j in range (1,4):\n",
    "        \n",
    "        list_client[i][\"Nom\"] = input(\"Enter the Surname of client\" +str(i)+ \": \")\n",
    "        list_client[i][\"Prenom\"] = input(\"Enter the name of client\" +str(i)+ \": \")\n",
    "        list_client[i][\"sexe\"] = input(\"Enter the Sex of client\" +str(i)+ \": \")\n",
    "        list_client[i][\"Solde\"] = input(\"Enter the Account Balance of client\" +str(i)+ \": \")\n",
    "        \n",
    "    return list_client"
   ]
  },
  {
   "cell_type": "code",
   "execution_count": 140,
   "id": "bbc30b7e",
   "metadata": {},
   "outputs": [
    {
     "name": "stdout",
     "output_type": "stream",
     "text": [
      "Enter the Surname of client1: AGU\n",
      "Enter the name of client1: Patrick\n",
      "Enter the Sex of client1: M\n",
      "Enter the Account Balance of client1: 3000\n",
      "Enter the Surname of client2: JANAS\n",
      "Enter the name of client2: Bartosz\n",
      "Enter the Sex of client2: M\n",
      "Enter the Account Balance of client2: 2000\n",
      "Enter the Surname of client3: BAYARCHULUUN\n",
      "Enter the name of client3: Munkherdene\n",
      "Enter the Sex of client3: M\n",
      "Enter the Account Balance of client3: 1500\n",
      "Enter the Surname of client4: BONNIN\n",
      "Enter the name of client4: Phillippe\n",
      "Enter the Sex of client4: M\n",
      "Enter the Account Balance of client4: 4500\n",
      "Enter the Surname of client5: CARREY\n",
      "Enter the name of client5: Raphael\n",
      "Enter the Sex of client5: M\n",
      "Enter the Account Balance of client5: 5000\n",
      "Enter the Surname of client6: CHELEDNIK\n",
      "Enter the name of client6: Alexandre\n",
      "Enter the Sex of client6: M\n",
      "Enter the Account Balance of client6: 3500\n",
      "Enter the Surname of client7: CHIKRI\n",
      "Enter the name of client7: Hassan\n",
      "Enter the Sex of client7: M\n",
      "Enter the Account Balance of client7: 2500\n",
      "Enter the Surname of client8: DESSOLIN\n",
      "Enter the name of client8: Thibaut\n",
      "Enter the Sex of client8: M\n",
      "Enter the Account Balance of client8: 4000\n",
      "Enter the Surname of client9: LAKHDAR EZZINE\n",
      "Enter the name of client9: Hadjer\n",
      "Enter the Sex of client9: F\n",
      "Enter the Account Balance of client9: 1000\n",
      "Enter the Surname of client10: MEUNIER\n",
      "Enter the name of client10: Alexis\n",
      "Enter the Sex of client10: M\n",
      "Enter the Account Balance of client10: 3000\n",
      "Enter the Surname of client11: SADOUN\n",
      "Enter the name of client11: Salah\n",
      "Enter the Sex of client11: M\n",
      "Enter the Account Balance of client11: 6000\n",
      "Enter the Surname of client12: THEUREAU\n",
      "Enter the name of client12: Paul\n",
      "Enter the Sex of client12: M\n",
      "Enter the Account Balance of client12: 4500\n"
     ]
    },
    {
     "data": {
      "text/plain": [
       "[{'Nom': 'MOHAMED', 'Prenom': 'Ahmed', 'sexe': 'M', 'Solde': 2500},\n",
       " {'Nom': 'AGU', 'Prenom': 'Patrick', 'sexe': 'M', 'Solde': '3000'},\n",
       " {'Nom': 'JANAS', 'Prenom': 'Bartosz', 'sexe': 'M', 'Solde': '2000'},\n",
       " {'Nom': 'BAYARCHULUUN',\n",
       "  'Prenom': 'Munkherdene',\n",
       "  'sexe': 'M',\n",
       "  'Solde': '1500'},\n",
       " {'Nom': 'BONNIN', 'Prenom': 'Phillippe', 'sexe': 'M', 'Solde': '4500'},\n",
       " {'Nom': 'CARREY', 'Prenom': 'Raphael', 'sexe': 'M', 'Solde': '5000'},\n",
       " {'Nom': 'CHELEDNIK', 'Prenom': 'Alexandre', 'sexe': 'M', 'Solde': '3500'},\n",
       " {'Nom': 'CHIKRI', 'Prenom': 'Hassan', 'sexe': 'M', 'Solde': '2500'},\n",
       " {'Nom': 'DESSOLIN', 'Prenom': 'Thibaut', 'sexe': 'M', 'Solde': '4000'},\n",
       " {'Nom': 'LAKHDAR EZZINE', 'Prenom': 'Hadjer', 'sexe': 'F', 'Solde': '1000'},\n",
       " {'Nom': 'MEUNIER', 'Prenom': 'Alexis', 'sexe': 'M', 'Solde': '3000'},\n",
       " {'Nom': 'SADOUN', 'Prenom': 'Salah', 'sexe': 'M', 'Solde': '6000'},\n",
       " {'Nom': 'THEUREAU', 'Prenom': 'Paul', 'sexe': 'M', 'Solde': '4500'}]"
      ]
     },
     "execution_count": 140,
     "metadata": {},
     "output_type": "execute_result"
    }
   ],
   "source": [
    "clients()"
   ]
  },
  {
   "cell_type": "code",
   "execution_count": 141,
   "id": "0fbd401f",
   "metadata": {},
   "outputs": [
    {
     "data": {
      "text/plain": [
       "[{'Nom': 'MOHAMED', 'Prenom': 'Ahmed', 'sexe': 'M', 'Solde': 2500},\n",
       " {'Nom': 'AGU', 'Prenom': 'Patrick', 'sexe': 'M', 'Solde': '3000'},\n",
       " {'Nom': 'JANAS', 'Prenom': 'Bartosz', 'sexe': 'M', 'Solde': '2000'},\n",
       " {'Nom': 'BAYARCHULUUN',\n",
       "  'Prenom': 'Munkherdene',\n",
       "  'sexe': 'M',\n",
       "  'Solde': '1500'},\n",
       " {'Nom': 'BONNIN', 'Prenom': 'Phillippe', 'sexe': 'M', 'Solde': '4500'},\n",
       " {'Nom': 'CARREY', 'Prenom': 'Raphael', 'sexe': 'M', 'Solde': '5000'},\n",
       " {'Nom': 'CHELEDNIK', 'Prenom': 'Alexandre', 'sexe': 'M', 'Solde': '3500'},\n",
       " {'Nom': 'CHIKRI', 'Prenom': 'Hassan', 'sexe': 'M', 'Solde': '2500'},\n",
       " {'Nom': 'DESSOLIN', 'Prenom': 'Thibaut', 'sexe': 'M', 'Solde': '4000'},\n",
       " {'Nom': 'LAKHDAR EZZINE', 'Prenom': 'Hadjer', 'sexe': 'F', 'Solde': '1000'},\n",
       " {'Nom': 'MEUNIER', 'Prenom': 'Alexis', 'sexe': 'M', 'Solde': '3000'},\n",
       " {'Nom': 'SADOUN', 'Prenom': 'Salah', 'sexe': 'M', 'Solde': '6000'},\n",
       " {'Nom': 'THEUREAU', 'Prenom': 'Paul', 'sexe': 'M', 'Solde': '4500'}]"
      ]
     },
     "execution_count": 141,
     "metadata": {},
     "output_type": "execute_result"
    }
   ],
   "source": [
    "list_client"
   ]
  },
  {
   "cell_type": "code",
   "execution_count": 142,
   "id": "13eacbba",
   "metadata": {},
   "outputs": [],
   "source": [
    "# Step 5\n",
    "list_client[3][\"Solde\"] = int(list_client[3][\"Solde\"]) - 500"
   ]
  },
  {
   "cell_type": "code",
   "execution_count": 143,
   "id": "596da97d",
   "metadata": {},
   "outputs": [
    {
     "data": {
      "text/plain": [
       "1000"
      ]
     },
     "execution_count": 143,
     "metadata": {},
     "output_type": "execute_result"
    }
   ],
   "source": [
    "list_client[3][\"Solde\"]"
   ]
  },
  {
   "cell_type": "code",
   "execution_count": 144,
   "id": "98b11426",
   "metadata": {},
   "outputs": [
    {
     "name": "stdout",
     "output_type": "stream",
     "text": [
      "42500\n"
     ]
    }
   ],
   "source": [
    "# Step 6\n",
    "total_solde = 0\n",
    "for k in range(0,13):\n",
    "    total_solde = total_solde + int(list_client[k][\"Solde\"])\n",
    "print(total_solde) "
   ]
  },
  {
   "cell_type": "code",
   "execution_count": 147,
   "id": "3687209b",
   "metadata": {},
   "outputs": [
    {
     "name": "stdout",
     "output_type": "stream",
     "text": [
      "There are  1  female clients\n",
      "There are  12  male clients\n"
     ]
    }
   ],
   "source": [
    "# Step 7\n",
    "female = 0\n",
    "male = 0\n",
    "for j in range (0,13):\n",
    "    if list_client[j][\"sexe\"] == \"M\":\n",
    "        male = male + 1\n",
    "    else: \n",
    "        female = female + 1\n",
    "print(\"There are \",female,\" female clients\")\n",
    "print(\"There are \",male,\" male clients\")"
   ]
  },
  {
   "cell_type": "code",
   "execution_count": 148,
   "id": "9d9a1ee3",
   "metadata": {},
   "outputs": [],
   "source": [
    "# Step 8\n",
    "client14={\n",
    "    \"Nom\" : \"KURDY\",\n",
    "    \"Prenom\" : \"Bassam\",\n",
    "    \"sexe\" : \"M\",\n",
    "    \"Solde\" : 2000\n",
    "}\n",
    "list_client.append(client14)"
   ]
  },
  {
   "cell_type": "code",
   "execution_count": 149,
   "id": "9fb89a0a",
   "metadata": {},
   "outputs": [
    {
     "data": {
      "text/plain": [
       "[{'Nom': 'MOHAMED', 'Prenom': 'Ahmed', 'sexe': 'M', 'Solde': 2500},\n",
       " {'Nom': 'AGU', 'Prenom': 'Patrick', 'sexe': 'M', 'Solde': '3000'},\n",
       " {'Nom': 'JANAS', 'Prenom': 'Bartosz', 'sexe': 'M', 'Solde': '2000'},\n",
       " {'Nom': 'BAYARCHULUUN', 'Prenom': 'Munkherdene', 'sexe': 'M', 'Solde': 1000},\n",
       " {'Nom': 'BONNIN', 'Prenom': 'Phillippe', 'sexe': 'M', 'Solde': '4500'},\n",
       " {'Nom': 'CARREY', 'Prenom': 'Raphael', 'sexe': 'M', 'Solde': '5000'},\n",
       " {'Nom': 'CHELEDNIK', 'Prenom': 'Alexandre', 'sexe': 'M', 'Solde': '3500'},\n",
       " {'Nom': 'CHIKRI', 'Prenom': 'Hassan', 'sexe': 'M', 'Solde': '2500'},\n",
       " {'Nom': 'DESSOLIN', 'Prenom': 'Thibaut', 'sexe': 'M', 'Solde': '4000'},\n",
       " {'Nom': 'LAKHDAR EZZINE', 'Prenom': 'Hadjer', 'sexe': 'F', 'Solde': '1000'},\n",
       " {'Nom': 'MEUNIER', 'Prenom': 'Alexis', 'sexe': 'M', 'Solde': '3000'},\n",
       " {'Nom': 'SADOUN', 'Prenom': 'Salah', 'sexe': 'M', 'Solde': '6000'},\n",
       " {'Nom': 'THEUREAU', 'Prenom': 'Paul', 'sexe': 'M', 'Solde': '4500'},\n",
       " {'Nom': 'KURDY', 'Prenom': 'Bassam', 'sexe': 'M', 'Solde': 2000}]"
      ]
     },
     "execution_count": 149,
     "metadata": {},
     "output_type": "execute_result"
    }
   ],
   "source": [
    "list_client"
   ]
  },
  {
   "cell_type": "code",
   "execution_count": 129,
   "id": "b8127478",
   "metadata": {},
   "outputs": [],
   "source": [
    "# This function calculates the factorial of a positive integer\n",
    "def factorial(n):\n",
    "    if n<0:\n",
    "        return \"Please Enter a positive integer\"\n",
    "    elif n==0:\n",
    "        return 1\n",
    "    fact = 1\n",
    "    for i in range(1,n+1):\n",
    "        fact = fact * i\n",
    "    return fact"
   ]
  },
  {
   "cell_type": "code",
   "execution_count": 130,
   "id": "cc946c8e",
   "metadata": {},
   "outputs": [
    {
     "data": {
      "text/plain": [
       "1"
      ]
     },
     "execution_count": 130,
     "metadata": {},
     "output_type": "execute_result"
    }
   ],
   "source": [
    "factorial(0)"
   ]
  },
  {
   "cell_type": "code",
   "execution_count": 131,
   "id": "06aa27e2",
   "metadata": {},
   "outputs": [
    {
     "data": {
      "text/plain": [
       "720"
      ]
     },
     "execution_count": 131,
     "metadata": {},
     "output_type": "execute_result"
    }
   ],
   "source": [
    "factorial(6)"
   ]
  },
  {
   "cell_type": "code",
   "execution_count": 132,
   "id": "ffc47dc2",
   "metadata": {},
   "outputs": [
    {
     "data": {
      "text/plain": [
       "'Please Enter a positive integer'"
      ]
     },
     "execution_count": 132,
     "metadata": {},
     "output_type": "execute_result"
    }
   ],
   "source": [
    "factorial(-1)"
   ]
  },
  {
   "cell_type": "code",
   "execution_count": 133,
   "id": "c7439fac",
   "metadata": {},
   "outputs": [],
   "source": [
    "def factoriel(n):\n",
    "    if n==0:\n",
    "        return 1\n",
    "    else:\n",
    "        return(n * factoriel(n-1))"
   ]
  },
  {
   "cell_type": "code",
   "execution_count": 135,
   "id": "111a863c",
   "metadata": {},
   "outputs": [
    {
     "data": {
      "text/plain": [
       "1"
      ]
     },
     "execution_count": 135,
     "metadata": {},
     "output_type": "execute_result"
    }
   ],
   "source": [
    "factoriel(1)"
   ]
  },
  {
   "cell_type": "code",
   "execution_count": 150,
   "id": "459ccffa",
   "metadata": {},
   "outputs": [
    {
     "data": {
      "text/plain": [
       "dict_values(['AGU', 'Patrick', 'M', '3000'])"
      ]
     },
     "execution_count": 150,
     "metadata": {},
     "output_type": "execute_result"
    }
   ],
   "source": [
    "list_client[1].values()"
   ]
  },
  {
   "cell_type": "code",
   "execution_count": 154,
   "id": "475337c4",
   "metadata": {},
   "outputs": [
    {
     "data": {
      "text/plain": [
       "dict_values(['BONNIN', 'Phillippe', 'M', '4500'])"
      ]
     },
     "execution_count": 154,
     "metadata": {},
     "output_type": "execute_result"
    }
   ],
   "source": [
    "client5.values()"
   ]
  },
  {
   "cell_type": "code",
   "execution_count": null,
   "id": "6199af5e",
   "metadata": {},
   "outputs": [],
   "source": []
  }
 ],
 "metadata": {
  "kernelspec": {
   "display_name": "Python 3 (ipykernel)",
   "language": "python",
   "name": "python3"
  },
  "language_info": {
   "codemirror_mode": {
    "name": "ipython",
    "version": 3
   },
   "file_extension": ".py",
   "mimetype": "text/x-python",
   "name": "python",
   "nbconvert_exporter": "python",
   "pygments_lexer": "ipython3",
   "version": "3.11.5"
  }
 },
 "nbformat": 4,
 "nbformat_minor": 5
}
