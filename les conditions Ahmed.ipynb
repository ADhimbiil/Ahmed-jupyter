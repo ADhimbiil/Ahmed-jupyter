{
 "cells": [
  {
   "cell_type": "code",
   "execution_count": 1,
   "id": "646cebf5",
   "metadata": {},
   "outputs": [
    {
     "data": {
      "text/plain": [
       "11"
      ]
     },
     "execution_count": 1,
     "metadata": {},
     "output_type": "execute_result"
    }
   ],
   "source": [
    "a=10\n",
    "if a>5:\n",
    "    a=a+1\n",
    "a"
   ]
  },
  {
   "cell_type": "code",
   "execution_count": 2,
   "id": "7dfe4a29",
   "metadata": {},
   "outputs": [
    {
     "data": {
      "text/plain": [
       "2"
      ]
     },
     "execution_count": 2,
     "metadata": {},
     "output_type": "execute_result"
    }
   ],
   "source": [
    "a=3\n",
    "if a<5:\n",
    "    a=a-1\n",
    "a"
   ]
  },
  {
   "cell_type": "code",
   "execution_count": 14,
   "id": "8124a105",
   "metadata": {},
   "outputs": [
    {
     "name": "stdout",
     "output_type": "stream",
     "text": [
      "Enter the value of a= 1\n"
     ]
    },
    {
     "data": {
      "text/plain": [
       "6"
      ]
     },
     "execution_count": 14,
     "metadata": {},
     "output_type": "execute_result"
    }
   ],
   "source": [
    "a=int(input('Enter the value of a= '))\n",
    "if a<5:\n",
    "    a+=5\n",
    "elif a>5:\n",
    "    a-=5\n",
    "else:\n",
    "    print('the value of a is = 5')\n",
    "a"
   ]
  },
  {
   "cell_type": "code",
   "execution_count": 15,
   "id": "d51b006d",
   "metadata": {},
   "outputs": [
    {
     "data": {
      "text/plain": [
       "7"
      ]
     },
     "execution_count": 15,
     "metadata": {},
     "output_type": "execute_result"
    }
   ],
   "source": [
    "x=4\n",
    "y=3\n",
    "x|y"
   ]
  },
  {
   "cell_type": "code",
   "execution_count": 16,
   "id": "07fd80c7",
   "metadata": {},
   "outputs": [
    {
     "data": {
      "text/plain": [
       "0"
      ]
     },
     "execution_count": 16,
     "metadata": {},
     "output_type": "execute_result"
    }
   ],
   "source": [
    "x&y"
   ]
  },
  {
   "cell_type": "code",
   "execution_count": 17,
   "id": "0005179a",
   "metadata": {},
   "outputs": [
    {
     "data": {
      "text/plain": [
       "3"
      ]
     },
     "execution_count": 17,
     "metadata": {},
     "output_type": "execute_result"
    }
   ],
   "source": [
    "x and y"
   ]
  },
  {
   "cell_type": "code",
   "execution_count": 18,
   "id": "b1ab4cba",
   "metadata": {},
   "outputs": [
    {
     "data": {
      "text/plain": [
       "True"
      ]
     },
     "execution_count": 18,
     "metadata": {},
     "output_type": "execute_result"
    }
   ],
   "source": [
    "(4<5) & (5<6)"
   ]
  },
  {
   "cell_type": "code",
   "execution_count": 19,
   "id": "0e33dd4c",
   "metadata": {},
   "outputs": [
    {
     "data": {
      "text/plain": [
       "True"
      ]
     },
     "execution_count": 19,
     "metadata": {},
     "output_type": "execute_result"
    }
   ],
   "source": [
    "(4<5) and (5<6)"
   ]
  },
  {
   "cell_type": "code",
   "execution_count": 20,
   "id": "7eefd1a1",
   "metadata": {},
   "outputs": [
    {
     "data": {
      "text/plain": [
       "True"
      ]
     },
     "execution_count": 20,
     "metadata": {},
     "output_type": "execute_result"
    }
   ],
   "source": [
    "(1==2) | (2>1)"
   ]
  },
  {
   "cell_type": "code",
   "execution_count": 21,
   "id": "2c113be4",
   "metadata": {},
   "outputs": [
    {
     "data": {
      "text/plain": [
       "True"
      ]
     },
     "execution_count": 21,
     "metadata": {},
     "output_type": "execute_result"
    }
   ],
   "source": [
    "(1==2) or (2>1)"
   ]
  },
  {
   "cell_type": "code",
   "execution_count": 22,
   "id": "f8c691fa",
   "metadata": {},
   "outputs": [
    {
     "data": {
      "text/plain": [
       "True"
      ]
     },
     "execution_count": 22,
     "metadata": {},
     "output_type": "execute_result"
    }
   ],
   "source": [
    "(2+2==4) and (2+2!=5) and (2*2)==(2+2)"
   ]
  },
  {
   "cell_type": "code",
   "execution_count": 23,
   "id": "23cf9b35",
   "metadata": {},
   "outputs": [
    {
     "name": "stdout",
     "output_type": "stream",
     "text": [
      "True\n",
      "<class 'bool'>\n"
     ]
    }
   ],
   "source": [
    "x= True\n",
    "print(x)\n",
    "print(type(x))"
   ]
  },
  {
   "cell_type": "code",
   "execution_count": 28,
   "id": "effe263b",
   "metadata": {},
   "outputs": [
    {
     "name": "stdout",
     "output_type": "stream",
     "text": [
      "0 The value of x is Zero\n",
      "-25 The value of x is Negative\n",
      "4.05 The value of x is Positive\n",
      "78 The value of x is Positive\n"
     ]
    }
   ],
   "source": [
    "def inspect(x):\n",
    "    if x==0:\n",
    "        print(x,'The value of x is Zero')\n",
    "    elif x>0:\n",
    "        print(x,'The value of x is Positive')\n",
    "    elif x<0:\n",
    "        print(x,'The value of x is Negative')\n",
    "    else:\n",
    "        print(x,'x is not a number')\n",
    "inspect(0)\n",
    "inspect(-25)\n",
    "inspect(4.05)\n",
    "inspect(78)"
   ]
  },
  {
   "cell_type": "code",
   "execution_count": 25,
   "id": "70e1d6ed",
   "metadata": {},
   "outputs": [
    {
     "name": "stdout",
     "output_type": "stream",
     "text": [
      "True The value of x is Positive\n"
     ]
    }
   ],
   "source": [
    "inspect(0)"
   ]
  },
  {
   "cell_type": "code",
   "execution_count": 29,
   "id": "fe351d4f",
   "metadata": {},
   "outputs": [
    {
     "name": "stdout",
     "output_type": "stream",
     "text": [
      "1\n",
      "-1\n",
      "0\n"
     ]
    }
   ],
   "source": [
    "def signe(y):\n",
    "    if y<0:# for a negative value\n",
    "        print('-1')\n",
    "    elif y>0:# for a positive value\n",
    "        print('1')\n",
    "    elif y==0:# for y=0\n",
    "        print('0')\n",
    "# If you enter a non numeric value\n",
    "    else:\n",
    "        print('Sorry....I do not know the answer')\n",
    "signe(98)\n",
    "signe(-77)\n",
    "signe(0)"
   ]
  },
  {
   "cell_type": "code",
   "execution_count": 30,
   "id": "cc9545fb",
   "metadata": {},
   "outputs": [],
   "source": [
    "def to_smash(total_candy,no_of_friends):\n",
    "# this function returns the remainder number of candy\n",
    "# after distributing among the number of friends\n",
    "    print('smash',total_candy,'candy')\n",
    "    return total_candy%no_of_friends\n"
   ]
  },
  {
   "cell_type": "code",
   "execution_count": 31,
   "id": "10907188",
   "metadata": {},
   "outputs": [
    {
     "name": "stdout",
     "output_type": "stream",
     "text": [
      "smash 33 candy\n"
     ]
    },
    {
     "data": {
      "text/plain": [
       "3"
      ]
     },
     "execution_count": 31,
     "metadata": {},
     "output_type": "execute_result"
    }
   ],
   "source": [
    "to_smash(33,10)"
   ]
  },
  {
   "cell_type": "code",
   "execution_count": 32,
   "id": "24470e77",
   "metadata": {},
   "outputs": [
    {
     "name": "stdout",
     "output_type": "stream",
     "text": [
      "smash 33 candy\n"
     ]
    },
    {
     "data": {
      "text/plain": [
       "0"
      ]
     },
     "execution_count": 32,
     "metadata": {},
     "output_type": "execute_result"
    }
   ],
   "source": [
    "to_smash(33,11)"
   ]
  },
  {
   "cell_type": "code",
   "execution_count": 33,
   "id": "0cb3a21c",
   "metadata": {},
   "outputs": [
    {
     "name": "stdout",
     "output_type": "stream",
     "text": [
      "smash 1 candy\n"
     ]
    },
    {
     "data": {
      "text/plain": [
       "1"
      ]
     },
     "execution_count": 33,
     "metadata": {},
     "output_type": "execute_result"
    }
   ],
   "source": [
    "to_smash(1,4)"
   ]
  },
  {
   "cell_type": "code",
   "execution_count": 35,
   "id": "42267486",
   "metadata": {},
   "outputs": [
    {
     "data": {
      "text/plain": [
       "3"
      ]
     },
     "execution_count": 35,
     "metadata": {},
     "output_type": "execute_result"
    }
   ],
   "source": [
    "33//10"
   ]
  },
  {
   "cell_type": "code",
   "execution_count": 36,
   "id": "41586fa7",
   "metadata": {},
   "outputs": [],
   "source": [
    "def to_smash(total_candy,no_of_friends):\n",
    "# this function returns the remainder number of candy\n",
    "# after distributing among the number of friends\n",
    "    print('to distribute',total_candy,'candy')\n",
    "    return total_candy//no_of_friends"
   ]
  },
  {
   "cell_type": "code",
   "execution_count": 37,
   "id": "0b7d4f74",
   "metadata": {},
   "outputs": [
    {
     "name": "stdout",
     "output_type": "stream",
     "text": [
      "to distribute 33 candy\n"
     ]
    },
    {
     "data": {
      "text/plain": [
       "4"
      ]
     },
     "execution_count": 37,
     "metadata": {},
     "output_type": "execute_result"
    }
   ],
   "source": [
    "to_smash(33,8)"
   ]
  },
  {
   "cell_type": "code",
   "execution_count": 41,
   "id": "eaf42713",
   "metadata": {},
   "outputs": [
    {
     "ename": "IndentationError",
     "evalue": "expected an indented block after function definition on line 1 (3326717825.py, line 3)",
     "output_type": "error",
     "traceback": [
      "\u001b[1;36m  Cell \u001b[1;32mIn[41], line 3\u001b[1;36m\u001b[0m\n\u001b[1;33m    if avec_parapluie=True or pluie_intensite<5 and avec_capuche=True:\u001b[0m\n\u001b[1;37m    ^\u001b[0m\n\u001b[1;31mIndentationError\u001b[0m\u001b[1;31m:\u001b[0m expected an indented block after function definition on line 1\n"
     ]
    }
   ],
   "source": [
    "def pret_pour_meteo(avec_parapluie, pluie_intensite, avec_capuche, est_jour_de_travail):\n",
    "   # Ne modifiez pas ce code. Notre objectif est simplement de trouver le bug, pas de le corriger!\n",
    "if avec_parapluie=True or pluie_intensite<5 and avec_capuche=True:\n",
    "    print('I am good')\n",
    "elif pluie_intensite>5 and est_jour_de_travail=True:\n",
    "    print('I am not happy')\n",
    "    return avec_parapluie or pluie_intensite < 5 and avec_capuche or not pluie_intensite > 0 and est_jour_de_travail\n",
    "\n",
    "# Modifiez les valeurs de ces entrées afin qu'elles représentent un cas où pret_pour_meteo\n",
    "# renvoie la mauvaise réponse.\n",
    "avec_parapluie = True\n",
    "pluie_intensite = 0.0\n",
    "avec_capuche = True\n",
    "est_jour_de_travail = True\n",
    "\n",
    "# Vérifiez ce que la fonction retourne étant donné les valeurs actuelles des variables ci-dessus\n",
    "actuel = pret_pour_meteo(avec_parapluie, pluie_intensite, avec_capuche, est_jour_de_travail)\n",
    "print(actuel)"
   ]
  },
  {
   "cell_type": "code",
   "execution_count": 42,
   "id": "816a2943",
   "metadata": {},
   "outputs": [
    {
     "name": "stdout",
     "output_type": "stream",
     "text": [
      "True\n"
     ]
    }
   ],
   "source": [
    "def pret_pour_meteo(avec_parapluie, pluie_intensite, avec_capuche, est_jour_de_travail):\n",
    "    # Ne modifiez pas ce code. Notre objectif est simplement de trouver le bug, pas de le corriger!\n",
    "    return avec_parapluie or pluie_intensite < 5 and avec_capuche or not pluie_intensite > 0 and est_jour_de_travail\n",
    "\n",
    "# Modifiez les valeurs de ces entrées afin qu'elles représentent un cas où pret_pour_meteo\n",
    "# renvoie la mauvaise réponse.\n",
    "avec_parapluie = True\n",
    "pluie_intensite = 0.0\n",
    "avec_capuche = True\n",
    "est_jour_de_travail = True\n",
    "\n",
    "# Vérifiez ce que la fonction retourne étant donné les valeurs actuelles des variables ci-dessus\n",
    "actuel = pret_pour_meteo(avec_parapluie, pluie_intensite, avec_capuche, est_jour_de_travail)\n",
    "print(actuel)"
   ]
  },
  {
   "cell_type": "code",
   "execution_count": 43,
   "id": "25cc14db",
   "metadata": {},
   "outputs": [
    {
     "data": {
      "text/plain": [
       "True"
      ]
     },
     "execution_count": 43,
     "metadata": {},
     "output_type": "execute_result"
    }
   ],
   "source": [
    "pret_pour_meteo(True,6,True,True)"
   ]
  },
  {
   "cell_type": "code",
   "execution_count": 44,
   "id": "997c7fb6",
   "metadata": {},
   "outputs": [],
   "source": [
    "def is_negative(number):\n",
    "    if number < 0:\n",
    "        return True\n",
    "    else:\n",
    "        return False\n"
   ]
  },
  {
   "cell_type": "code",
   "execution_count": 45,
   "id": "a9417839",
   "metadata": {},
   "outputs": [
    {
     "data": {
      "text/plain": [
       "True"
      ]
     },
     "execution_count": 45,
     "metadata": {},
     "output_type": "execute_result"
    }
   ],
   "source": [
    "is_negative(-8)"
   ]
  },
  {
   "cell_type": "code",
   "execution_count": 46,
   "id": "3aac617a",
   "metadata": {},
   "outputs": [
    {
     "data": {
      "text/plain": [
       "False"
      ]
     },
     "execution_count": 46,
     "metadata": {},
     "output_type": "execute_result"
    }
   ],
   "source": [
    "is_negative(8)"
   ]
  },
  {
   "cell_type": "code",
   "execution_count": 66,
   "id": "d21d251c",
   "metadata": {},
   "outputs": [],
   "source": [
    "def concise_is_negative(number):\n",
    "    return signe(number)\n",
    "# Your code goes here (try to keep it to one line!)"
   ]
  },
  {
   "cell_type": "code",
   "execution_count": 67,
   "id": "d94867f9",
   "metadata": {},
   "outputs": [
    {
     "name": "stdout",
     "output_type": "stream",
     "text": [
      "-1\n"
     ]
    }
   ],
   "source": [
    "concise_is_negative(-6)"
   ]
  },
  {
   "cell_type": "code",
   "execution_count": 58,
   "id": "14856798",
   "metadata": {},
   "outputs": [
    {
     "data": {
      "text/plain": [
       "False"
      ]
     },
     "execution_count": 58,
     "metadata": {},
     "output_type": "execute_result"
    }
   ],
   "source": [
    "concise_is_negative(6)"
   ]
  },
  {
   "cell_type": "code",
   "execution_count": 59,
   "id": "4fb899c0",
   "metadata": {},
   "outputs": [
    {
     "data": {
      "text/plain": [
       "True"
      ]
     },
     "execution_count": 59,
     "metadata": {},
     "output_type": "execute_result"
    }
   ],
   "source": [
    "z=8\n",
    "bool(int(z))"
   ]
  },
  {
   "cell_type": "code",
   "execution_count": 68,
   "id": "c3cadf57",
   "metadata": {},
   "outputs": [
    {
     "data": {
      "text/plain": [
       "1"
      ]
     },
     "execution_count": 68,
     "metadata": {},
     "output_type": "execute_result"
    }
   ],
   "source": [
    "int(bool(x==x))"
   ]
  },
  {
   "cell_type": "code",
   "execution_count": 69,
   "id": "06789b70",
   "metadata": {},
   "outputs": [
    {
     "data": {
      "text/plain": [
       "0"
      ]
     },
     "execution_count": 69,
     "metadata": {},
     "output_type": "execute_result"
    }
   ],
   "source": [
    "int(bool(x!=x))"
   ]
  },
  {
   "cell_type": "code",
   "execution_count": 80,
   "id": "4c85a298",
   "metadata": {},
   "outputs": [],
   "source": [
    "def wants_all_toppings(ketchup,mustard,onion):\n",
    "    if ketchup==True and mustard==True and onion==True:\n",
    "        return True\n",
    "    else:\n",
    "        return False"
   ]
  },
  {
   "cell_type": "code",
   "execution_count": 81,
   "id": "88380a82",
   "metadata": {},
   "outputs": [
    {
     "data": {
      "text/plain": [
       "True"
      ]
     },
     "execution_count": 81,
     "metadata": {},
     "output_type": "execute_result"
    }
   ],
   "source": [
    "wants_all_toppings(True,True,True)"
   ]
  },
  {
   "cell_type": "code",
   "execution_count": 82,
   "id": "559c74f3",
   "metadata": {},
   "outputs": [],
   "source": [
    "def wants_plain_hotdog(ketchup,mustard,onion):\n",
    "    if ketchup==False and mustard==False and onion==False:\n",
    "        return print('Good... you did not put sauce in the hot-dog')\n",
    "    else:\n",
    "        return print('You put sauce in the hot-dog')"
   ]
  },
  {
   "cell_type": "code",
   "execution_count": 83,
   "id": "dd3c205b",
   "metadata": {},
   "outputs": [
    {
     "name": "stdout",
     "output_type": "stream",
     "text": [
      "You put sauce in the hot-dog\n"
     ]
    }
   ],
   "source": [
    "wants_plain_hotdog(False,False,True)"
   ]
  },
  {
   "cell_type": "code",
   "execution_count": 84,
   "id": "1715280a",
   "metadata": {},
   "outputs": [
    {
     "name": "stdout",
     "output_type": "stream",
     "text": [
      "Good... you did not put sauce in the hot-dog\n"
     ]
    }
   ],
   "source": [
    "wants_plain_hotdog(False,False,False)"
   ]
  },
  {
   "cell_type": "code",
   "execution_count": 99,
   "id": "aa4a77cd",
   "metadata": {},
   "outputs": [],
   "source": [
    "def exactly_one_sauce(ketchup,mustard,onion):\n",
    "    if ketchup==True and not mustard==True and onion==False:\n",
    "        return print('Good... you used ketchup only')\n",
    "    elif mustard==True and not ketchup==True and onion==False:\n",
    "        return print('Good... you used mustard only')\n",
    "    elif onion==True:\n",
    "        return print('OOh no I told you no onions')\n",
    "    else:\n",
    "        return print('OOH no you put both of sauce ketchup and mustard')\n",
    "    "
   ]
  },
  {
   "cell_type": "code",
   "execution_count": 101,
   "id": "ee1a3b78",
   "metadata": {},
   "outputs": [
    {
     "name": "stdout",
     "output_type": "stream",
     "text": [
      "OOH no you put both of sauce ketchup and mustard\n"
     ]
    }
   ],
   "source": [
    "exactly_one_sauce(True,True,False)"
   ]
  },
  {
   "cell_type": "code",
   "execution_count": 105,
   "id": "410f0cdc",
   "metadata": {},
   "outputs": [
    {
     "name": "stdout",
     "output_type": "stream",
     "text": [
      "Good... you used ketchup only\n"
     ]
    }
   ],
   "source": [
    "exactly_one_sauce(True,False,False)"
   ]
  },
  {
   "cell_type": "code",
   "execution_count": 103,
   "id": "ad5539c7",
   "metadata": {},
   "outputs": [
    {
     "name": "stdout",
     "output_type": "stream",
     "text": [
      "Good... you used mustard only\n"
     ]
    }
   ],
   "source": [
    "exactly_one_sauce(False,True,False)"
   ]
  },
  {
   "cell_type": "code",
   "execution_count": 118,
   "id": "09d024a2",
   "metadata": {},
   "outputs": [],
   "source": [
    "def exactly_one_topping(ketchup,mustard,onion):\n",
    "    if ketchup==True and not mustard==True and not onion==True:\n",
    "        return print('you used ketchup only')\n",
    "    elif not ketchup==True and mustard==True and not onion==True:\n",
    "        return print('you used mustard only')\n",
    "    elif not ketchup==True and not mustard==True and onion==True:\n",
    "        return print('you used onion only')\n",
    "    else:\n",
    "        return print('you put none or more than one sauce')\n",
    " "
   ]
  },
  {
   "cell_type": "code",
   "execution_count": 122,
   "id": "5ab4ef58",
   "metadata": {},
   "outputs": [
    {
     "name": "stdout",
     "output_type": "stream",
     "text": [
      "you used onion only\n"
     ]
    }
   ],
   "source": [
    "exactly_one_topping(False,False,True)"
   ]
  },
  {
   "cell_type": "code",
   "execution_count": 134,
   "id": "8803cb5f",
   "metadata": {},
   "outputs": [],
   "source": [
    "def bissextile():\n",
    "    annee=int(input(\"Saisissez une annee : \"))\n",
    "    if (annee % 4)==0 and (annee % 100)==0 and (annee % 400)==0:\n",
    "        return print(\"l'annee est bissextile\")\n",
    "    elif (annee % 4)!=0:\n",
    "        return print(\"l'annee n'est pas bissextile\")\n",
    "    else:\n",
    "        return print(\"l'annee est bissextile\")"
   ]
  },
  {
   "cell_type": "code",
   "execution_count": 142,
   "id": "dd5fa513",
   "metadata": {},
   "outputs": [
    {
     "name": "stdout",
     "output_type": "stream",
     "text": [
      "Saisissez une annee : 1994\n",
      "l'annee n'est pas bissextile\n"
     ]
    }
   ],
   "source": [
    "bissextile()"
   ]
  },
  {
   "cell_type": "code",
   "execution_count": null,
   "id": "188ee5b2",
   "metadata": {},
   "outputs": [],
   "source": []
  }
 ],
 "metadata": {
  "kernelspec": {
   "display_name": "Python 3 (ipykernel)",
   "language": "python",
   "name": "python3"
  },
  "language_info": {
   "codemirror_mode": {
    "name": "ipython",
    "version": 3
   },
   "file_extension": ".py",
   "mimetype": "text/x-python",
   "name": "python",
   "nbconvert_exporter": "python",
   "pygments_lexer": "ipython3",
   "version": "3.11.5"
  }
 },
 "nbformat": 4,
 "nbformat_minor": 5
}
