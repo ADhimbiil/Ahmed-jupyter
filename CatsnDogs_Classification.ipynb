{
 "cells": [
  {
   "cell_type": "code",
   "execution_count": 2,
   "id": "2f9d9031-91d1-4cc3-88e1-7d13545b84fc",
   "metadata": {},
   "outputs": [],
   "source": [
    "# use opencv to load and display the image\n",
    "import os\n",
    "import cv2\n",
    "from skimage.io import imread, imsave, imshow\n",
    "import numpy as np\n",
    "import matplotlib.pyplot as plt"
   ]
  },
  {
   "cell_type": "code",
   "execution_count": 4,
   "id": "3b2f2df9-44ec-4895-87af-97dd46a27007",
   "metadata": {},
   "outputs": [
    {
     "name": "stdout",
     "output_type": "stream",
     "text": [
      "Erreur: Image corrompue ou inexistante: PetImages/Cat/10125.jpg\n",
      "Erreur: Image corrompue ou inexistante: PetImages/Cat/10404.jpg\n",
      "Erreur: Image corrompue ou inexistante: PetImages/Cat/10501.jpg\n",
      "Erreur: Image corrompue ou inexistante: PetImages/Cat/10820.jpg\n",
      "Erreur: Image corrompue ou inexistante: PetImages/Cat/11210.jpg\n",
      "Erreur: Image corrompue ou inexistante: PetImages/Cat/11565.jpg\n",
      "Erreur: Image corrompue ou inexistante: PetImages/Cat/11874.jpg\n",
      "Erreur: Image corrompue ou inexistante: PetImages/Cat/11935.jpg\n",
      "Erreur: Image corrompue ou inexistante: PetImages/Cat/140.jpg\n",
      "Erreur: Image corrompue ou inexistante: PetImages/Cat/2663.jpg\n",
      "Erreur: Image corrompue ou inexistante: PetImages/Cat/3300.jpg\n",
      "Erreur: Image corrompue ou inexistante: PetImages/Cat/3491.jpg\n",
      "Erreur: Image corrompue ou inexistante: PetImages/Cat/4833.jpg\n",
      "Erreur: Image corrompue ou inexistante: PetImages/Cat/5553.jpg\n",
      "Erreur: Image corrompue ou inexistante: PetImages/Cat/660.jpg\n",
      "Erreur: Image corrompue ou inexistante: PetImages/Cat/666.jpg\n",
      "Erreur: Image corrompue ou inexistante: PetImages/Cat/7968.jpg\n",
      "Erreur: Image corrompue ou inexistante: PetImages/Cat/7978.jpg\n",
      "Erreur: Image corrompue ou inexistante: PetImages/Cat/8470.jpg\n",
      "Erreur: Image corrompue ou inexistante: PetImages/Cat/850.jpg\n",
      "Erreur: Image corrompue ou inexistante: PetImages/Cat/9171.jpg\n",
      "Erreur: Image corrompue ou inexistante: PetImages/Cat/936.jpg\n",
      "Erreur: Image corrompue ou inexistante: PetImages/Cat/9565.jpg\n",
      "Erreur: Image corrompue ou inexistante: PetImages/Cat/9778.jpg\n",
      "Erreur: Image corrompue ou inexistante: PetImages/Cat/Thumbs.db\n",
      "Erreur: Image corrompue ou inexistante: PetImages/Dog/10158.jpg\n",
      "Erreur: Image corrompue ou inexistante: PetImages/Dog/10401.jpg\n",
      "Erreur: Image corrompue ou inexistante: PetImages/Dog/10747.jpg\n",
      "Erreur: Image corrompue ou inexistante: PetImages/Dog/10797.jpg\n",
      "Erreur: Image corrompue ou inexistante: PetImages/Dog/11410.jpg\n",
      "Erreur: Image corrompue ou inexistante: PetImages/Dog/11675.jpg\n",
      "Erreur: Image corrompue ou inexistante: PetImages/Dog/11702.jpg\n",
      "Erreur: Image corrompue ou inexistante: PetImages/Dog/11849.jpg\n",
      "Erreur: Image corrompue ou inexistante: PetImages/Dog/11853.jpg\n",
      "Erreur: Image corrompue ou inexistante: PetImages/Dog/1308.jpg\n",
      "Erreur: Image corrompue ou inexistante: PetImages/Dog/1866.jpg\n",
      "Erreur: Image corrompue ou inexistante: PetImages/Dog/2107.jpg\n",
      "Forme des images:  (16198, 150, 150, 3)\n",
      "Forme des labels:  (16198,)\n"
     ]
    },
    {
     "data": {
      "text/html": [
       "<style>#sk-container-id-1 {color: black;}#sk-container-id-1 pre{padding: 0;}#sk-container-id-1 div.sk-toggleable {background-color: white;}#sk-container-id-1 label.sk-toggleable__label {cursor: pointer;display: block;width: 100%;margin-bottom: 0;padding: 0.3em;box-sizing: border-box;text-align: center;}#sk-container-id-1 label.sk-toggleable__label-arrow:before {content: \"▸\";float: left;margin-right: 0.25em;color: #696969;}#sk-container-id-1 label.sk-toggleable__label-arrow:hover:before {color: black;}#sk-container-id-1 div.sk-estimator:hover label.sk-toggleable__label-arrow:before {color: black;}#sk-container-id-1 div.sk-toggleable__content {max-height: 0;max-width: 0;overflow: hidden;text-align: left;background-color: #f0f8ff;}#sk-container-id-1 div.sk-toggleable__content pre {margin: 0.2em;color: black;border-radius: 0.25em;background-color: #f0f8ff;}#sk-container-id-1 input.sk-toggleable__control:checked~div.sk-toggleable__content {max-height: 200px;max-width: 100%;overflow: auto;}#sk-container-id-1 input.sk-toggleable__control:checked~label.sk-toggleable__label-arrow:before {content: \"▾\";}#sk-container-id-1 div.sk-estimator input.sk-toggleable__control:checked~label.sk-toggleable__label {background-color: #d4ebff;}#sk-container-id-1 div.sk-label input.sk-toggleable__control:checked~label.sk-toggleable__label {background-color: #d4ebff;}#sk-container-id-1 input.sk-hidden--visually {border: 0;clip: rect(1px 1px 1px 1px);clip: rect(1px, 1px, 1px, 1px);height: 1px;margin: -1px;overflow: hidden;padding: 0;position: absolute;width: 1px;}#sk-container-id-1 div.sk-estimator {font-family: monospace;background-color: #f0f8ff;border: 1px dotted black;border-radius: 0.25em;box-sizing: border-box;margin-bottom: 0.5em;}#sk-container-id-1 div.sk-estimator:hover {background-color: #d4ebff;}#sk-container-id-1 div.sk-parallel-item::after {content: \"\";width: 100%;border-bottom: 1px solid gray;flex-grow: 1;}#sk-container-id-1 div.sk-label:hover label.sk-toggleable__label {background-color: #d4ebff;}#sk-container-id-1 div.sk-serial::before {content: \"\";position: absolute;border-left: 1px solid gray;box-sizing: border-box;top: 0;bottom: 0;left: 50%;z-index: 0;}#sk-container-id-1 div.sk-serial {display: flex;flex-direction: column;align-items: center;background-color: white;padding-right: 0.2em;padding-left: 0.2em;position: relative;}#sk-container-id-1 div.sk-item {position: relative;z-index: 1;}#sk-container-id-1 div.sk-parallel {display: flex;align-items: stretch;justify-content: center;background-color: white;position: relative;}#sk-container-id-1 div.sk-item::before, #sk-container-id-1 div.sk-parallel-item::before {content: \"\";position: absolute;border-left: 1px solid gray;box-sizing: border-box;top: 0;bottom: 0;left: 50%;z-index: -1;}#sk-container-id-1 div.sk-parallel-item {display: flex;flex-direction: column;z-index: 1;position: relative;background-color: white;}#sk-container-id-1 div.sk-parallel-item:first-child::after {align-self: flex-end;width: 50%;}#sk-container-id-1 div.sk-parallel-item:last-child::after {align-self: flex-start;width: 50%;}#sk-container-id-1 div.sk-parallel-item:only-child::after {width: 0;}#sk-container-id-1 div.sk-dashed-wrapped {border: 1px dashed gray;margin: 0 0.4em 0.5em 0.4em;box-sizing: border-box;padding-bottom: 0.4em;background-color: white;}#sk-container-id-1 div.sk-label label {font-family: monospace;font-weight: bold;display: inline-block;line-height: 1.2em;}#sk-container-id-1 div.sk-label-container {text-align: center;}#sk-container-id-1 div.sk-container {/* jupyter's `normalize.less` sets `[hidden] { display: none; }` but bootstrap.min.css set `[hidden] { display: none !important; }` so we also need the `!important` here to be able to override the default hidden behavior on the sphinx rendered scikit-learn.org. See: https://github.com/scikit-learn/scikit-learn/issues/21755 */display: inline-block !important;position: relative;}#sk-container-id-1 div.sk-text-repr-fallback {display: none;}</style><div id=\"sk-container-id-1\" class=\"sk-top-container\"><div class=\"sk-text-repr-fallback\"><pre>RandomForestClassifier(n_jobs=-1, random_state=42)</pre><b>In a Jupyter environment, please rerun this cell to show the HTML representation or trust the notebook. <br />On GitHub, the HTML representation is unable to render, please try loading this page with nbviewer.org.</b></div><div class=\"sk-container\" hidden><div class=\"sk-item\"><div class=\"sk-estimator sk-toggleable\"><input class=\"sk-toggleable__control sk-hidden--visually\" id=\"sk-estimator-id-1\" type=\"checkbox\" checked><label for=\"sk-estimator-id-1\" class=\"sk-toggleable__label sk-toggleable__label-arrow\">RandomForestClassifier</label><div class=\"sk-toggleable__content\"><pre>RandomForestClassifier(n_jobs=-1, random_state=42)</pre></div></div></div></div></div>"
      ],
      "text/plain": [
       "RandomForestClassifier(n_jobs=-1, random_state=42)"
      ]
     },
     "execution_count": 4,
     "metadata": {},
     "output_type": "execute_result"
    }
   ],
   "source": [
    "# Préparer les données\n",
    "size = (150, 150)\n",
    "image_directory = 'PetImages/'\n",
    "images = []  # liste pour les images\n",
    "label = []  # liste pour les labels (0 ou 1) pour deux classes\n",
    "\n",
    "# Créer les répertoires de sortie s'ils n'existent pas\n",
    "os.makedirs('catsanddogs/ResizedImages/Cat/', exist_ok=True)\n",
    "os.makedirs('catsanddogs/ResizedImages/Dog/', exist_ok=True)\n",
    "\n",
    "# Lire les noms des images dans chaque sous-dossier\n",
    "cat_images = os.listdir(image_directory + 'Cat/')\n",
    "dog_images = os.listdir(image_directory + 'Dog/')\n",
    "\n",
    "# Boucle pour les images de chats\n",
    "for img_name in cat_images:\n",
    "    img_path = image_directory + 'Cat/' + img_name\n",
    "    try:\n",
    "        img = cv2.imread(img_path)\n",
    "        if img is None:\n",
    "            raise ValueError(f\"Image corrompue ou inexistante: {img_path}\")\n",
    "        img_resized = cv2.resize(img, size)\n",
    "        # Construire le nouveau chemin avec l'extension correcte\n",
    "        save_path = f'catsanddogs/ResizedImages/Cat/{img_name}'\n",
    "        cv2.imwrite(save_path, img_resized)\n",
    "        images.append(img_resized)\n",
    "        label.append(0)\n",
    "    except Exception as e:\n",
    "        print(f\"Erreur: {e}\")\n",
    "\n",
    "\n",
    "# Boucle pour les images de chiens\n",
    "for img_name in dog_images:\n",
    "    img_path = image_directory + 'Dog/' + img_name\n",
    "    try:\n",
    "        img = cv2.imread(img_path)\n",
    "        if img is None:\n",
    "            raise ValueError(f\"Image corrompue ou inexistante: {img_path}\")\n",
    "        img_resized = cv2.resize(img, size)\n",
    "        # Construire le nouveau chemin avec l'extension correcte\n",
    "        save_path = f'catsanddogs/ResizedImages/Dog/{img_name}'\n",
    "        cv2.imwrite(save_path, img_resized)\n",
    "        images.append(img_resized)\n",
    "        label.append(1)\n",
    "    except Exception as e:\n",
    "        print(f\"Erreur: {e}\")\n",
    "\n",
    "# Enregistrer les labels en tant que tableau NumPy\n",
    "np.save('catsanddogs/ResizedImages/Label.npy', label)\n",
    " \n",
    "# Afficher la forme\n",
    "print(\"Forme des images: \", np.array(images).shape)\n",
    "print(\"Forme des labels: \", np.array(label).shape)\n",
    " \n",
    "from sklearn.ensemble import RandomForestClassifier\n",
    "from sklearn.model_selection import train_test_split\n",
    "\n",
    "# Convertir `images` en un tableau numpy si ce n'est pas déjà fait\n",
    "images_np = np.array(images)\n",
    "\n",
    "# Redimensionner les données images pour le modèle d'apprentissage automatique\n",
    "images_reshaped = images_np.reshape(images_np.shape[0], -1)\n",
    "\n",
    "# Split les données en ensembles d'entraînement et de test avec stratification\n",
    "X_train, X_test, y_train, y_test = train_test_split(images_reshaped, label, test_size=0.2, stratify=label, random_state=42)\n",
    " \n",
    "# initialiser le classifier\n",
    "clf = RandomForestClassifier(random_state=42, n_jobs=-1)\n",
    " \n",
    "# entrainer le classifier\n",
    "clf.fit(X_train, y_train)"
   ]
  },
  {
   "cell_type": "code",
   "execution_count": null,
   "id": "9ab73588-30cb-4548-8ce1-47fccc412e0c",
   "metadata": {},
   "outputs": [],
   "source": []
  }
 ],
 "metadata": {
  "kernelspec": {
   "display_name": "Python 3 (ipykernel)",
   "language": "python",
   "name": "python3"
  },
  "language_info": {
   "codemirror_mode": {
    "name": "ipython",
    "version": 3
   },
   "file_extension": ".py",
   "mimetype": "text/x-python",
   "name": "python",
   "nbconvert_exporter": "python",
   "pygments_lexer": "ipython3",
   "version": "3.10.0"
  }
 },
 "nbformat": 4,
 "nbformat_minor": 5
}
