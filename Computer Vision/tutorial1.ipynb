{
 "cells": [
  {
   "cell_type": "code",
   "execution_count": 2,
   "id": "77d0927c-fc9e-4ef8-963e-b38288a0ab52",
   "metadata": {},
   "outputs": [
    {
     "name": "stdout",
     "output_type": "stream",
     "text": [
      "Collecting opencv-pythonNote: you may need to restart the kernel to use updated packages.\n",
      "\n",
      "  Downloading opencv_python-4.9.0.80-cp37-abi3-win_amd64.whl.metadata (20 kB)\n",
      "Requirement already satisfied: numpy>=1.21.2 in c:\\users\\dhimb\\anaconda3\\envs\\codeah\\lib\\site-packages (from opencv-python) (1.26.0)\n",
      "Downloading opencv_python-4.9.0.80-cp37-abi3-win_amd64.whl (38.6 MB)\n",
      "   ---------------------------------------- 0.0/38.6 MB ? eta -:--:--\n",
      "    --------------------------------------- 0.5/38.6 MB 10.5 MB/s eta 0:00:04\n",
      "   -- ------------------------------------- 2.7/38.6 MB 25.0 MB/s eta 0:00:02\n",
      "   ---- ----------------------------------- 4.7/38.6 MB 29.9 MB/s eta 0:00:02\n",
      "   ------ --------------------------------- 6.5/38.6 MB 31.7 MB/s eta 0:00:02\n",
      "   -------- ------------------------------- 8.2/38.6 MB 30.7 MB/s eta 0:00:01\n",
      "   ---------- ----------------------------- 10.0/38.6 MB 33.9 MB/s eta 0:00:01\n",
      "   ------------ --------------------------- 11.9/38.6 MB 36.4 MB/s eta 0:00:01\n",
      "   -------------- ------------------------- 13.8/38.6 MB 40.9 MB/s eta 0:00:01\n",
      "   ---------------- ----------------------- 15.7/38.6 MB 40.9 MB/s eta 0:00:01\n",
      "   ------------------ --------------------- 17.7/38.6 MB 43.7 MB/s eta 0:00:01\n",
      "   -------------------- ------------------- 19.3/38.6 MB 40.9 MB/s eta 0:00:01\n",
      "   --------------------- ------------------ 21.2/38.6 MB 40.9 MB/s eta 0:00:01\n",
      "   ----------------------- ---------------- 23.1/38.6 MB 40.9 MB/s eta 0:00:01\n",
      "   ------------------------- -------------- 25.0/38.6 MB 38.5 MB/s eta 0:00:01\n",
      "   -------------------------- ------------- 26.0/38.6 MB 40.9 MB/s eta 0:00:01\n",
      "   --------------------------- ------------ 27.0/38.6 MB 34.4 MB/s eta 0:00:01\n",
      "   ------------------------------- -------- 30.5/38.6 MB 38.5 MB/s eta 0:00:01\n",
      "   -------------------------------- ------- 31.5/38.6 MB 40.9 MB/s eta 0:00:01\n",
      "   --------------------------------- ------ 32.7/38.6 MB 32.8 MB/s eta 0:00:01\n",
      "   ------------------------------------ --- 35.6/38.6 MB 38.5 MB/s eta 0:00:01\n",
      "   -------------------------------------- - 37.5/38.6 MB 46.7 MB/s eta 0:00:01\n",
      "   ---------------------------------------  38.6/38.6 MB 40.9 MB/s eta 0:00:01\n",
      "   ---------------------------------------  38.6/38.6 MB 40.9 MB/s eta 0:00:01\n",
      "   ---------------------------------------  38.6/38.6 MB 40.9 MB/s eta 0:00:01\n",
      "   ---------------------------------------  38.6/38.6 MB 40.9 MB/s eta 0:00:01\n",
      "   ---------------------------------------  38.6/38.6 MB 40.9 MB/s eta 0:00:01\n",
      "   ---------------------------------------  38.6/38.6 MB 40.9 MB/s eta 0:00:01\n",
      "   ---------------------------------------  38.6/38.6 MB 40.9 MB/s eta 0:00:01\n",
      "   ---------------------------------------  38.6/38.6 MB 40.9 MB/s eta 0:00:01\n",
      "   ---------------------------------------  38.6/38.6 MB 40.9 MB/s eta 0:00:01\n",
      "   ---------------------------------------  38.6/38.6 MB 40.9 MB/s eta 0:00:01\n",
      "   ---------------------------------------  38.6/38.6 MB 40.9 MB/s eta 0:00:01\n",
      "   ---------------------------------------  38.6/38.6 MB 40.9 MB/s eta 0:00:01\n",
      "   ---------------------------------------- 38.6/38.6 MB 12.6 MB/s eta 0:00:00\n",
      "Installing collected packages: opencv-python\n",
      "Successfully installed opencv-python-4.9.0.80\n"
     ]
    }
   ],
   "source": [
    "pip install opencv-python"
   ]
  },
  {
   "cell_type": "code",
   "execution_count": 1,
   "id": "c1e0d8f8-c943-4a74-a900-1a481673b1e3",
   "metadata": {},
   "outputs": [],
   "source": [
    "import cv2"
   ]
  },
  {
   "cell_type": "code",
   "execution_count": 11,
   "id": "c21b5a71-cc7a-47c9-bfc3-9cb39b50d86a",
   "metadata": {},
   "outputs": [
    {
     "name": "stdout",
     "output_type": "stream",
     "text": [
      "(360, 509, 3)\n"
     ]
    },
    {
     "data": {
      "text/plain": [
       "True"
      ]
     },
     "execution_count": 11,
     "metadata": {},
     "output_type": "execute_result"
    }
   ],
   "source": [
    "img1 = cv2.imread('bird.jpg',1)\n",
    "print(img1.shape)\n",
    "cv2.imshow('Image Test', img1)\n",
    "cv2.waitKey(0)\n",
    "cv2.destroyAllWindows()\n",
    "\n",
    "cv2.imwrite('bird_as_png.png', img1)"
   ]
  },
  {
   "cell_type": "code",
   "execution_count": null,
   "id": "ee9898f5-200f-44cc-8572-52996bff9428",
   "metadata": {},
   "outputs": [],
   "source": []
  },
  {
   "cell_type": "code",
   "execution_count": 13,
   "id": "5c8ea8f6-568b-4065-b308-25433e8d2c67",
   "metadata": {},
   "outputs": [
    {
     "name": "stdout",
     "output_type": "stream",
     "text": [
      "(360, 509)\n",
      "L'Image a été Sauvegardée !\n"
     ]
    }
   ],
   "source": [
    "img1 = cv2.imread('bird.jpg',0)\n",
    "print(img1.shape)\n",
    "cv2.imshow('Image Test', img1)\n",
    "k = cv2.waitKey(0)\n",
    "if k == ord('s'):\n",
    "    cv2.imwrite('bird_as_gray.png', img1)\n",
    "    print(\"L'Image a été Sauvegardée !\")\n",
    "else:\n",
    "    cv2.destroyAllWindows()\n",
    "    print(\"Les fenétre ont été détruites !\")\n"
   ]
  },
  {
   "cell_type": "code",
   "execution_count": null,
   "id": "f5e34b29-4048-49b4-a001-29b219c2b38e",
   "metadata": {},
   "outputs": [],
   "source": []
  }
 ],
 "metadata": {
  "kernelspec": {
   "display_name": "Python 3 (ipykernel)",
   "language": "python",
   "name": "python3"
  },
  "language_info": {
   "codemirror_mode": {
    "name": "ipython",
    "version": 3
   },
   "file_extension": ".py",
   "mimetype": "text/x-python",
   "name": "python",
   "nbconvert_exporter": "python",
   "pygments_lexer": "ipython3",
   "version": "3.10.0"
  }
 },
 "nbformat": 4,
 "nbformat_minor": 5
}
