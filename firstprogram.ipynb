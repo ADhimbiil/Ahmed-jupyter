{
 "cells": [
  {
   "cell_type": "code",
   "execution_count": 1,
   "id": "a8d97df8",
   "metadata": {},
   "outputs": [
    {
     "name": "stdout",
     "output_type": "stream",
     "text": [
      "hello world\n"
     ]
    }
   ],
   "source": [
    "print('hello world')"
   ]
  },
  {
   "cell_type": "code",
   "execution_count": 7,
   "id": "84f35425",
   "metadata": {},
   "outputs": [
    {
     "name": "stdout",
     "output_type": "stream",
     "text": [
      "Enter the value of x=4\n",
      "The value of y= 25\n"
     ]
    }
   ],
   "source": [
    "## python program for solving y=x**2+(2*x)+1\n",
    "x=int(input('Enter the value of x='))\n",
    "y=x**2+(2*x)+1\n",
    "print('The value of y=',y)"
   ]
  },
  {
   "cell_type": "code",
   "execution_count": 21,
   "id": "552e9b83",
   "metadata": {},
   "outputs": [
    {
     "name": "stdout",
     "output_type": "stream",
     "text": [
      "0.8\n"
     ]
    },
    {
     "data": {
      "text/plain": [
       "True"
      ]
     },
     "execution_count": 21,
     "metadata": {},
     "output_type": "execute_result"
    }
   ],
   "source": [
    "x=float(0.2)\n",
    "y=float(0.6)\n",
    "z=float(x+y)\n",
    "print(z)\n",
    "bool(z==0.8)"
   ]
  },
  {
   "cell_type": "code",
   "execution_count": 20,
   "id": "9dc20140",
   "metadata": {},
   "outputs": [
    {
     "name": "stdout",
     "output_type": "stream",
     "text": [
      "Hello,World"
     ]
    }
   ],
   "source": [
    "print('Hello',sep=',''World')"
   ]
  },
  {
   "cell_type": "code",
   "execution_count": 22,
   "id": "38da2e0e",
   "metadata": {},
   "outputs": [
    {
     "data": {
      "text/plain": [
       "27"
      ]
     },
     "execution_count": 22,
     "metadata": {},
     "output_type": "execute_result"
    }
   ],
   "source": [
    "(1+2)**3"
   ]
  },
  {
   "cell_type": "code",
   "execution_count": 23,
   "id": "c69f2d32",
   "metadata": {},
   "outputs": [
    {
     "data": {
      "text/plain": [
       "'DaDaDa'"
      ]
     },
     "execution_count": 23,
     "metadata": {},
     "output_type": "execute_result"
    }
   ],
   "source": [
    "'Da'*3"
   ]
  },
  {
   "cell_type": "code",
   "execution_count": 24,
   "id": "cdaed7bb",
   "metadata": {},
   "outputs": [
    {
     "ename": "TypeError",
     "evalue": "can only concatenate str (not \"int\") to str",
     "output_type": "error",
     "traceback": [
      "\u001b[1;31m---------------------------------------------------------------------------\u001b[0m",
      "\u001b[1;31mTypeError\u001b[0m                                 Traceback (most recent call last)",
      "Cell \u001b[1;32mIn[24], line 1\u001b[0m\n\u001b[1;32m----> 1\u001b[0m \u001b[38;5;124m'\u001b[39m\u001b[38;5;124mDa\u001b[39m\u001b[38;5;124m'\u001b[39m\u001b[38;5;241m+\u001b[39m\u001b[38;5;241m4\u001b[39m\n",
      "\u001b[1;31mTypeError\u001b[0m: can only concatenate str (not \"int\") to str"
     ]
    }
   ],
   "source": [
    "'Da'+4"
   ]
  },
  {
   "cell_type": "code",
   "execution_count": 25,
   "id": "80847c1c",
   "metadata": {},
   "outputs": [
    {
     "data": {
      "text/plain": [
       "2.0"
      ]
     },
     "execution_count": 25,
     "metadata": {},
     "output_type": "execute_result"
    }
   ],
   "source": [
    "x=2\n",
    "float(x)"
   ]
  },
  {
   "cell_type": "code",
   "execution_count": 26,
   "id": "1c27b2f0",
   "metadata": {},
   "outputs": [
    {
     "data": {
      "text/plain": [
       "'2'"
      ]
     },
     "execution_count": 26,
     "metadata": {},
     "output_type": "execute_result"
    }
   ],
   "source": [
    "x=2\n",
    "str(x)"
   ]
  },
  {
   "cell_type": "code",
   "execution_count": 27,
   "id": "0c633298",
   "metadata": {},
   "outputs": [
    {
     "data": {
      "text/plain": [
       "1"
      ]
     },
     "execution_count": 27,
     "metadata": {},
     "output_type": "execute_result"
    }
   ],
   "source": [
    "x=1.5\n",
    "int(x)"
   ]
  },
  {
   "cell_type": "code",
   "execution_count": 28,
   "id": "70b8e927",
   "metadata": {},
   "outputs": [
    {
     "data": {
      "text/plain": [
       "'1.5'"
      ]
     },
     "execution_count": 28,
     "metadata": {},
     "output_type": "execute_result"
    }
   ],
   "source": [
    "x=1.50\n",
    "str(x)"
   ]
  },
  {
   "cell_type": "code",
   "execution_count": 29,
   "id": "df56a986",
   "metadata": {},
   "outputs": [
    {
     "data": {
      "text/plain": [
       "736"
      ]
     },
     "execution_count": 29,
     "metadata": {},
     "output_type": "execute_result"
    }
   ],
   "source": [
    "7+(3**6)"
   ]
  },
  {
   "cell_type": "code",
   "execution_count": 30,
   "id": "17f439da",
   "metadata": {},
   "outputs": [
    {
     "data": {
      "text/plain": [
       "343"
      ]
     },
     "execution_count": 30,
     "metadata": {},
     "output_type": "execute_result"
    }
   ],
   "source": [
    "(3+4)**3"
   ]
  },
  {
   "cell_type": "code",
   "execution_count": 31,
   "id": "a8d35acb",
   "metadata": {},
   "outputs": [
    {
     "data": {
      "text/plain": [
       "724"
      ]
     },
     "execution_count": 31,
     "metadata": {},
     "output_type": "execute_result"
    }
   ],
   "source": [
    "3**6-5"
   ]
  },
  {
   "cell_type": "code",
   "execution_count": 32,
   "id": "61277aa7",
   "metadata": {},
   "outputs": [
    {
     "data": {
      "text/plain": [
       "724"
      ]
     },
     "execution_count": 32,
     "metadata": {},
     "output_type": "execute_result"
    }
   ],
   "source": [
    "(3**6)-5"
   ]
  },
  {
   "cell_type": "code",
   "execution_count": 33,
   "id": "9bc4e238",
   "metadata": {},
   "outputs": [
    {
     "data": {
      "text/plain": [
       "1285"
      ]
     },
     "execution_count": 33,
     "metadata": {},
     "output_type": "execute_result"
    }
   ],
   "source": [
    "(1+2**8)*5"
   ]
  },
  {
   "cell_type": "code",
   "execution_count": 34,
   "id": "3408d2c8",
   "metadata": {},
   "outputs": [
    {
     "data": {
      "text/plain": [
       "1285"
      ]
     },
     "execution_count": 34,
     "metadata": {},
     "output_type": "execute_result"
    }
   ],
   "source": [
    "(1+(2**8))*5"
   ]
  },
  {
   "cell_type": "code",
   "execution_count": 35,
   "id": "d31a8179",
   "metadata": {},
   "outputs": [
    {
     "data": {
      "text/plain": [
       "2187"
      ]
     },
     "execution_count": 35,
     "metadata": {},
     "output_type": "execute_result"
    }
   ],
   "source": [
    "(2+1**8)**7"
   ]
  },
  {
   "cell_type": "code",
   "execution_count": 37,
   "id": "9579b3d0",
   "metadata": {},
   "outputs": [
    {
     "data": {
      "text/plain": [
       "2187"
      ]
     },
     "execution_count": 37,
     "metadata": {},
     "output_type": "execute_result"
    }
   ],
   "source": [
    "(2+(1**8))**7"
   ]
  },
  {
   "cell_type": "code",
   "execution_count": 38,
   "id": "161af996",
   "metadata": {},
   "outputs": [
    {
     "data": {
      "text/plain": [
       "'PaLaPaLa'"
      ]
     },
     "execution_count": 38,
     "metadata": {},
     "output_type": "execute_result"
    }
   ],
   "source": [
    "('Pa'+'La')*2"
   ]
  },
  {
   "cell_type": "code",
   "execution_count": 41,
   "id": "1bcb06a3",
   "metadata": {},
   "outputs": [
    {
     "data": {
      "text/plain": [
       "2.5"
      ]
     },
     "execution_count": 41,
     "metadata": {},
     "output_type": "execute_result"
    }
   ],
   "source": [
    "5/2"
   ]
  },
  {
   "cell_type": "code",
   "execution_count": 42,
   "id": "42a81244",
   "metadata": {},
   "outputs": [
    {
     "data": {
      "text/plain": [
       "2"
      ]
     },
     "execution_count": 42,
     "metadata": {},
     "output_type": "execute_result"
    }
   ],
   "source": [
    "5//2"
   ]
  },
  {
   "cell_type": "code",
   "execution_count": 43,
   "id": "21422d7f",
   "metadata": {},
   "outputs": [
    {
     "data": {
      "text/plain": [
       "1"
      ]
     },
     "execution_count": 43,
     "metadata": {},
     "output_type": "execute_result"
    }
   ],
   "source": [
    "5%2"
   ]
  },
  {
   "cell_type": "code",
   "execution_count": 44,
   "id": "0e62ddc4",
   "metadata": {},
   "outputs": [
    {
     "data": {
      "text/plain": [
       "3"
      ]
     },
     "execution_count": 44,
     "metadata": {},
     "output_type": "execute_result"
    }
   ],
   "source": [
    "int('3')"
   ]
  },
  {
   "cell_type": "code",
   "execution_count": 45,
   "id": "4c149870",
   "metadata": {},
   "outputs": [
    {
     "data": {
      "text/plain": [
       "'444'"
      ]
     },
     "execution_count": 45,
     "metadata": {},
     "output_type": "execute_result"
    }
   ],
   "source": [
    "str(4)*int('3')"
   ]
  },
  {
   "cell_type": "code",
   "execution_count": 49,
   "id": "2c736407",
   "metadata": {},
   "outputs": [
    {
     "data": {
      "text/plain": [
       "6.2"
      ]
     },
     "execution_count": 49,
     "metadata": {},
     "output_type": "execute_result"
    }
   ],
   "source": [
    "int('3')+float('3.2')"
   ]
  },
  {
   "cell_type": "code",
   "execution_count": 47,
   "id": "67b7431d",
   "metadata": {},
   "outputs": [
    {
     "ename": "TypeError",
     "evalue": "can't multiply sequence by non-int of type 'float'",
     "output_type": "error",
     "traceback": [
      "\u001b[1;31m---------------------------------------------------------------------------\u001b[0m",
      "\u001b[1;31mTypeError\u001b[0m                                 Traceback (most recent call last)",
      "Cell \u001b[1;32mIn[47], line 1\u001b[0m\n\u001b[1;32m----> 1\u001b[0m \u001b[38;5;28mstr\u001b[39m(\u001b[38;5;241m3\u001b[39m)\u001b[38;5;241m*\u001b[39m\u001b[38;5;28mfloat\u001b[39m(\u001b[38;5;124m'\u001b[39m\u001b[38;5;124m3.2\u001b[39m\u001b[38;5;124m'\u001b[39m)\n",
      "\u001b[1;31mTypeError\u001b[0m: can't multiply sequence by non-int of type 'float'"
     ]
    }
   ],
   "source": [
    "str(3)*float('3.2')"
   ]
  },
  {
   "cell_type": "code",
   "execution_count": 50,
   "id": "40d7445a",
   "metadata": {},
   "outputs": [
    {
     "data": {
      "text/plain": [
       "'0.750.75'"
      ]
     },
     "execution_count": 50,
     "metadata": {},
     "output_type": "execute_result"
    }
   ],
   "source": [
    "str(3/4)*2"
   ]
  },
  {
   "cell_type": "code",
   "execution_count": 55,
   "id": "dfb26989",
   "metadata": {},
   "outputs": [
    {
     "data": {
      "text/plain": [
       "3.14"
      ]
     },
     "execution_count": 55,
     "metadata": {},
     "output_type": "execute_result"
    }
   ],
   "source": [
    "pi=3.14\n",
    "e=2.71\n",
    "max(e, pi)"
   ]
  },
  {
   "cell_type": "code",
   "execution_count": 56,
   "id": "797857c8",
   "metadata": {},
   "outputs": [
    {
     "data": {
      "text/plain": [
       "'qwer'"
      ]
     },
     "execution_count": 56,
     "metadata": {},
     "output_type": "execute_result"
    }
   ],
   "source": [
    "max('asd','qwer')"
   ]
  },
  {
   "cell_type": "code",
   "execution_count": null,
   "id": "5cfc93e9",
   "metadata": {},
   "outputs": [],
   "source": []
  }
 ],
 "metadata": {
  "kernelspec": {
   "display_name": "Python 3 (ipykernel)",
   "language": "python",
   "name": "python3"
  },
  "language_info": {
   "codemirror_mode": {
    "name": "ipython",
    "version": 3
   },
   "file_extension": ".py",
   "mimetype": "text/x-python",
   "name": "python",
   "nbconvert_exporter": "python",
   "pygments_lexer": "ipython3",
   "version": "3.11.5"
  }
 },
 "nbformat": 4,
 "nbformat_minor": 5
}
